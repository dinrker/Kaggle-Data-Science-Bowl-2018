{
 "cells": [
  {
   "cell_type": "code",
   "execution_count": 115,
   "metadata": {},
   "outputs": [],
   "source": [
    "import skimage\n",
    "import glob\n",
    "import cv2\n",
    "import os\n",
    "import shutil\n",
    "import skimage\n",
    "import numpy as np\n",
    "import pandas as pd\n",
    "\n",
    "from skimage.io import imread, imsave\n",
    "\n",
    "import matplotlib.pyplot as plt\n",
    "%matplotlib inline"
   ]
  },
  {
   "cell_type": "code",
   "execution_count": 2,
   "metadata": {},
   "outputs": [
    {
     "data": {
      "text/plain": [
       "(256, 256, 3)      334\n",
       "(256, 320, 3)      112\n",
       "(520, 696, 3)       92\n",
       "(360, 360, 3)       91\n",
       "(1024, 1024, 3)     16\n",
       "(512, 640, 3)       13\n",
       "(603, 1272, 3)       6\n",
       "(260, 347, 3)        5\n",
       "(1040, 1388, 3)      1\n",
       "dtype: int64"
      ]
     },
     "execution_count": 2,
     "metadata": {},
     "output_type": "execute_result"
    }
   ],
   "source": [
    "image_paths = glob.glob('../input/stage1_train/*/images/*.png')\n",
    "train_shapes = []\n",
    "for path in image_paths:\n",
    "    img = cv2.imread(path)\n",
    "#     img = skimage.io.imread(path)\n",
    "    train_shapes.append(img.shape)\n",
    "pd.Series(train_shapes).value_counts()"
   ]
  },
  {
   "cell_type": "code",
   "execution_count": 3,
   "metadata": {},
   "outputs": [
    {
     "data": {
      "text/plain": [
       "(256, 256, 3)    24\n",
       "(512, 640, 3)     8\n",
       "(512, 680, 3)     8\n",
       "(260, 347, 3)     4\n",
       "(520, 696, 3)     4\n",
       "(520, 348, 3)     4\n",
       "(519, 253, 3)     4\n",
       "(524, 348, 3)     4\n",
       "(519, 161, 3)     2\n",
       "(519, 162, 3)     2\n",
       "(390, 239, 3)     1\n",
       "dtype: int64"
      ]
     },
     "execution_count": 3,
     "metadata": {},
     "output_type": "execute_result"
    }
   ],
   "source": [
    "image_paths = glob.glob('../input/stage1_test/*/images/*.png')\n",
    "test_shapes = []\n",
    "for path in image_paths:\n",
    "    img = cv2.imread(path)\n",
    "#     img = skimage.io.imread(path)\n",
    "    test_shapes.append(img.shape)\n",
    "pd.Series(test_shapes).value_counts()"
   ]
  },
  {
   "cell_type": "markdown",
   "metadata": {},
   "source": [
    "### cropping"
   ]
  },
  {
   "cell_type": "code",
   "execution_count": 103,
   "metadata": {},
   "outputs": [
    {
     "data": {
      "text/plain": [
       "(512, 640, 3)"
      ]
     },
     "execution_count": 103,
     "metadata": {},
     "output_type": "execute_result"
    }
   ],
   "source": [
    "img_id = '9ab2d381f90b485a68b82bc07f94397a0373e3215ad20935a958738e55f3cfc2'\n",
    "cv2.imread('../input/stage1_test/' + img_id + '/images/' + img_id + '.png').shape"
   ]
  },
  {
   "cell_type": "code",
   "execution_count": null,
   "metadata": {},
   "outputs": [],
   "source": []
  },
  {
   "cell_type": "code",
   "execution_count": 134,
   "metadata": {},
   "outputs": [],
   "source": [
    "exclude_ids = {'1cdbfee1951356e7b0a215073828695fe1ead5f8b1add119b6645d2fdc8d844e', \n",
    "               '505bc0a3928d8aef5ce441c5a611fdd32e1e8eccdc15cc3a52b88030acb50f81',\n",
    "              '9ab2d381f90b485a68b82bc07f94397a0373e3215ad20935a958738e55f3cfc2'}\n",
    "# exclude_ids = {}"
   ]
  },
  {
   "cell_type": "code",
   "execution_count": 135,
   "metadata": {},
   "outputs": [],
   "source": [
    "test_crops_path = \"../output/test_crops\"\n",
    "if not os.path.isdir(test_crops_path):\n",
    "    os.mkdir(test_crops_path)\n",
    "\n",
    "def image_split(path, exclude_ids):\n",
    "    counter = 0\n",
    "    img_id = path.split('/')[-1].split('.png')[0]\n",
    "    img = cv2.imread(path)\n",
    "    h, w = img.shape[0], img.shape[1]\n",
    "    hn, wn = 0, 0\n",
    "#     print(h, w)\n",
    "    hi, wi = round(h / 256.0), round(w / 256.0)\n",
    "    if (hi <= 1 and wi <= 1) or (img_id in exclude_ids):\n",
    "        np.save('../output/test_crops/' + img_id + '.npy', img[:,:,:])\n",
    "        counter += 1\n",
    "#         print(img[:,:,:].shape)\n",
    "    else:\n",
    "        hn, wn = round(h*1.0 / (2*hi))*2, round(w*1.0 / (2*wi))*2\n",
    "        for i in range(hi):\n",
    "            for j in range(wi):\n",
    "                crop = img[i*hn: min((i+1)*hn, h), j*wn: min((j+1)*wn, w), :]\n",
    "#                 print(crop.shape)\n",
    "                np.save('../output/test_crops/' + img_id + '_' + str(i) + '_' + str(j) + '.npy', crop)\n",
    "                counter += 1\n",
    "    return img_id, counter, h, w, hi, wi, hn, wn"
   ]
  },
  {
   "cell_type": "code",
   "execution_count": 138,
   "metadata": {},
   "outputs": [
    {
     "data": {
      "text/plain": [
       "157"
      ]
     },
     "execution_count": 138,
     "metadata": {},
     "output_type": "execute_result"
    }
   ],
   "source": [
    "image_paths = glob.glob('../input/stage1_test/*/images/*.png')\n",
    "crop_dic = {}\n",
    "crop_counter = 0\n",
    "for path in image_paths:\n",
    "    img_id, counter, h, w, hi, wi, hn, wn = image_split(path, exclude_ids)\n",
    "    crop_counter += counter\n",
    "    crop_dic[img_id] = (counter, h, w, hi, wi, hn, wn)\n",
    "crop_counter"
   ]
  },
  {
   "cell_type": "code",
   "execution_count": 137,
   "metadata": {},
   "outputs": [],
   "source": [
    "ori_test_img_ids = open('../input/test1_ids_gray2_53', 'r')\n",
    "crop_test_img_ids = open('../output/test1_ids_gray2_53_crops', 'w')\n",
    "\n",
    "img_id = 'id'\n",
    "while img_id:\n",
    "    img_id = ori_test_img_ids.readline()\n",
    "    img_id = img_id.split('/')[-1].split('\\n')[0]\n",
    "#     print(img_id)\n",
    "    if img_id in crop_dic:\n",
    "        counter, h, w, hi, wi, hn, wn = crop_dic[img_id]\n",
    "        if (hi <= 1 and wi <= 1) or (img_id in exclude_ids):\n",
    "            crop_test_img_ids.write(img_id + '\\n')\n",
    "        else:\n",
    "            for i in range(hi):\n",
    "                for j in range(wi):\n",
    "                    crop_test_img_ids.write(img_id + '_' + str(i) + '_' + str(j) + '\\n')\n",
    "crop_test_img_ids.close() "
   ]
  },
  {
   "cell_type": "code",
   "execution_count": null,
   "metadata": {},
   "outputs": [],
   "source": []
  },
  {
   "cell_type": "markdown",
   "metadata": {},
   "source": [
    "### merge nps"
   ]
  },
  {
   "cell_type": "code",
   "execution_count": 151,
   "metadata": {},
   "outputs": [],
   "source": [
    "merge_npy_path = \"/home/jun/20180407/results/mask-rcnn-50-gray500-crop-01/submit/npys_merge\"\n",
    "if not os.path.isdir(merge_npy_path):\n",
    "    os.mkdir(merge_npy_path)"
   ]
  },
  {
   "cell_type": "code",
   "execution_count": 152,
   "metadata": {},
   "outputs": [],
   "source": [
    "gray_ids = []\n",
    "\n",
    "ori_test_img_ids = open('../input/test1_ids_gray2_53', 'r')\n",
    "\n",
    "img_id = 'id'\n",
    "while img_id:\n",
    "    img_id = ori_test_img_ids.readline()\n",
    "    img_id = img_id.split('/')[-1].split('\\n')[0]\n",
    "    if img_id:\n",
    "        gray_ids.append(img_id)"
   ]
  },
  {
   "cell_type": "code",
   "execution_count": null,
   "metadata": {},
   "outputs": [],
   "source": []
  },
  {
   "cell_type": "code",
   "execution_count": 153,
   "metadata": {},
   "outputs": [],
   "source": [
    "npy_path = '/home/jun/20180407/results/mask-rcnn-50-gray500-crop-01/submit/npys'\n",
    "for key in gray_ids:\n",
    "    counter, h, w, hi, wi, hn, wn = crop_dic[key]\n",
    "    if counter == 1:\n",
    "        shutil.copy(npy_path + os.sep + key + '.npy', merge_npy_path + os.sep + key + '.npy')\n",
    "    else:\n",
    "        mask = np.zeros((h,w))\n",
    "        for i in range(hi):\n",
    "            for j in range(wi):\n",
    "                mask[i*hn: min((i+1)*hn, h), j*wn: min((j+1)*wn, w)] = np.load(npy_path + os.sep + key + \\\n",
    "                    '_' + str(i) + '_' + str(j) + '.npy')\n",
    "        np.save(merge_npy_path + os.sep + key + '.npy', mask)\n",
    "    "
   ]
  },
  {
   "cell_type": "code",
   "execution_count": 112,
   "metadata": {},
   "outputs": [],
   "source": [
    "# crop_dic.keys()"
   ]
  },
  {
   "cell_type": "code",
   "execution_count": null,
   "metadata": {},
   "outputs": [],
   "source": []
  }
 ],
 "metadata": {
  "kernelspec": {
   "display_name": "Python 3",
   "language": "python",
   "name": "python3"
  },
  "language_info": {
   "codemirror_mode": {
    "name": "ipython",
    "version": 3
   },
   "file_extension": ".py",
   "mimetype": "text/x-python",
   "name": "python",
   "nbconvert_exporter": "python",
   "pygments_lexer": "ipython3",
   "version": "3.6.4"
  }
 },
 "nbformat": 4,
 "nbformat_minor": 2
}
