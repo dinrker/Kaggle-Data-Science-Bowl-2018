{
 "cells": [
  {
   "cell_type": "code",
   "execution_count": 1,
   "metadata": {
    "collapsed": true
   },
   "outputs": [],
   "source": [
    "import pathlib\n",
    "import imageio\n",
    "import numpy as np\n",
    "\n",
    "# Glob the training data and load a single image path\n",
    "training_paths = pathlib.Path('../input/stage1_train').glob('*/images/*.png')\n",
    "training_sorted = sorted([x for x in training_paths])\n",
    "im_path = training_sorted[45]\n",
    "im = imageio.imread(str(im_path))"
   ]
  },
  {
   "cell_type": "code",
   "execution_count": 2,
   "metadata": {},
   "outputs": [
    {
     "name": "stdout",
     "output_type": "stream",
     "text": [
      "Original image shape: (520, 696, 4)\n",
      "New image shape: (520, 696)\n"
     ]
    }
   ],
   "source": [
    "# Print the image dimensions\n",
    "print('Original image shape: {}'.format(im.shape))\n",
    "\n",
    "# Coerce the image into grayscale format (if not already)\n",
    "from skimage.color import rgb2gray\n",
    "im_gray = rgb2gray(im)\n",
    "print('New image shape: {}'.format(im_gray.shape))"
   ]
  },
  {
   "cell_type": "code",
   "execution_count": 3,
   "metadata": {
    "collapsed": true
   },
   "outputs": [],
   "source": [
    "from skimage.filters import threshold_otsu\n",
    "thresh_val = threshold_otsu(im_gray)\n",
    "mask = np.where(im_gray > thresh_val, 1, 0)\n",
    "\n",
    "# Make sure the larger portion of the mask is considered background\n",
    "if np.sum(mask==0) < np.sum(mask==1):\n",
    "    mask = np.where(mask, 0, 1)"
   ]
  },
  {
   "cell_type": "code",
   "execution_count": 4,
   "metadata": {},
   "outputs": [
    {
     "name": "stdout",
     "output_type": "stream",
     "text": [
      "There are 76 separate components / objects detected.\n"
     ]
    }
   ],
   "source": [
    "from scipy import ndimage\n",
    "labels, nlabels = ndimage.label(mask)\n",
    "\n",
    "label_arrays = []\n",
    "for label_num in range(1, nlabels+1):\n",
    "    label_mask = np.where(labels == label_num, 1, 0)\n",
    "    label_arrays.append(label_mask)\n",
    "\n",
    "print('There are {} separate components / objects detected.'.format(nlabels))"
   ]
  },
  {
   "cell_type": "code",
   "execution_count": 5,
   "metadata": {},
   "outputs": [
    {
     "name": "stdout",
     "output_type": "stream",
     "text": [
      "Label 4 is too small! Setting to 0.\n",
      "Label 5 is too small! Setting to 0.\n",
      "Label 7 is too small! Setting to 0.\n",
      "Label 8 is too small! Setting to 0.\n",
      "Label 9 is too small! Setting to 0.\n",
      "Label 10 is too small! Setting to 0.\n",
      "Label 14 is too small! Setting to 0.\n",
      "Label 15 is too small! Setting to 0.\n",
      "Label 16 is too small! Setting to 0.\n",
      "Label 19 is too small! Setting to 0.\n",
      "Label 21 is too small! Setting to 0.\n",
      "Label 22 is too small! Setting to 0.\n",
      "Label 23 is too small! Setting to 0.\n",
      "Label 60 is too small! Setting to 0.\n",
      "Label 61 is too small! Setting to 0.\n",
      "Label 72 is too small! Setting to 0.\n",
      "There are now 60 separate components / objects detected.\n"
     ]
    }
   ],
   "source": [
    "for label_ind, label_coords in enumerate(ndimage.find_objects(labels)):\n",
    "    cell = im_gray[label_coords]\n",
    "    \n",
    "    # Check if the label size is too small\n",
    "    if np.product(cell.shape) < 10: \n",
    "        print('Label {} is too small! Setting to 0.'.format(label_ind))\n",
    "        mask = np.where(labels==label_ind+1, 0, mask)\n",
    "\n",
    "# Regenerate the labels\n",
    "labels, nlabels = ndimage.label(mask)\n",
    "print('There are now {} separate components / objects detected.'.format(nlabels))"
   ]
  },
  {
   "cell_type": "code",
   "execution_count": 6,
   "metadata": {
    "collapsed": true
   },
   "outputs": [],
   "source": [
    "# Get the object indices, and perform a binary opening procedure\n",
    "two_cell_indices = ndimage.find_objects(labels)[1]\n",
    "cell_mask = mask[two_cell_indices]\n",
    "cell_mask_opened = ndimage.binary_opening(cell_mask, iterations=8)"
   ]
  },
  {
   "cell_type": "code",
   "execution_count": 7,
   "metadata": {},
   "outputs": [
    {
     "name": "stdout",
     "output_type": "stream",
     "text": [
      "RLE Encoding for the current mask is: 210075 6 210593 8 211112 9 211631 10 212150 11 212669 12 213189 12 213709 12 214228 13 214748 13 215268 13 215788 13 216308 13 216828 13 217348 13 217869 12 218389 12 218909 12 219430 11 219950 11 220471 10 220991 10 221512 9 222033 8 222554 7 223075 6 223596 5 224117 4 224639 2\n"
     ]
    }
   ],
   "source": [
    "def rle_encoding(x):\n",
    "    '''\n",
    "    x: numpy array of shape (height, width), 1 - mask, 0 - background\n",
    "    Returns run length as list\n",
    "    '''\n",
    "    dots = np.where(x.T.flatten()==1)[0] # .T sets Fortran order down-then-right\n",
    "    run_lengths = []\n",
    "    prev = -2\n",
    "    for b in dots:\n",
    "        if (b>prev+1): run_lengths.extend((b+1, 0))\n",
    "        run_lengths[-1] += 1\n",
    "        prev = b\n",
    "    return \" \".join([str(i) for i in run_lengths])\n",
    "\n",
    "print('RLE Encoding for the current mask is: {}'.format(rle_encoding(label_mask)))"
   ]
  },
  {
   "cell_type": "code",
   "execution_count": 8,
   "metadata": {
    "collapsed": true
   },
   "outputs": [],
   "source": [
    "import pandas as pd\n",
    "\n",
    "def analyze_image(im_path):\n",
    "    '''\n",
    "    Take an image_path (pathlib.Path object), preprocess and label it, extract the RLE strings \n",
    "    and dump it into a Pandas DataFrame.\n",
    "    '''\n",
    "    # Read in data and convert to grayscale\n",
    "    im_id = im_path.parts[-3]\n",
    "    im = imageio.imread(str(im_path))\n",
    "    im_gray = rgb2gray(im)\n",
    "    \n",
    "    # Mask out background and extract connected objects\n",
    "    thresh_val = threshold_otsu(im_gray)\n",
    "    mask = np.where(im_gray > thresh_val, 1, 0)\n",
    "    if np.sum(mask==0) < np.sum(mask==1):\n",
    "        mask = np.where(mask, 0, 1)    \n",
    "        labels, nlabels = ndimage.label(mask)\n",
    "    labels, nlabels = ndimage.label(mask)\n",
    "    \n",
    "    # Loop through labels and add each to a DataFrame\n",
    "    im_df = pd.DataFrame()\n",
    "    for label_num in range(1, nlabels+1):\n",
    "        label_mask = np.where(labels == label_num, 1, 0)\n",
    "        if label_mask.flatten().sum() > 10:\n",
    "            rle = rle_encoding(label_mask)\n",
    "            s = pd.Series({'ImageId': im_id, 'EncodedPixels': rle})\n",
    "            im_df = im_df.append(s, ignore_index=True)\n",
    "    \n",
    "    return im_df\n",
    "\n",
    "\n",
    "def analyze_list_of_images(im_path_list):\n",
    "    '''\n",
    "    Takes a list of image paths (pathlib.Path objects), analyzes each,\n",
    "    and returns a submission-ready DataFrame.'''\n",
    "    all_df = pd.DataFrame()\n",
    "    for im_path in im_path_list:\n",
    "        im_df = analyze_image(im_path)\n",
    "        all_df = all_df.append(im_df, ignore_index=True)\n",
    "    \n",
    "    return all_df"
   ]
  },
  {
   "cell_type": "code",
   "execution_count": 9,
   "metadata": {
    "collapsed": true
   },
   "outputs": [],
   "source": [
    "testing = pathlib.Path('../input/stage1_test/').glob('*/images/*.png')\n",
    "df = analyze_list_of_images(list(testing))\n",
    "df.to_csv('../output/submission.csv', index=None)"
   ]
  },
  {
   "cell_type": "code",
   "execution_count": null,
   "metadata": {
    "collapsed": true
   },
   "outputs": [],
   "source": []
  },
  {
   "cell_type": "code",
   "execution_count": null,
   "metadata": {
    "collapsed": true
   },
   "outputs": [],
   "source": []
  },
  {
   "cell_type": "code",
   "execution_count": null,
   "metadata": {
    "collapsed": true
   },
   "outputs": [],
   "source": []
  },
  {
   "cell_type": "code",
   "execution_count": null,
   "metadata": {
    "collapsed": true
   },
   "outputs": [],
   "source": []
  }
 ],
 "metadata": {
  "kernelspec": {
   "display_name": "Python 3",
   "language": "python",
   "name": "python3"
  },
  "language_info": {
   "codemirror_mode": {
    "name": "ipython",
    "version": 3
   },
   "file_extension": ".py",
   "mimetype": "text/x-python",
   "name": "python",
   "nbconvert_exporter": "python",
   "pygments_lexer": "ipython3",
   "version": "3.6.3"
  }
 },
 "nbformat": 4,
 "nbformat_minor": 2
}
