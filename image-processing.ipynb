{
 "cells": [
  {
   "cell_type": "code",
   "execution_count": 1,
   "metadata": {
    "collapsed": true
   },
   "outputs": [],
   "source": [
    "import pathlib\n",
    "import imageio\n",
    "import numpy as np\n",
    "\n",
    "# Glob the training data and load a single image path\n",
    "training_paths = pathlib.Path('../input/stage1_train').glob('*/images/*.png')\n",
    "training_sorted = sorted([x for x in training_paths])\n",
    "im_path = training_sorted[45]\n",
    "im = imageio.imread(str(im_path))"
   ]
  },
  {
   "cell_type": "code",
   "execution_count": 2,
   "metadata": {},
   "outputs": [
    {
     "name": "stdout",
     "output_type": "stream",
     "text": [
      "Original image shape: (520, 696, 4)\n",
      "New image shape: (520, 696)\n"
     ]
    }
   ],
   "source": [
    "# Print the image dimensions\n",
    "print('Original image shape: {}'.format(im.shape))\n",
    "\n",
    "# Coerce the image into grayscale format (if not already)\n",
    "from skimage.color import rgb2gray\n",
    "im_gray = rgb2gray(im)\n",
    "print('New image shape: {}'.format(im_gray.shape))"
   ]
  },
  {
   "cell_type": "code",
   "execution_count": 3,
   "metadata": {
    "collapsed": true
   },
   "outputs": [],
   "source": [
    "from skimage.filters import threshold_otsu\n",
    "thresh_val = threshold_otsu(im_gray)\n",
    "mask = np.where(im_gray > thresh_val, 1, 0)\n",
    "\n",
    "# Make sure the larger portion of the mask is considered background\n",
    "if np.sum(mask==0) < np.sum(mask==1):\n",
    "    mask = np.where(mask, 0, 1)"
   ]
  },
  {
   "cell_type": "code",
   "execution_count": 5,
   "metadata": {},
   "outputs": [
    {
     "data": {
      "text/plain": [
       "array([0, 1])"
      ]
     },
     "execution_count": 5,
     "metadata": {},
     "output_type": "execute_result"
    }
   ],
   "source": [
    "np.unique(mask)"
   ]
  },
  {
   "cell_type": "code",
   "execution_count": 6,
   "metadata": {},
   "outputs": [
    {
     "name": "stdout",
     "output_type": "stream",
     "text": [
      "There are 76 separate components / objects detected.\n"
     ]
    }
   ],
   "source": [
    "from scipy import ndimage\n",
    "labels, nlabels = ndimage.label(mask)\n",
    "\n",
    "label_arrays = []\n",
    "for label_num in range(1, nlabels+1):\n",
    "    label_mask = np.where(labels == label_num, 1, 0)\n",
    "    label_arrays.append(label_mask)\n",
    "\n",
    "print('There are {} separate components / objects detected.'.format(nlabels))"
   ]
  },
  {
   "cell_type": "code",
   "execution_count": 9,
   "metadata": {},
   "outputs": [],
   "source": [
    "ndimage.label?"
   ]
  },
  {
   "cell_type": "code",
   "execution_count": 10,
   "metadata": {},
   "outputs": [
    {
     "data": {
      "text/plain": [
       "[(slice(0, 14, None), slice(1, 40, None)),\n",
       " (slice(0, 55, None), slice(290, 347, None)),\n",
       " (slice(0, 14, None), slice(485, 503, None)),\n",
       " (slice(16, 45, None), slice(141, 169, None)),\n",
       " (slice(16, 17, None), slice(527, 528, None)),\n",
       " (slice(16, 17, None), slice(529, 530, None)),\n",
       " (slice(17, 43, None), slice(521, 543, None)),\n",
       " (slice(17, 18, None), slice(530, 531, None)),\n",
       " (slice(18, 20, None), slice(140, 142, None)),\n",
       " (slice(23, 24, None), slice(143, 144, None)),\n",
       " (slice(24, 25, None), slice(141, 142, None)),\n",
       " (slice(34, 64, None), slice(83, 118, None)),\n",
       " (slice(37, 66, None), slice(469, 495, None)),\n",
       " (slice(41, 69, None), slice(445, 463, None)),\n",
       " (slice(41, 43, None), slice(665, 668, None)),\n",
       " (slice(44, 45, None), slice(661, 664, None)),\n",
       " (slice(44, 47, None), slice(670, 672, None)),\n",
       " (slice(46, 74, None), slice(16, 56, None)),\n",
       " (slice(46, 71, None), slice(573, 595, None)),\n",
       " (slice(46, 47, None), slice(682, 683, None)),\n",
       " (slice(47, 53, None), slice(671, 678, None)),\n",
       " (slice(48, 49, None), slice(667, 668, None)),\n",
       " (slice(49, 50, None), slice(665, 666, None)),\n",
       " (slice(51, 52, None), slice(677, 679, None)),\n",
       " (slice(61, 100, None), slice(381, 405, None)),\n",
       " (slice(84, 109, None), slice(492, 514, None)),\n",
       " (slice(84, 111, None), slice(519, 544, None)),\n",
       " (slice(87, 124, None), slice(360, 386, None)),\n",
       " (slice(96, 123, None), slice(131, 167, None)),\n",
       " (slice(106, 143, None), slice(8, 25, None)),\n",
       " (slice(110, 142, None), slice(201, 229, None)),\n",
       " (slice(112, 142, None), slice(603, 640, None)),\n",
       " (slice(114, 151, None), slice(66, 94, None)),\n",
       " (slice(140, 179, None), slice(27, 51, None)),\n",
       " (slice(144, 175, None), slice(298, 327, None)),\n",
       " (slice(153, 185, None), slice(463, 483, None)),\n",
       " (slice(169, 198, None), slice(232, 256, None)),\n",
       " (slice(171, 198, None), slice(270, 291, None)),\n",
       " (slice(172, 211, None), slice(367, 400, None)),\n",
       " (slice(178, 210, None), slice(119, 147, None)),\n",
       " (slice(197, 220, None), slice(471, 498, None)),\n",
       " (slice(222, 249, None), slice(176, 201, None)),\n",
       " (slice(223, 253, None), slice(481, 528, None)),\n",
       " (slice(229, 261, None), slice(328, 353, None)),\n",
       " (slice(231, 266, None), slice(242, 283, None)),\n",
       " (slice(245, 275, None), slice(389, 416, None)),\n",
       " (slice(250, 286, None), slice(81, 133, None)),\n",
       " (slice(252, 278, None), slice(541, 567, None)),\n",
       " (slice(259, 295, None), slice(605, 640, None)),\n",
       " (slice(275, 308, None), slice(197, 223, None)),\n",
       " (slice(289, 317, None), slice(358, 381, None)),\n",
       " (slice(297, 326, None), slice(282, 323, None)),\n",
       " (slice(306, 329, None), slice(218, 246, None)),\n",
       " (slice(320, 352, None), slice(184, 218, None)),\n",
       " (slice(332, 360, None), slice(625, 649, None)),\n",
       " (slice(342, 379, None), slice(51, 86, None)),\n",
       " (slice(359, 405, None), slice(117, 145, None)),\n",
       " (slice(363, 397, None), slice(237, 263, None)),\n",
       " (slice(370, 431, None), slice(489, 524, None)),\n",
       " (slice(382, 404, None), slice(453, 476, None)),\n",
       " (slice(389, 390, None), slice(539, 540, None)),\n",
       " (slice(393, 394, None), slice(538, 540, None)),\n",
       " (slice(394, 434, None), slice(366, 385, None)),\n",
       " (slice(401, 438, None), slice(44, 69, None)),\n",
       " (slice(402, 454, None), slice(153, 190, None)),\n",
       " (slice(404, 427, None), slice(455, 485, None)),\n",
       " (slice(426, 449, None), slice(459, 492, None)),\n",
       " (slice(445, 490, None), slice(83, 108, None)),\n",
       " (slice(458, 486, None), slice(381, 409, None)),\n",
       " (slice(467, 511, None), slice(219, 266, None)),\n",
       " (slice(467, 495, None), slice(340, 366, None)),\n",
       " (slice(484, 520, None), slice(184, 225, None)),\n",
       " (slice(489, 491, None), slice(386, 387, None)),\n",
       " (slice(492, 520, None), slice(66, 86, None)),\n",
       " (slice(495, 520, None), slice(0, 36, None)),\n",
       " (slice(507, 520, None), slice(403, 432, None))]"
      ]
     },
     "execution_count": 10,
     "metadata": {},
     "output_type": "execute_result"
    }
   ],
   "source": [
    "ndimage.find_objects(labels)"
   ]
  },
  {
   "cell_type": "code",
   "execution_count": 11,
   "metadata": {},
   "outputs": [
    {
     "name": "stdout",
     "output_type": "stream",
     "text": [
      "Label 4 is too small! Setting to 0.\n",
      "Label 5 is too small! Setting to 0.\n",
      "Label 7 is too small! Setting to 0.\n",
      "Label 8 is too small! Setting to 0.\n",
      "Label 9 is too small! Setting to 0.\n",
      "Label 10 is too small! Setting to 0.\n",
      "Label 14 is too small! Setting to 0.\n",
      "Label 15 is too small! Setting to 0.\n",
      "Label 16 is too small! Setting to 0.\n",
      "Label 19 is too small! Setting to 0.\n",
      "Label 21 is too small! Setting to 0.\n",
      "Label 22 is too small! Setting to 0.\n",
      "Label 23 is too small! Setting to 0.\n",
      "Label 60 is too small! Setting to 0.\n",
      "Label 61 is too small! Setting to 0.\n",
      "Label 72 is too small! Setting to 0.\n",
      "There are now 60 separate components / objects detected.\n"
     ]
    }
   ],
   "source": [
    "for label_ind, label_coords in enumerate(ndimage.find_objects(labels)):\n",
    "    cell = im_gray[label_coords]\n",
    "    \n",
    "    # Check if the label size is too small\n",
    "    if np.product(cell.shape) < 10: \n",
    "        print('Label {} is too small! Setting to 0.'.format(label_ind))\n",
    "        mask = np.where(labels==label_ind+1, 0, mask)\n",
    "\n",
    "# Regenerate the labels\n",
    "labels, nlabels = ndimage.label(mask)\n",
    "print('There are now {} separate components / objects detected.'.format(nlabels))"
   ]
  },
  {
   "cell_type": "code",
   "execution_count": 14,
   "metadata": {},
   "outputs": [
    {
     "data": {
      "text/plain": [
       "(slice(507, 520, None), slice(403, 432, None))"
      ]
     },
     "execution_count": 14,
     "metadata": {},
     "output_type": "execute_result"
    }
   ],
   "source": [
    "label_coords"
   ]
  },
  {
   "cell_type": "code",
   "execution_count": 13,
   "metadata": {},
   "outputs": [
    {
     "data": {
      "text/plain": [
       "(13, 29)"
      ]
     },
     "execution_count": 13,
     "metadata": {},
     "output_type": "execute_result"
    }
   ],
   "source": [
    "cell.shape"
   ]
  },
  {
   "cell_type": "code",
   "execution_count": 6,
   "metadata": {
    "collapsed": true
   },
   "outputs": [],
   "source": [
    "# Get the object indices, and perform a binary opening procedure\n",
    "two_cell_indices = ndimage.find_objects(labels)[1]\n",
    "cell_mask = mask[two_cell_indices]\n",
    "cell_mask_opened = ndimage.binary_opening(cell_mask, iterations=8)"
   ]
  },
  {
   "cell_type": "code",
   "execution_count": 7,
   "metadata": {},
   "outputs": [
    {
     "name": "stdout",
     "output_type": "stream",
     "text": [
      "RLE Encoding for the current mask is: 210075 6 210593 8 211112 9 211631 10 212150 11 212669 12 213189 12 213709 12 214228 13 214748 13 215268 13 215788 13 216308 13 216828 13 217348 13 217869 12 218389 12 218909 12 219430 11 219950 11 220471 10 220991 10 221512 9 222033 8 222554 7 223075 6 223596 5 224117 4 224639 2\n"
     ]
    }
   ],
   "source": [
    "def rle_encoding(x):\n",
    "    '''\n",
    "    x: numpy array of shape (height, width), 1 - mask, 0 - background\n",
    "    Returns run length as list\n",
    "    '''\n",
    "    dots = np.where(x.T.flatten()==1)[0] # .T sets Fortran order down-then-right\n",
    "    run_lengths = []\n",
    "    prev = -2\n",
    "    for b in dots:\n",
    "        if (b>prev+1): run_lengths.extend((b+1, 0))\n",
    "        run_lengths[-1] += 1\n",
    "        prev = b\n",
    "    return \" \".join([str(i) for i in run_lengths])\n",
    "\n",
    "print('RLE Encoding for the current mask is: {}'.format(rle_encoding(label_mask)))"
   ]
  },
  {
   "cell_type": "code",
   "execution_count": 8,
   "metadata": {
    "collapsed": true
   },
   "outputs": [],
   "source": [
    "import pandas as pd\n",
    "\n",
    "def analyze_image(im_path):\n",
    "    '''\n",
    "    Take an image_path (pathlib.Path object), preprocess and label it, extract the RLE strings \n",
    "    and dump it into a Pandas DataFrame.\n",
    "    '''\n",
    "    # Read in data and convert to grayscale\n",
    "    im_id = im_path.parts[-3]\n",
    "    im = imageio.imread(str(im_path))\n",
    "    im_gray = rgb2gray(im)\n",
    "    \n",
    "    # Mask out background and extract connected objects\n",
    "    thresh_val = threshold_otsu(im_gray)\n",
    "    mask = np.where(im_gray > thresh_val, 1, 0)\n",
    "    if np.sum(mask==0) < np.sum(mask==1):\n",
    "        mask = np.where(mask, 0, 1)    \n",
    "        labels, nlabels = ndimage.label(mask)\n",
    "    labels, nlabels = ndimage.label(mask)\n",
    "    \n",
    "    # Loop through labels and add each to a DataFrame\n",
    "    im_df = pd.DataFrame()\n",
    "    for label_num in range(1, nlabels+1):\n",
    "        label_mask = np.where(labels == label_num, 1, 0)\n",
    "        if label_mask.flatten().sum() > 10:\n",
    "            rle = rle_encoding(label_mask)\n",
    "            s = pd.Series({'ImageId': im_id, 'EncodedPixels': rle})\n",
    "            im_df = im_df.append(s, ignore_index=True)\n",
    "    \n",
    "    return im_df\n",
    "\n",
    "\n",
    "def analyze_list_of_images(im_path_list):\n",
    "    '''\n",
    "    Takes a list of image paths (pathlib.Path objects), analyzes each,\n",
    "    and returns a submission-ready DataFrame.'''\n",
    "    all_df = pd.DataFrame()\n",
    "    for im_path in im_path_list:\n",
    "        im_df = analyze_image(im_path)\n",
    "        all_df = all_df.append(im_df, ignore_index=True)\n",
    "    \n",
    "    return all_df"
   ]
  },
  {
   "cell_type": "code",
   "execution_count": 9,
   "metadata": {
    "collapsed": true
   },
   "outputs": [],
   "source": [
    "testing = pathlib.Path('../input/stage1_test/').glob('*/images/*.png')\n",
    "df = analyze_list_of_images(list(testing))\n",
    "df.to_csv('../output/submission.csv', index=None)"
   ]
  },
  {
   "cell_type": "code",
   "execution_count": null,
   "metadata": {
    "collapsed": true
   },
   "outputs": [],
   "source": []
  },
  {
   "cell_type": "code",
   "execution_count": null,
   "metadata": {
    "collapsed": true
   },
   "outputs": [],
   "source": []
  },
  {
   "cell_type": "code",
   "execution_count": null,
   "metadata": {
    "collapsed": true
   },
   "outputs": [],
   "source": []
  },
  {
   "cell_type": "code",
   "execution_count": null,
   "metadata": {
    "collapsed": true
   },
   "outputs": [],
   "source": []
  }
 ],
 "metadata": {
  "kernelspec": {
   "display_name": "Python 3",
   "language": "python",
   "name": "python3"
  },
  "language_info": {
   "codemirror_mode": {
    "name": "ipython",
    "version": 3
   },
   "file_extension": ".py",
   "mimetype": "text/x-python",
   "name": "python",
   "nbconvert_exporter": "python",
   "pygments_lexer": "ipython3",
   "version": "3.6.3"
  }
 },
 "nbformat": 4,
 "nbformat_minor": 2
}
