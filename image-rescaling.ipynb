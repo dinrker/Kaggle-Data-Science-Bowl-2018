{
 "cells": [
  {
   "cell_type": "code",
   "execution_count": 1,
   "metadata": {},
   "outputs": [],
   "source": [
    "import skimage\n",
    "import glob\n",
    "import cv2\n",
    "import os\n",
    "import shutil\n",
    "import skimage\n",
    "import numpy as np\n",
    "import pandas as pd\n",
    "\n",
    "from skimage.io import imread, imsave\n",
    "\n",
    "import matplotlib.pyplot as plt\n",
    "%matplotlib inline"
   ]
  },
  {
   "cell_type": "code",
   "execution_count": 2,
   "metadata": {},
   "outputs": [
    {
     "data": {
      "text/plain": [
       "(256, 256, 3)      334\n",
       "(256, 320, 3)      112\n",
       "(520, 696, 3)       92\n",
       "(360, 360, 3)       91\n",
       "(1024, 1024, 3)     16\n",
       "(512, 640, 3)       13\n",
       "(603, 1272, 3)       6\n",
       "(260, 347, 3)        5\n",
       "(1040, 1388, 3)      1\n",
       "dtype: int64"
      ]
     },
     "execution_count": 2,
     "metadata": {},
     "output_type": "execute_result"
    }
   ],
   "source": [
    "image_paths = glob.glob('../input/stage1_train/*/images/*.png')\n",
    "train_shapes = []\n",
    "for path in image_paths:\n",
    "    img = cv2.imread(path)\n",
    "#     img = skimage.io.imread(path)\n",
    "    train_shapes.append(img.shape)\n",
    "pd.Series(train_shapes).value_counts()"
   ]
  },
  {
   "cell_type": "code",
   "execution_count": 3,
   "metadata": {},
   "outputs": [
    {
     "data": {
      "text/plain": [
       "(256, 256, 3)    24\n",
       "(512, 640, 3)     8\n",
       "(512, 680, 3)     8\n",
       "(260, 347, 3)     4\n",
       "(520, 696, 3)     4\n",
       "(520, 348, 3)     4\n",
       "(519, 253, 3)     4\n",
       "(524, 348, 3)     4\n",
       "(519, 161, 3)     2\n",
       "(519, 162, 3)     2\n",
       "(390, 239, 3)     1\n",
       "dtype: int64"
      ]
     },
     "execution_count": 3,
     "metadata": {},
     "output_type": "execute_result"
    }
   ],
   "source": [
    "image_paths = glob.glob('../input/stage1_test/*/images/*.png')\n",
    "test_shapes = []\n",
    "for path in image_paths:\n",
    "    img = cv2.imread(path)\n",
    "#     img = skimage.io.imread(path)\n",
    "    test_shapes.append(img.shape)\n",
    "pd.Series(test_shapes).value_counts()"
   ]
  },
  {
   "cell_type": "markdown",
   "metadata": {},
   "source": [
    "### image type"
   ]
  },
  {
   "cell_type": "code",
   "execution_count": 4,
   "metadata": {},
   "outputs": [],
   "source": [
    "# 0 - staining;\n",
    "# 1 - fluorescent microscopy;\n",
    "# 2 - brightfield microscopy;\n",
    "type_names = {0: \"staining\", 1: \"fluorescent\", 2: \"brightfield\"}\n",
    "\n",
    "def get_violet_num(img):\n",
    "    violet_num = 0\n",
    "    h, w = img.shape[:2]\n",
    "    for y in range(h):\n",
    "        for x in range(w):\n",
    "            if img[y, x][0] > img[y, x][1] and img[y, x][2] > img[y, x][1]:\n",
    "                violet_num += 1\n",
    "\n",
    "    return violet_num\n",
    "\n",
    "def get_microscopy_type(img):\n",
    "    violet_num = get_violet_num(img)\n",
    "    if violet_num > 0:\n",
    "        return 0\n",
    "    mean_int = img.mean()\n",
    "    # randomly picked threshold for distinquishing fluorescent and brightfield\n",
    "    if mean_int > 100:\n",
    "        return 2\n",
    "    return 1"
   ]
  },
  {
   "cell_type": "markdown",
   "metadata": {},
   "source": [
    "### calculating nuclei size"
   ]
  },
  {
   "cell_type": "code",
   "execution_count": 5,
   "metadata": {},
   "outputs": [
    {
     "name": "stdout",
     "output_type": "stream",
     "text": [
      "Total number of training samples: 670\n"
     ]
    }
   ],
   "source": [
    "image_ids, image_shapes, image_types, num_of_cells, cell_areas, mean_area, nuclei_size = [], [], [], [], [], [], []\n",
    "shape_hs, shape_ws = [], []\n",
    "image_paths = glob.glob('../input/stage1_train/*')\n",
    "print('Total number of training samples: ' + str(len(image_paths)))"
   ]
  },
  {
   "cell_type": "code",
   "execution_count": 6,
   "metadata": {},
   "outputs": [
    {
     "name": "stdout",
     "output_type": "stream",
     "text": [
      "100\n",
      "200\n",
      "300\n",
      "400\n",
      "500\n",
      "600\n"
     ]
    }
   ],
   "source": [
    "counter = 0\n",
    "for path in image_paths:\n",
    "    counter += 1\n",
    "    if counter % 100 == 0:\n",
    "        print(counter)\n",
    "    image_id = path.split('/')[-1]\n",
    "    image_ids.append(image_id)\n",
    "    \n",
    "    # image shape and type\n",
    "    img = cv2.imread(path + '/images/' + image_id + '.png')\n",
    "    image_shapes.append(list(img.shape))\n",
    "    shape_hs.append(img.shape[0])\n",
    "    shape_ws.append(img.shape[1])\n",
    "    img_type = get_microscopy_type(img)\n",
    "    image_types.append(img_type)\n",
    "    \n",
    "    # mask info\n",
    "    masks = glob.glob(path + '/masks/' + '/*.png')\n",
    "    num_of_cells.append(len(masks))\n",
    "    areas = []\n",
    "    for mask in masks:\n",
    "        mask = cv2.imread(mask)\n",
    "        mask = mask[:, :, 0]\n",
    "        mask = (mask > 0).astype(np.int8)\n",
    "        area = np.sum(mask)\n",
    "        areas.append(area)\n",
    "        \n",
    "    cell_areas.append(areas)\n",
    "    m_area = np.mean(areas)\n",
    "    mean_area.append(m_area)\n",
    "    nuclei_size.append(np.sqrt(m_area))"
   ]
  },
  {
   "cell_type": "code",
   "execution_count": 7,
   "metadata": {},
   "outputs": [],
   "source": [
    "df = pd.DataFrame(list(zip(image_ids, image_shapes, shape_hs, shape_ws, image_types, \n",
    "                           num_of_cells, cell_areas, mean_area, nuclei_size)), \n",
    "                 columns = ['ImageId', 'Shape', 'ShapeH', 'ShapeW', 'Type', \n",
    "                            'NumCells', 'CellAreas', 'MeanArea', 'NucleiSize'])"
   ]
  },
  {
   "cell_type": "code",
   "execution_count": 8,
   "metadata": {},
   "outputs": [],
   "source": [
    "df['RatioH'] = df.apply(lambda row: row['NucleiSize'] / row['ShapeH'], axis=1)\n",
    "df['RatioW'] = df.apply(lambda row: row['NucleiSize'] / row['ShapeW'], axis=1)"
   ]
  },
  {
   "cell_type": "code",
   "execution_count": 9,
   "metadata": {},
   "outputs": [
    {
     "data": {
      "text/html": [
       "<div>\n",
       "<style scoped>\n",
       "    .dataframe tbody tr th:only-of-type {\n",
       "        vertical-align: middle;\n",
       "    }\n",
       "\n",
       "    .dataframe tbody tr th {\n",
       "        vertical-align: top;\n",
       "    }\n",
       "\n",
       "    .dataframe thead th {\n",
       "        text-align: right;\n",
       "    }\n",
       "</style>\n",
       "<table border=\"1\" class=\"dataframe\">\n",
       "  <thead>\n",
       "    <tr style=\"text-align: right;\">\n",
       "      <th></th>\n",
       "      <th>ImageId</th>\n",
       "      <th>Shape</th>\n",
       "      <th>ShapeH</th>\n",
       "      <th>ShapeW</th>\n",
       "      <th>Type</th>\n",
       "      <th>NumCells</th>\n",
       "      <th>CellAreas</th>\n",
       "      <th>MeanArea</th>\n",
       "      <th>NucleiSize</th>\n",
       "      <th>RatioH</th>\n",
       "      <th>RatioW</th>\n",
       "    </tr>\n",
       "  </thead>\n",
       "  <tbody>\n",
       "    <tr>\n",
       "      <th>0</th>\n",
       "      <td>45c3bdef1819ba7029990e159f61543ed25781d13fb4dc...</td>\n",
       "      <td>[520, 696, 3]</td>\n",
       "      <td>520</td>\n",
       "      <td>696</td>\n",
       "      <td>1</td>\n",
       "      <td>8</td>\n",
       "      <td>[269, 1553, 3084, 2575, 359, 817, 3408, 121]</td>\n",
       "      <td>1523.250000</td>\n",
       "      <td>39.028835</td>\n",
       "      <td>0.075055</td>\n",
       "      <td>0.056076</td>\n",
       "    </tr>\n",
       "    <tr>\n",
       "      <th>1</th>\n",
       "      <td>7c0157913223365720209ac83ff2e0b1b2b460173acd61...</td>\n",
       "      <td>[360, 360, 3]</td>\n",
       "      <td>360</td>\n",
       "      <td>360</td>\n",
       "      <td>1</td>\n",
       "      <td>25</td>\n",
       "      <td>[3646, 2915, 1208, 537, 605, 2726, 2583, 3674,...</td>\n",
       "      <td>1829.880000</td>\n",
       "      <td>42.777097</td>\n",
       "      <td>0.118825</td>\n",
       "      <td>0.118825</td>\n",
       "    </tr>\n",
       "    <tr>\n",
       "      <th>2</th>\n",
       "      <td>d2815f2f616d92be35c7e8dcfe592deec88516aef9ffc9...</td>\n",
       "      <td>[256, 256, 3]</td>\n",
       "      <td>256</td>\n",
       "      <td>256</td>\n",
       "      <td>1</td>\n",
       "      <td>14</td>\n",
       "      <td>[327, 84, 270, 213, 279, 269, 156, 66, 232, 10...</td>\n",
       "      <td>189.928571</td>\n",
       "      <td>13.781458</td>\n",
       "      <td>0.053834</td>\n",
       "      <td>0.053834</td>\n",
       "    </tr>\n",
       "    <tr>\n",
       "      <th>3</th>\n",
       "      <td>76a372bfd3fad3ea30cb163b560e52607a8281f5b04248...</td>\n",
       "      <td>[1024, 1024, 3]</td>\n",
       "      <td>1024</td>\n",
       "      <td>1024</td>\n",
       "      <td>2</td>\n",
       "      <td>63</td>\n",
       "      <td>[174, 642, 281, 52, 89, 35, 505, 140, 82, 487,...</td>\n",
       "      <td>247.190476</td>\n",
       "      <td>15.722292</td>\n",
       "      <td>0.015354</td>\n",
       "      <td>0.015354</td>\n",
       "    </tr>\n",
       "    <tr>\n",
       "      <th>4</th>\n",
       "      <td>3d0ca3498d97edebd28dbc7035eced40baa4af199af09c...</td>\n",
       "      <td>[256, 256, 3]</td>\n",
       "      <td>256</td>\n",
       "      <td>256</td>\n",
       "      <td>1</td>\n",
       "      <td>4</td>\n",
       "      <td>[175, 142, 244, 48]</td>\n",
       "      <td>152.250000</td>\n",
       "      <td>12.338963</td>\n",
       "      <td>0.048199</td>\n",
       "      <td>0.048199</td>\n",
       "    </tr>\n",
       "  </tbody>\n",
       "</table>\n",
       "</div>"
      ],
      "text/plain": [
       "                                             ImageId            Shape  ShapeH  \\\n",
       "0  45c3bdef1819ba7029990e159f61543ed25781d13fb4dc...    [520, 696, 3]     520   \n",
       "1  7c0157913223365720209ac83ff2e0b1b2b460173acd61...    [360, 360, 3]     360   \n",
       "2  d2815f2f616d92be35c7e8dcfe592deec88516aef9ffc9...    [256, 256, 3]     256   \n",
       "3  76a372bfd3fad3ea30cb163b560e52607a8281f5b04248...  [1024, 1024, 3]    1024   \n",
       "4  3d0ca3498d97edebd28dbc7035eced40baa4af199af09c...    [256, 256, 3]     256   \n",
       "\n",
       "   ShapeW  Type  NumCells                                          CellAreas  \\\n",
       "0     696     1         8       [269, 1553, 3084, 2575, 359, 817, 3408, 121]   \n",
       "1     360     1        25  [3646, 2915, 1208, 537, 605, 2726, 2583, 3674,...   \n",
       "2     256     1        14  [327, 84, 270, 213, 279, 269, 156, 66, 232, 10...   \n",
       "3    1024     2        63  [174, 642, 281, 52, 89, 35, 505, 140, 82, 487,...   \n",
       "4     256     1         4                                [175, 142, 244, 48]   \n",
       "\n",
       "      MeanArea  NucleiSize    RatioH    RatioW  \n",
       "0  1523.250000   39.028835  0.075055  0.056076  \n",
       "1  1829.880000   42.777097  0.118825  0.118825  \n",
       "2   189.928571   13.781458  0.053834  0.053834  \n",
       "3   247.190476   15.722292  0.015354  0.015354  \n",
       "4   152.250000   12.338963  0.048199  0.048199  "
      ]
     },
     "execution_count": 9,
     "metadata": {},
     "output_type": "execute_result"
    }
   ],
   "source": [
    "df.head()"
   ]
  },
  {
   "cell_type": "code",
   "execution_count": 10,
   "metadata": {},
   "outputs": [
    {
     "name": "stdout",
     "output_type": "stream",
     "text": [
      "<class 'pandas.core.frame.DataFrame'>\n",
      "RangeIndex: 670 entries, 0 to 669\n",
      "Data columns (total 11 columns):\n",
      "ImageId       670 non-null object\n",
      "Shape         670 non-null object\n",
      "ShapeH        670 non-null int64\n",
      "ShapeW        670 non-null int64\n",
      "Type          670 non-null int64\n",
      "NumCells      670 non-null int64\n",
      "CellAreas     670 non-null object\n",
      "MeanArea      670 non-null float64\n",
      "NucleiSize    670 non-null float64\n",
      "RatioH        670 non-null float64\n",
      "RatioW        670 non-null float64\n",
      "dtypes: float64(4), int64(4), object(3)\n",
      "memory usage: 57.7+ KB\n"
     ]
    }
   ],
   "source": [
    "df.info()"
   ]
  },
  {
   "cell_type": "code",
   "execution_count": 11,
   "metadata": {},
   "outputs": [],
   "source": [
    "# df.to_csv('../output/training_df_info.csv', index=False)"
   ]
  },
  {
   "cell_type": "code",
   "execution_count": 12,
   "metadata": {},
   "outputs": [
    {
     "data": {
      "text/plain": [
       "1    546\n",
       "0    108\n",
       "2     16\n",
       "Name: Type, dtype: int64"
      ]
     },
     "execution_count": 12,
     "metadata": {},
     "output_type": "execute_result"
    }
   ],
   "source": [
    "df.Type.value_counts()"
   ]
  },
  {
   "cell_type": "markdown",
   "metadata": {},
   "source": [
    "### resizing"
   ]
  },
  {
   "cell_type": "code",
   "execution_count": 13,
   "metadata": {},
   "outputs": [],
   "source": [
    "df = pd.read_csv('../output/training_df_info.csv')"
   ]
  },
  {
   "cell_type": "code",
   "execution_count": 14,
   "metadata": {},
   "outputs": [
    {
     "data": {
      "text/plain": [
       "(array([430., 136.,  49.,  31.,   9.,   6.,   4.,   2.,   1.,   2.]),\n",
       " array([  1. ,  38.4,  75.8, 113.2, 150.6, 188. , 225.4, 262.8, 300.2,\n",
       "        337.6, 375. ]),\n",
       " <a list of 10 Patch objects>)"
      ]
     },
     "execution_count": 14,
     "metadata": {},
     "output_type": "execute_result"
    },
    {
     "data": {
      "image/png": "[encoded data removed]",
      "text/plain": [
       "<matplotlib.figure.Figure at 0x7fbe23b63c88>"
      ]
     },
     "metadata": {},
     "output_type": "display_data"
    }
   ],
   "source": [
    "plt.hist(df['NumCells'])"
   ]
  },
  {
   "cell_type": "code",
   "execution_count": 15,
   "metadata": {},
   "outputs": [
    {
     "data": {
      "text/plain": [
       "(array([222., 225.,  65.,  52.,  95.,   9.,   1.,   0.,   0.,   1.]),\n",
       " array([ 5.09901951, 13.10032866, 21.1016378 , 29.10294694, 37.10425608,\n",
       "        45.10556523, 53.10687437, 61.10818351, 69.10949265, 77.1108018 ,\n",
       "        85.11211094]),\n",
       " <a list of 10 Patch objects>)"
      ]
     },
     "execution_count": 15,
     "metadata": {},
     "output_type": "execute_result"
    },
    {
     "data": {
      "image/png": "[encoded data removed]",
      "text/plain": [
       "<matplotlib.figure.Figure at 0x7fbe23946320>"
      ]
     },
     "metadata": {},
     "output_type": "display_data"
    }
   ],
   "source": [
    "plt.hist(df['NucleiSize'])"
   ]
  },
  {
   "cell_type": "code",
   "execution_count": 16,
   "metadata": {},
   "outputs": [
    {
     "data": {
      "text/plain": [
       "20.774878502288406"
      ]
     },
     "execution_count": 16,
     "metadata": {},
     "output_type": "execute_result"
    }
   ],
   "source": [
    "np.mean(df['NucleiSize'])"
   ]
  },
  {
   "cell_type": "code",
   "execution_count": 17,
   "metadata": {},
   "outputs": [
    {
     "name": "stdout",
     "output_type": "stream",
     "text": [
      "<class 'pandas.core.frame.DataFrame'>\n",
      "RangeIndex: 670 entries, 0 to 669\n",
      "Data columns (total 11 columns):\n",
      "ImageId       670 non-null object\n",
      "Shape         670 non-null object\n",
      "ShapeH        670 non-null int64\n",
      "ShapeW        670 non-null int64\n",
      "Type          670 non-null int64\n",
      "NumCells      670 non-null int64\n",
      "CellAreas     670 non-null object\n",
      "MeanArea      670 non-null float64\n",
      "NucleiSize    670 non-null float64\n",
      "RatioH        670 non-null float64\n",
      "RatioW        670 non-null float64\n",
      "dtypes: float64(4), int64(4), object(3)\n",
      "memory usage: 57.7+ KB\n"
     ]
    }
   ],
   "source": [
    "df.info()"
   ]
  },
  {
   "cell_type": "code",
   "execution_count": 32,
   "metadata": {},
   "outputs": [],
   "source": [
    "def resize_shape(row, target_nuclei_size=20):    \n",
    "    ratio = target_nuclei_size / row['NucleiSize']\n",
    "    shape = list(row['Shape'])\n",
    "    h, w, c = shape[0], shape[1], shape[2]\n",
    "    rh, rw = 2*round(h*ratio/2), 2*round(w*ratio/2)\n",
    "    return [rh, rw, c]"
   ]
  },
  {
   "cell_type": "code",
   "execution_count": 33,
   "metadata": {},
   "outputs": [],
   "source": [
    "df['ResizeShape'] = df.apply(resize_shape, axis=1)\n",
    "df['ResizeH'] = df.apply(lambda row: resize_shape(row)[0], axis=1)\n",
    "df['ResizeW'] = df.apply(lambda row: resize_shape(row)[1], axis=1)"
   ]
  },
  {
   "cell_type": "code",
   "execution_count": 34,
   "metadata": {},
   "outputs": [
    {
     "data": {
      "text/html": [
       "<div>\n",
       "<style scoped>\n",
       "    .dataframe tbody tr th:only-of-type {\n",
       "        vertical-align: middle;\n",
       "    }\n",
       "\n",
       "    .dataframe tbody tr th {\n",
       "        vertical-align: top;\n",
       "    }\n",
       "\n",
       "    .dataframe thead th {\n",
       "        text-align: right;\n",
       "    }\n",
       "</style>\n",
       "<table border=\"1\" class=\"dataframe\">\n",
       "  <thead>\n",
       "    <tr style=\"text-align: right;\">\n",
       "      <th></th>\n",
       "      <th>ImageId</th>\n",
       "      <th>Shape</th>\n",
       "      <th>ShapeH</th>\n",
       "      <th>ShapeW</th>\n",
       "      <th>Type</th>\n",
       "      <th>NumCells</th>\n",
       "      <th>CellAreas</th>\n",
       "      <th>MeanArea</th>\n",
       "      <th>NucleiSize</th>\n",
       "      <th>RatioH</th>\n",
       "      <th>RatioW</th>\n",
       "      <th>ResizeShape</th>\n",
       "      <th>ResizeH</th>\n",
       "      <th>ResizeW</th>\n",
       "    </tr>\n",
       "  </thead>\n",
       "  <tbody>\n",
       "    <tr>\n",
       "      <th>0</th>\n",
       "      <td>45c3bdef1819ba7029990e159f61543ed25781d13fb4dc...</td>\n",
       "      <td>[520, 696, 3]</td>\n",
       "      <td>520</td>\n",
       "      <td>696</td>\n",
       "      <td>1</td>\n",
       "      <td>8</td>\n",
       "      <td>[269, 1553, 3084, 2575, 359, 817, 3408, 121]</td>\n",
       "      <td>1523.250000</td>\n",
       "      <td>39.028835</td>\n",
       "      <td>0.075055</td>\n",
       "      <td>0.056076</td>\n",
       "      <td>[266, 356, 3]</td>\n",
       "      <td>266</td>\n",
       "      <td>356</td>\n",
       "    </tr>\n",
       "    <tr>\n",
       "      <th>1</th>\n",
       "      <td>7c0157913223365720209ac83ff2e0b1b2b460173acd61...</td>\n",
       "      <td>[360, 360, 3]</td>\n",
       "      <td>360</td>\n",
       "      <td>360</td>\n",
       "      <td>1</td>\n",
       "      <td>25</td>\n",
       "      <td>[3646, 2915, 1208, 537, 605, 2726, 2583, 3674,...</td>\n",
       "      <td>1829.880000</td>\n",
       "      <td>42.777097</td>\n",
       "      <td>0.118825</td>\n",
       "      <td>0.118825</td>\n",
       "      <td>[168, 168, 3]</td>\n",
       "      <td>168</td>\n",
       "      <td>168</td>\n",
       "    </tr>\n",
       "    <tr>\n",
       "      <th>2</th>\n",
       "      <td>d2815f2f616d92be35c7e8dcfe592deec88516aef9ffc9...</td>\n",
       "      <td>[256, 256, 3]</td>\n",
       "      <td>256</td>\n",
       "      <td>256</td>\n",
       "      <td>1</td>\n",
       "      <td>14</td>\n",
       "      <td>[327, 84, 270, 213, 279, 269, 156, 66, 232, 10...</td>\n",
       "      <td>189.928571</td>\n",
       "      <td>13.781458</td>\n",
       "      <td>0.053834</td>\n",
       "      <td>0.053834</td>\n",
       "      <td>[372, 372, 3]</td>\n",
       "      <td>372</td>\n",
       "      <td>372</td>\n",
       "    </tr>\n",
       "    <tr>\n",
       "      <th>3</th>\n",
       "      <td>76a372bfd3fad3ea30cb163b560e52607a8281f5b04248...</td>\n",
       "      <td>[1024, 1024, 3]</td>\n",
       "      <td>1024</td>\n",
       "      <td>1024</td>\n",
       "      <td>2</td>\n",
       "      <td>63</td>\n",
       "      <td>[174, 642, 281, 52, 89, 35, 505, 140, 82, 487,...</td>\n",
       "      <td>247.190476</td>\n",
       "      <td>15.722292</td>\n",
       "      <td>0.015354</td>\n",
       "      <td>0.015354</td>\n",
       "      <td>[1302, 1302, 3]</td>\n",
       "      <td>1302</td>\n",
       "      <td>1302</td>\n",
       "    </tr>\n",
       "    <tr>\n",
       "      <th>4</th>\n",
       "      <td>3d0ca3498d97edebd28dbc7035eced40baa4af199af09c...</td>\n",
       "      <td>[256, 256, 3]</td>\n",
       "      <td>256</td>\n",
       "      <td>256</td>\n",
       "      <td>1</td>\n",
       "      <td>4</td>\n",
       "      <td>[175, 142, 244, 48]</td>\n",
       "      <td>152.250000</td>\n",
       "      <td>12.338963</td>\n",
       "      <td>0.048199</td>\n",
       "      <td>0.048199</td>\n",
       "      <td>[414, 414, 3]</td>\n",
       "      <td>414</td>\n",
       "      <td>414</td>\n",
       "    </tr>\n",
       "  </tbody>\n",
       "</table>\n",
       "</div>"
      ],
      "text/plain": [
       "                                             ImageId            Shape  ShapeH  \\\n",
       "0  45c3bdef1819ba7029990e159f61543ed25781d13fb4dc...    [520, 696, 3]     520   \n",
       "1  7c0157913223365720209ac83ff2e0b1b2b460173acd61...    [360, 360, 3]     360   \n",
       "2  d2815f2f616d92be35c7e8dcfe592deec88516aef9ffc9...    [256, 256, 3]     256   \n",
       "3  76a372bfd3fad3ea30cb163b560e52607a8281f5b04248...  [1024, 1024, 3]    1024   \n",
       "4  3d0ca3498d97edebd28dbc7035eced40baa4af199af09c...    [256, 256, 3]     256   \n",
       "\n",
       "   ShapeW  Type  NumCells                                          CellAreas  \\\n",
       "0     696     1         8       [269, 1553, 3084, 2575, 359, 817, 3408, 121]   \n",
       "1     360     1        25  [3646, 2915, 1208, 537, 605, 2726, 2583, 3674,...   \n",
       "2     256     1        14  [327, 84, 270, 213, 279, 269, 156, 66, 232, 10...   \n",
       "3    1024     2        63  [174, 642, 281, 52, 89, 35, 505, 140, 82, 487,...   \n",
       "4     256     1         4                                [175, 142, 244, 48]   \n",
       "\n",
       "      MeanArea  NucleiSize    RatioH    RatioW      ResizeShape  ResizeH  \\\n",
       "0  1523.250000   39.028835  0.075055  0.056076    [266, 356, 3]      266   \n",
       "1  1829.880000   42.777097  0.118825  0.118825    [168, 168, 3]      168   \n",
       "2   189.928571   13.781458  0.053834  0.053834    [372, 372, 3]      372   \n",
       "3   247.190476   15.722292  0.015354  0.015354  [1302, 1302, 3]     1302   \n",
       "4   152.250000   12.338963  0.048199  0.048199    [414, 414, 3]      414   \n",
       "\n",
       "   ResizeW  \n",
       "0      356  \n",
       "1      168  \n",
       "2      372  \n",
       "3     1302  \n",
       "4      414  "
      ]
     },
     "execution_count": 34,
     "metadata": {},
     "output_type": "execute_result"
    }
   ],
   "source": [
    "df.head()"
   ]
  },
  {
   "cell_type": "code",
   "execution_count": 35,
   "metadata": {},
   "outputs": [],
   "source": [
    "df.to_csv('../output/training_df_resize_info.csv', index=False)"
   ]
  },
  {
   "cell_type": "code",
   "execution_count": null,
   "metadata": {},
   "outputs": [],
   "source": []
  },
  {
   "cell_type": "code",
   "execution_count": null,
   "metadata": {},
   "outputs": [],
   "source": []
  }
 ],
 "metadata": {
  "kernelspec": {
   "display_name": "Python 3",
   "language": "python",
   "name": "python3"
  },
  "language_info": {
   "codemirror_mode": {
    "name": "ipython",
    "version": 3
   },
   "file_extension": ".py",
   "mimetype": "text/x-python",
   "name": "python",
   "nbconvert_exporter": "python",
   "pygments_lexer": "ipython3",
   "version": "3.6.4"
  }
 },
 "nbformat": 4,
 "nbformat_minor": 2
}
