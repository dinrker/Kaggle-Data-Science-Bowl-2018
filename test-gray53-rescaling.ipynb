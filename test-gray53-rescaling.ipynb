{
 "cells": [
  {
   "cell_type": "code",
   "execution_count": 54,
   "metadata": {},
   "outputs": [],
   "source": [
    "import glob\n",
    "import cv2\n",
    "import os\n",
    "import shutil\n",
    "import skimage\n",
    "import numpy as np\n",
    "import pandas as pd\n",
    "\n",
    "import skimage.transform \n",
    "import skimage.morphology\n",
    "from skimage.io import imread, imsave\n",
    "from skimage.measure import regionprops\n",
    "\n",
    "import matplotlib.pyplot as plt\n",
    "%matplotlib inline"
   ]
  },
  {
   "cell_type": "code",
   "execution_count": 2,
   "metadata": {},
   "outputs": [
    {
     "data": {
      "text/plain": [
       "(256, 256, 3)    24\n",
       "(512, 640, 3)     8\n",
       "(512, 680, 3)     8\n",
       "(260, 347, 3)     4\n",
       "(520, 696, 3)     4\n",
       "(520, 348, 3)     4\n",
       "(519, 253, 3)     4\n",
       "(524, 348, 3)     4\n",
       "(519, 161, 3)     2\n",
       "(519, 162, 3)     2\n",
       "(390, 239, 3)     1\n",
       "dtype: int64"
      ]
     },
     "execution_count": 2,
     "metadata": {},
     "output_type": "execute_result"
    }
   ],
   "source": [
    "image_paths = glob.glob('../input/stage1_test/*/images/*.png')\n",
    "test_shapes = []\n",
    "for path in image_paths:\n",
    "    img = cv2.imread(path)\n",
    "#     img = skimage.io.imread(path)\n",
    "    test_shapes.append(img.shape)\n",
    "pd.Series(test_shapes).value_counts()"
   ]
  },
  {
   "cell_type": "code",
   "execution_count": 3,
   "metadata": {},
   "outputs": [],
   "source": [
    "# 0 - staining;\n",
    "# 1 - fluorescent microscopy;\n",
    "# 2 - brightfield microscopy;\n",
    "type_names = {0: \"staining\", 1: \"fluorescent\", 2: \"brightfield\"}\n",
    "\n",
    "def get_violet_num(img):\n",
    "    violet_num = 0\n",
    "    h, w = img.shape[:2]\n",
    "    for y in range(h):\n",
    "        for x in range(w):\n",
    "            if img[y, x][0] > img[y, x][1] and img[y, x][2] > img[y, x][1]:\n",
    "                violet_num += 1\n",
    "\n",
    "    return violet_num\n",
    "\n",
    "def get_microscopy_type(img):\n",
    "    violet_num = get_violet_num(img)\n",
    "    if violet_num > 0:\n",
    "        return 0\n",
    "    mean_int = img.mean()\n",
    "    # randomly picked threshold for distinquishing fluorescent and brightfield\n",
    "    if mean_int > 100:\n",
    "        return 2\n",
    "    return 1"
   ]
  },
  {
   "cell_type": "markdown",
   "metadata": {},
   "source": [
    "### test gray53 resize"
   ]
  },
  {
   "cell_type": "code",
   "execution_count": 4,
   "metadata": {},
   "outputs": [
    {
     "name": "stdout",
     "output_type": "stream",
     "text": [
      "Total number of gray testing samples: 53\n"
     ]
    }
   ],
   "source": [
    "mask_paths = glob.glob('../input/psds_gray53/*/*.mask.png')\n",
    "mask_paths.sort()\n",
    "print('Total number of gray testing samples: ' + str(len(mask_paths))) "
   ]
  },
  {
   "cell_type": "code",
   "execution_count": 5,
   "metadata": {},
   "outputs": [],
   "source": [
    "image_ids, image_shapes, image_types, num_of_cells, cell_areas, mean_area, nuclei_size = [], [], [], [], [], [], []\n",
    "shape_hs, shape_ws = [], []"
   ]
  },
  {
   "cell_type": "code",
   "execution_count": 6,
   "metadata": {},
   "outputs": [],
   "source": [
    "counter = 0\n",
    "for path in mask_paths:\n",
    "    counter += 1\n",
    "    if counter % 100 == 0:\n",
    "        print(counter)\n",
    "    image_id = path.split('/')[-1].split('.mask')[0]\n",
    "    image_ids.append(image_id)\n",
    "    \n",
    "    # image shape and type\n",
    "    mask = cv2.imread(path)\n",
    "    mask = mask[:,:,2] + mask[:,:,1] + mask[:,:,0]\n",
    "    image_shapes.append(list(mask.shape))\n",
    "    shape_hs.append(mask.shape[0])\n",
    "    shape_ws.append(mask.shape[1])\n",
    "    image_types.append(1)\n",
    "#     img_type = get_microscopy_type(img)\n",
    "#     image_types.append(img_type)\n",
    "    \n",
    "    # mask info\n",
    "    regions = regionprops(mask)\n",
    "    num_of_cells.append(len(regions))\n",
    "    areas = []\n",
    "    for reg in regions:\n",
    "        area = reg.area\n",
    "        areas.append(area)\n",
    "        \n",
    "    cell_areas.append(areas)\n",
    "    m_area = np.mean(areas)\n",
    "    mean_area.append(m_area)\n",
    "    nuclei_size.append(np.sqrt(m_area))"
   ]
  },
  {
   "cell_type": "code",
   "execution_count": 7,
   "metadata": {},
   "outputs": [
    {
     "data": {
      "text/html": [
       "<div>\n",
       "<style scoped>\n",
       "    .dataframe tbody tr th:only-of-type {\n",
       "        vertical-align: middle;\n",
       "    }\n",
       "\n",
       "    .dataframe tbody tr th {\n",
       "        vertical-align: top;\n",
       "    }\n",
       "\n",
       "    .dataframe thead th {\n",
       "        text-align: right;\n",
       "    }\n",
       "</style>\n",
       "<table border=\"1\" class=\"dataframe\">\n",
       "  <thead>\n",
       "    <tr style=\"text-align: right;\">\n",
       "      <th></th>\n",
       "      <th>ImageId</th>\n",
       "      <th>Shape</th>\n",
       "      <th>ShapeH</th>\n",
       "      <th>ShapeW</th>\n",
       "      <th>Type</th>\n",
       "      <th>NumCells</th>\n",
       "      <th>CellAreas</th>\n",
       "      <th>MeanArea</th>\n",
       "      <th>NucleiSize</th>\n",
       "      <th>RatioH</th>\n",
       "      <th>RatioW</th>\n",
       "    </tr>\n",
       "  </thead>\n",
       "  <tbody>\n",
       "    <tr>\n",
       "      <th>41</th>\n",
       "      <td>bdc789019cee8ddfae20d5f769299993b4b330b2d38d12...</td>\n",
       "      <td>[520, 696]</td>\n",
       "      <td>520</td>\n",
       "      <td>696</td>\n",
       "      <td>1</td>\n",
       "      <td>28</td>\n",
       "      <td>[495, 1840, 533, 1674, 115, 675, 245, 1886, 12...</td>\n",
       "      <td>1323.178571</td>\n",
       "      <td>36.375522</td>\n",
       "      <td>0.069953</td>\n",
       "      <td>0.052264</td>\n",
       "    </tr>\n",
       "    <tr>\n",
       "      <th>1</th>\n",
       "      <td>0999dab07b11bc85fb8464fc36c947fbd8b5d6ec498173...</td>\n",
       "      <td>[519, 253]</td>\n",
       "      <td>519</td>\n",
       "      <td>253</td>\n",
       "      <td>1</td>\n",
       "      <td>57</td>\n",
       "      <td>[563, 578, 517, 523, 526, 454, 242, 507, 166, ...</td>\n",
       "      <td>441.701754</td>\n",
       "      <td>21.016702</td>\n",
       "      <td>0.040495</td>\n",
       "      <td>0.083070</td>\n",
       "    </tr>\n",
       "  </tbody>\n",
       "</table>\n",
       "</div>"
      ],
      "text/plain": [
       "                                              ImageId       Shape  ShapeH  \\\n",
       "41  bdc789019cee8ddfae20d5f769299993b4b330b2d38d12...  [520, 696]     520   \n",
       "1   0999dab07b11bc85fb8464fc36c947fbd8b5d6ec498173...  [519, 253]     519   \n",
       "\n",
       "    ShapeW  Type  NumCells                                          CellAreas  \\\n",
       "41     696     1        28  [495, 1840, 533, 1674, 115, 675, 245, 1886, 12...   \n",
       "1      253     1        57  [563, 578, 517, 523, 526, 454, 242, 507, 166, ...   \n",
       "\n",
       "       MeanArea  NucleiSize    RatioH    RatioW  \n",
       "41  1323.178571   36.375522  0.069953  0.052264  \n",
       "1    441.701754   21.016702  0.040495  0.083070  "
      ]
     },
     "execution_count": 7,
     "metadata": {},
     "output_type": "execute_result"
    }
   ],
   "source": [
    "df = pd.DataFrame(list(zip(image_ids, image_shapes, shape_hs, shape_ws, image_types, \n",
    "                           num_of_cells, cell_areas, mean_area, nuclei_size)), \n",
    "                 columns = ['ImageId', 'Shape', 'ShapeH', 'ShapeW', 'Type', \n",
    "                            'NumCells', 'CellAreas', 'MeanArea', 'NucleiSize'])\n",
    "\n",
    "df['RatioH'] = df.apply(lambda row: row['NucleiSize'] / row['ShapeH'], axis=1)\n",
    "df['RatioW'] = df.apply(lambda row: row['NucleiSize'] / row['ShapeW'], axis=1)\n",
    "\n",
    "df.sample(2)"
   ]
  },
  {
   "cell_type": "code",
   "execution_count": 8,
   "metadata": {},
   "outputs": [],
   "source": [
    "df.to_csv('../output/testing_gray53_df_info.csv', index=False)"
   ]
  },
  {
   "cell_type": "code",
   "execution_count": 9,
   "metadata": {},
   "outputs": [],
   "source": [
    "def resize_shape(row, target_nuclei_size=20, min_size=128):    \n",
    "    ratio = target_nuclei_size / row['NucleiSize']\n",
    "    shape = list(row['Shape'])\n",
    "    h, w, c = row['ShapeH'], row['ShapeW'], 3\n",
    "    rh, rw = 2*round(h*ratio/2), 2*round(w*ratio/2)\n",
    "    return [max(rh, min_size), max(rw, min_size), c]"
   ]
  },
  {
   "cell_type": "code",
   "execution_count": 10,
   "metadata": {},
   "outputs": [],
   "source": [
    "df['ResizeShape'] = df.apply(resize_shape, axis=1)\n",
    "df['ResizeH'] = df.apply(lambda row: resize_shape(row)[0], axis=1)\n",
    "df['ResizeW'] = df.apply(lambda row: resize_shape(row)[1], axis=1)"
   ]
  },
  {
   "cell_type": "code",
   "execution_count": 11,
   "metadata": {},
   "outputs": [
    {
     "data": {
      "text/html": [
       "<div>\n",
       "<style scoped>\n",
       "    .dataframe tbody tr th:only-of-type {\n",
       "        vertical-align: middle;\n",
       "    }\n",
       "\n",
       "    .dataframe tbody tr th {\n",
       "        vertical-align: top;\n",
       "    }\n",
       "\n",
       "    .dataframe thead th {\n",
       "        text-align: right;\n",
       "    }\n",
       "</style>\n",
       "<table border=\"1\" class=\"dataframe\">\n",
       "  <thead>\n",
       "    <tr style=\"text-align: right;\">\n",
       "      <th></th>\n",
       "      <th>ImageId</th>\n",
       "      <th>Shape</th>\n",
       "      <th>ShapeH</th>\n",
       "      <th>ShapeW</th>\n",
       "      <th>Type</th>\n",
       "      <th>NumCells</th>\n",
       "      <th>CellAreas</th>\n",
       "      <th>MeanArea</th>\n",
       "      <th>NucleiSize</th>\n",
       "      <th>RatioH</th>\n",
       "      <th>RatioW</th>\n",
       "      <th>ResizeShape</th>\n",
       "      <th>ResizeH</th>\n",
       "      <th>ResizeW</th>\n",
       "    </tr>\n",
       "  </thead>\n",
       "  <tbody>\n",
       "    <tr>\n",
       "      <th>51</th>\n",
       "      <td>fac507fa4d1649e8b24c195d990f1fc3ca3633d917839e...</td>\n",
       "      <td>[256, 256]</td>\n",
       "      <td>256</td>\n",
       "      <td>256</td>\n",
       "      <td>1</td>\n",
       "      <td>31</td>\n",
       "      <td>[70, 112, 122, 105, 43, 82, 70, 90, 24, 159, 7...</td>\n",
       "      <td>85.516129</td>\n",
       "      <td>9.247493</td>\n",
       "      <td>0.036123</td>\n",
       "      <td>0.036123</td>\n",
       "      <td>[554, 554, 3]</td>\n",
       "      <td>554</td>\n",
       "      <td>554</td>\n",
       "    </tr>\n",
       "    <tr>\n",
       "      <th>24</th>\n",
       "      <td>53df5150ee56253fe5bc91a9230d377bb21f1300f443ba...</td>\n",
       "      <td>[256, 256]</td>\n",
       "      <td>256</td>\n",
       "      <td>256</td>\n",
       "      <td>1</td>\n",
       "      <td>13</td>\n",
       "      <td>[134, 95, 163, 167, 111, 263, 89, 140, 208, 22...</td>\n",
       "      <td>156.769231</td>\n",
       "      <td>12.520752</td>\n",
       "      <td>0.048909</td>\n",
       "      <td>0.048909</td>\n",
       "      <td>[408, 408, 3]</td>\n",
       "      <td>408</td>\n",
       "      <td>408</td>\n",
       "    </tr>\n",
       "  </tbody>\n",
       "</table>\n",
       "</div>"
      ],
      "text/plain": [
       "                                              ImageId       Shape  ShapeH  \\\n",
       "51  fac507fa4d1649e8b24c195d990f1fc3ca3633d917839e...  [256, 256]     256   \n",
       "24  53df5150ee56253fe5bc91a9230d377bb21f1300f443ba...  [256, 256]     256   \n",
       "\n",
       "    ShapeW  Type  NumCells                                          CellAreas  \\\n",
       "51     256     1        31  [70, 112, 122, 105, 43, 82, 70, 90, 24, 159, 7...   \n",
       "24     256     1        13  [134, 95, 163, 167, 111, 263, 89, 140, 208, 22...   \n",
       "\n",
       "      MeanArea  NucleiSize    RatioH    RatioW    ResizeShape  ResizeH  \\\n",
       "51   85.516129    9.247493  0.036123  0.036123  [554, 554, 3]      554   \n",
       "24  156.769231   12.520752  0.048909  0.048909  [408, 408, 3]      408   \n",
       "\n",
       "    ResizeW  \n",
       "51      554  \n",
       "24      408  "
      ]
     },
     "execution_count": 11,
     "metadata": {},
     "output_type": "execute_result"
    }
   ],
   "source": [
    "df.sample(2)"
   ]
  },
  {
   "cell_type": "code",
   "execution_count": 12,
   "metadata": {},
   "outputs": [
    {
     "data": {
      "text/plain": [
       "(144, 138)"
      ]
     },
     "execution_count": 12,
     "metadata": {},
     "output_type": "execute_result"
    }
   ],
   "source": [
    "np.min(df['ResizeH']), np.min(df['ResizeW'])"
   ]
  },
  {
   "cell_type": "code",
   "execution_count": 13,
   "metadata": {},
   "outputs": [],
   "source": [
    "df.to_csv('../output/testing_gray53_df_resize_info.csv', index=False)"
   ]
  },
  {
   "cell_type": "markdown",
   "metadata": {},
   "source": [
    "### resizing"
   ]
  },
  {
   "cell_type": "code",
   "execution_count": 14,
   "metadata": {},
   "outputs": [],
   "source": [
    "def mkdir_p(path):\n",
    "    if not os.path.isdir(path):\n",
    "        os.mkdir(path)\n",
    "\n",
    "def read_image_or_mask(filepath, color_mode=cv2.IMREAD_COLOR, target_size=None):\n",
    "    \"\"\"Read an image from a file and resize it.\"\"\"\n",
    "    # for mask: color_mode=cv2.IMREAD_GRAYSCALE\n",
    "    img = cv2.imread(filepath, color_mode)\n",
    "    if target_size: \n",
    "        img = cv2.resize(img, target_size, interpolation = cv2.INTER_AREA)\n",
    "    return img"
   ]
  },
  {
   "cell_type": "code",
   "execution_count": 15,
   "metadata": {},
   "outputs": [],
   "source": [
    "original_path = '../input/stage1_test'\n",
    "resized_path = '../output/stage1_test_gray53_resized'\n",
    "\n",
    "gray53_ids = set(df[\"ImageId\"])\n",
    "test_paths = glob.glob(original_path + '/*')\n",
    "test_paths.sort()\n",
    "mkdir_p(resized_path)"
   ]
  },
  {
   "cell_type": "code",
   "execution_count": 16,
   "metadata": {},
   "outputs": [],
   "source": [
    "counter = 0\n",
    "for path in test_paths:\n",
    "    counter += 1\n",
    "    if counter % 100 == 0:\n",
    "        print(counter)\n",
    "    image_id = path.split('/')[-1]\n",
    "    if image_id not in gray53_ids:\n",
    "        continue\n",
    "    mkdir_p(resized_path + os.sep + image_id)\n",
    "    mkdir_p(resized_path + os.sep + image_id + '/images')\n",
    "    \n",
    "    # resize image\n",
    "    image_path = path + '/images/' + image_id + '.png'\n",
    "    query = df.loc[df['ImageId'] == image_id]\n",
    "    resize_h = query['ResizeH']\n",
    "    resize_w = query['ResizeW']\n",
    "    image = read_image_or_mask(image_path, target_size=(resize_h, resize_w))\n",
    "    \n",
    "    resize_image_path = resized_path + os.sep + image_id + '/images/' + image_id + '.png'\n",
    "    cv2.imwrite(resize_image_path, image)\n",
    "    \n",
    "#     # resize masks\n",
    "#     mask_paths = glob.glob(path + '/masks/*.png')\n",
    "#     for filepath in mask_paths:\n",
    "#         mask = read_image_or_mask(filepath, color_mode=cv2.IMREAD_GRAYSCALE, target_size=(resize_h, resize_w))\n",
    "#         resize_mask_path = resized_path + os.sep + image_id + '/masks/' + (filepath.split('/')[-1])\n",
    "#         cv2.imwrite(resize_mask_path, mask)  "
   ]
  },
  {
   "cell_type": "markdown",
   "metadata": {},
   "source": [
    "### split"
   ]
  },
  {
   "cell_type": "code",
   "execution_count": 17,
   "metadata": {},
   "outputs": [],
   "source": [
    "split_path = '../output/split'\n",
    "test_gray = open(split_path + os.sep + 'test3_ids_gray_53', 'w')\n",
    "test_counter = 0\n",
    "for i in range(len(df)):\n",
    "    image_id = df.iloc[i]['ImageId']\n",
    "    test_gray.write('stage1_test_gray53_resized/' + image_id + '\\n')\n",
    "    test_counter += 1\n",
    "\n",
    "test_gray.close() \n",
    "\n",
    "assert(test_counter == 53)\n"
   ]
  },
  {
   "cell_type": "code",
   "execution_count": null,
   "metadata": {},
   "outputs": [],
   "source": []
  },
  {
   "cell_type": "markdown",
   "metadata": {},
   "source": [
    "### resize back"
   ]
  },
  {
   "cell_type": "code",
   "execution_count": 75,
   "metadata": {},
   "outputs": [
    {
     "data": {
      "text/plain": [
       "53"
      ]
     },
     "execution_count": 75,
     "metadata": {},
     "output_type": "execute_result"
    }
   ],
   "source": [
    "original_path = '../input/npys_test_gray53'\n",
    "resized_path = '../output/npys_test_gray53_resized'\n",
    "\n",
    "gray53_ids = set(df[\"ImageId\"])\n",
    "test_paths = glob.glob(original_path + '/*')\n",
    "test_paths.sort()\n",
    "mkdir_p(resized_path)\n",
    "len(test_paths)"
   ]
  },
  {
   "cell_type": "code",
   "execution_count": 76,
   "metadata": {},
   "outputs": [],
   "source": [
    "counter = 0\n",
    "for path in test_paths:\n",
    "    counter += 1\n",
    "    if counter % 100 == 0:\n",
    "        print(counter)\n",
    "    image_id = path.split('/')[-1].split('.npy')[0]\n",
    "    \n",
    "    # resize npy\n",
    "    query = df.loc[df['ImageId'] == image_id]\n",
    "    resize_h = int(query['ShapeH'])\n",
    "    resize_w = int(query['ShapeW'])\n",
    "    target_size=(resize_h, resize_w)\n",
    "    mask = np.load(path)\n",
    "    mask = (mask > 0).astype(np.int8)\n",
    "    mask_resize = skimage.transform.resize(np.squeeze((mask > 0).astype(np.int8)), \n",
    "                                       target_size, mode='constant', preserve_range=True)\n",
    "    mask_resize = (mask_resize > 0.5).astype(np.int8)\n",
    "    lab_mask = skimage.morphology.label(mask_resize)\n",
    "    resize_image_path = resized_path + os.sep + path.split('/')[-1]\n",
    "    np.save(resize_image_path, lab_mask)    "
   ]
  },
  {
   "cell_type": "code",
   "execution_count": null,
   "metadata": {},
   "outputs": [],
   "source": []
  }
 ],
 "metadata": {
  "kernelspec": {
   "display_name": "Python 3",
   "language": "python",
   "name": "python3"
  },
  "language_info": {
   "codemirror_mode": {
    "name": "ipython",
    "version": 3
   },
   "file_extension": ".py",
   "mimetype": "text/x-python",
   "name": "python",
   "nbconvert_exporter": "python",
   "pygments_lexer": "ipython3",
   "version": "3.6.4"
  }
 },
 "nbformat": 4,
 "nbformat_minor": 2
}
