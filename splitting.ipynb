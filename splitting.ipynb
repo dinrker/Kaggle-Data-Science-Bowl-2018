{
 "cells": [
  {
   "cell_type": "code",
   "execution_count": 1,
   "metadata": {},
   "outputs": [],
   "source": [
    "import skimage\n",
    "import glob\n",
    "import cv2\n",
    "import os\n",
    "import shutil\n",
    "import skimage\n",
    "import numpy as np\n",
    "import pandas as pd\n",
    "\n",
    "from skimage.io import imread, imsave\n",
    "from sklearn.utils import shuffle\n",
    "\n",
    "import matplotlib.pyplot as plt\n",
    "%matplotlib inline"
   ]
  },
  {
   "cell_type": "code",
   "execution_count": 2,
   "metadata": {},
   "outputs": [
    {
     "data": {
      "text/html": [
       "<div>\n",
       "<style scoped>\n",
       "    .dataframe tbody tr th:only-of-type {\n",
       "        vertical-align: middle;\n",
       "    }\n",
       "\n",
       "    .dataframe tbody tr th {\n",
       "        vertical-align: top;\n",
       "    }\n",
       "\n",
       "    .dataframe thead th {\n",
       "        text-align: right;\n",
       "    }\n",
       "</style>\n",
       "<table border=\"1\" class=\"dataframe\">\n",
       "  <thead>\n",
       "    <tr style=\"text-align: right;\">\n",
       "      <th></th>\n",
       "      <th>ImageId</th>\n",
       "      <th>Shape</th>\n",
       "      <th>ShapeH</th>\n",
       "      <th>ShapeW</th>\n",
       "      <th>Type</th>\n",
       "      <th>NumCells</th>\n",
       "      <th>CellAreas</th>\n",
       "      <th>MeanArea</th>\n",
       "      <th>NucleiSize</th>\n",
       "      <th>RatioH</th>\n",
       "      <th>RatioW</th>\n",
       "    </tr>\n",
       "  </thead>\n",
       "  <tbody>\n",
       "    <tr>\n",
       "      <th>240</th>\n",
       "      <td>876423522bdec1602917b94163a21e05fc7b692045219b...</td>\n",
       "      <td>[520, 696, 3]</td>\n",
       "      <td>520</td>\n",
       "      <td>696</td>\n",
       "      <td>1</td>\n",
       "      <td>119</td>\n",
       "      <td>[561, 1163, 726, 579, 682, 613, 770, 486, 534,...</td>\n",
       "      <td>648.033613</td>\n",
       "      <td>25.456504</td>\n",
       "      <td>0.048955</td>\n",
       "      <td>0.036575</td>\n",
       "    </tr>\n",
       "    <tr>\n",
       "      <th>542</th>\n",
       "      <td>d6a880b1f6056f3086679de5c810e7af87cdf3bbbd0533...</td>\n",
       "      <td>[256, 256, 3]</td>\n",
       "      <td>256</td>\n",
       "      <td>256</td>\n",
       "      <td>1</td>\n",
       "      <td>77</td>\n",
       "      <td>[672, 21, 21, 117, 423, 169, 456, 21, 21, 360,...</td>\n",
       "      <td>208.740260</td>\n",
       "      <td>14.447846</td>\n",
       "      <td>0.056437</td>\n",
       "      <td>0.056437</td>\n",
       "    </tr>\n",
       "  </tbody>\n",
       "</table>\n",
       "</div>"
      ],
      "text/plain": [
       "                                               ImageId          Shape  ShapeH  \\\n",
       "240  876423522bdec1602917b94163a21e05fc7b692045219b...  [520, 696, 3]     520   \n",
       "542  d6a880b1f6056f3086679de5c810e7af87cdf3bbbd0533...  [256, 256, 3]     256   \n",
       "\n",
       "     ShapeW  Type  NumCells  \\\n",
       "240     696     1       119   \n",
       "542     256     1        77   \n",
       "\n",
       "                                             CellAreas    MeanArea  \\\n",
       "240  [561, 1163, 726, 579, 682, 613, 770, 486, 534,...  648.033613   \n",
       "542  [672, 21, 21, 117, 423, 169, 456, 21, 21, 360,...  208.740260   \n",
       "\n",
       "     NucleiSize    RatioH    RatioW  \n",
       "240   25.456504  0.048955  0.036575  \n",
       "542   14.447846  0.056437  0.056437  "
      ]
     },
     "execution_count": 2,
     "metadata": {},
     "output_type": "execute_result"
    }
   ],
   "source": [
    "df = pd.read_csv('../output/training_df_info.csv')\n",
    "\n",
    "random_state = 1234\n",
    "df = df.sample(frac=1.0, random_state=random_state)\n",
    "df.head(2)"
   ]
  },
  {
   "cell_type": "code",
   "execution_count": 3,
   "metadata": {},
   "outputs": [
    {
     "data": {
      "text/plain": [
       "1    546\n",
       "0    108\n",
       "2     16\n",
       "Name: Type, dtype: int64"
      ]
     },
     "execution_count": 3,
     "metadata": {},
     "output_type": "execute_result"
    }
   ],
   "source": [
    "df_0 = df[df['Type'] == 0]\n",
    "df_1 = df[df['Type'] == 1]\n",
    "df_2 = df[df['Type'] == 2]\n",
    "df['Type'].value_counts()"
   ]
  },
  {
   "cell_type": "code",
   "execution_count": 4,
   "metadata": {},
   "outputs": [],
   "source": [
    "df_0 = df_0.sample(frac=1.0, random_state=random_state)\n",
    "df_1 = df_1.sample(frac=1.0, random_state=random_state)\n",
    "df_2 = df_2.sample(frac=1.0, random_state=random_state)"
   ]
  },
  {
   "cell_type": "markdown",
   "metadata": {},
   "source": [
    "### split"
   ]
  },
  {
   "cell_type": "code",
   "execution_count": 5,
   "metadata": {},
   "outputs": [],
   "source": [
    "df_gray_train = df_1[:500]\n",
    "df_gray_val = df_1[500:]\n",
    "\n",
    "df_color_train = df_0[:96]\n",
    "df_color_val = df_0[96:]\n",
    "df_color_train = df_color_train.append(df_2[:14])\n",
    "df_color_val = df_color_val.append(df_2[14:])"
   ]
  },
  {
   "cell_type": "code",
   "execution_count": 6,
   "metadata": {},
   "outputs": [
    {
     "data": {
      "text/plain": [
       "(500, 46, 110, 14)"
      ]
     },
     "execution_count": 6,
     "metadata": {},
     "output_type": "execute_result"
    }
   ],
   "source": [
    "len(df_gray_train), len(df_gray_val), len(df_color_train), len(df_color_val)"
   ]
  },
  {
   "cell_type": "code",
   "execution_count": 7,
   "metadata": {},
   "outputs": [],
   "source": [
    "def mkdir_p(path):\n",
    "    if not os.path.isdir(path):\n",
    "        os.mkdir(path)"
   ]
  },
  {
   "cell_type": "code",
   "execution_count": 8,
   "metadata": {},
   "outputs": [],
   "source": [
    "split_path = '../output/split_new'\n",
    "mkdir_p(split_path)"
   ]
  },
  {
   "cell_type": "code",
   "execution_count": 9,
   "metadata": {},
   "outputs": [],
   "source": [
    "# gray split: 500/46\n",
    "train_gray = open(split_path + os.sep + 'train4_ids_gray_500', 'w')\n",
    "val_gray = open(split_path + os.sep + 'val4_ids_gray_46', 'w')\n",
    "\n",
    "train_gray_ids = list(df_gray_train['ImageId'])\n",
    "val_gray_ids = list(df_gray_val['ImageId'])\n",
    "train_counter = 0\n",
    "val_counter = 0\n",
    "\n",
    "for image_id in train_gray_ids:\n",
    "    train_gray.write('stage1_train/' + image_id + '\\n')\n",
    "    train_counter += 1\n",
    "train_gray.close()\n",
    "assert(train_counter == 500)\n",
    "\n",
    "for image_id in val_gray_ids:\n",
    "    val_gray.write('stage1_train/' + image_id + '\\n')\n",
    "    val_counter += 1\n",
    "val_gray.close()\n",
    "assert(val_counter == 46)"
   ]
  },
  {
   "cell_type": "code",
   "execution_count": 10,
   "metadata": {},
   "outputs": [],
   "source": [
    "# color split: 110/14\n",
    "train_color = open(split_path + os.sep + 'train4_ids_color_110', 'w')\n",
    "val_color = open(split_path + os.sep + 'val4_ids_color_14', 'w')\n",
    "\n",
    "train_color_ids = list(df_color_train['ImageId'])\n",
    "val_color_ids = list(df_color_val['ImageId'])\n",
    "train_counter = 0\n",
    "val_counter = 0\n",
    "\n",
    "for image_id in train_color_ids:\n",
    "    train_color.write('stage1_train/' + image_id + '\\n')\n",
    "    train_counter += 1\n",
    "train_color.close()\n",
    "assert(train_counter == 110)\n",
    "\n",
    "for image_id in val_color_ids:\n",
    "    val_color.write('stage1_train/' + image_id + '\\n')\n",
    "    val_counter += 1\n",
    "val_color.close()\n",
    "assert(val_counter == 14)"
   ]
  },
  {
   "cell_type": "code",
   "execution_count": null,
   "metadata": {},
   "outputs": [],
   "source": []
  },
  {
   "cell_type": "code",
   "execution_count": null,
   "metadata": {},
   "outputs": [],
   "source": []
  },
  {
   "cell_type": "code",
   "execution_count": null,
   "metadata": {},
   "outputs": [],
   "source": []
  }
 ],
 "metadata": {
  "kernelspec": {
   "display_name": "Python 3",
   "language": "python",
   "name": "python3"
  },
  "language_info": {
   "codemirror_mode": {
    "name": "ipython",
    "version": 3
   },
   "file_extension": ".py",
   "mimetype": "text/x-python",
   "name": "python",
   "nbconvert_exporter": "python",
   "pygments_lexer": "ipython3",
   "version": "3.6.4"
  }
 },
 "nbformat": 4,
 "nbformat_minor": 2
}
