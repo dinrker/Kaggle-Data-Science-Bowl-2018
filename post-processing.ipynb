{
 "cells": [
  {
   "cell_type": "code",
   "execution_count": 1,
   "metadata": {},
   "outputs": [],
   "source": [
    "import pandas as pd                 \n",
    "import numpy as np                                       \n",
    "import sklearn.model_selection     # For using KFold\n",
    "import datetime                    # To measure running time \n",
    "import skimage.transform           # For resizing images\n",
    "import skimage.morphology          # For using image labeling\n",
    "import cv2                         # To read and manipulate images\n",
    "import os                          # For filepath, directory handling\n",
    "import sys                         # System-specific parameters and functions\n",
    "import tqdm                        # Use smart progress meter\n",
    "import seaborn as sns              # For pairplots\n",
    "import matplotlib.pyplot as plt    # Python 2D plotting library\n",
    "import matplotlib.cm as cm         # Color map\n",
    "%matplotlib inline  \n",
    "\n",
    "import time\n",
    "import glob"
   ]
  },
  {
   "cell_type": "code",
   "execution_count": 2,
   "metadata": {},
   "outputs": [],
   "source": [
    "# https://www.kaggle.com/jakubczakon/morphological-postprocessing-on-unet-lb-0-429\n",
    "import skimage.morphology as morph\n",
    "from skimage.filters import threshold_otsu\n",
    "import scipy.ndimage as ndi\n",
    "from scipy.stats import itemfreq\n",
    "\n",
    "from itertools import product\n"
   ]
  },
  {
   "cell_type": "code",
   "execution_count": 3,
   "metadata": {},
   "outputs": [],
   "source": [
    "def mask_to_contour_overlay(mask, image=None, color=[255,255,255]):\n",
    "\n",
    "    height,width = mask.shape[:2]\n",
    "    overlay = np.zeros((height,width,3),np.uint8) if image is None else image.copy()\n",
    "\n",
    "    num_instances = int(mask.max())\n",
    "    if num_instances==0: return overlay\n",
    "\n",
    "    for i in range(num_instances):\n",
    "        overlay[mask_to_inner_contour(mask==i+1)]=color\n",
    "\n",
    "    return overlay\n",
    "\n",
    "# modifier  ----------------------------------------------------------------\n",
    "\n",
    "def mask_to_outer_contour(mask):\n",
    "    pad = np.lib.pad(mask, ((1, 1), (1, 1)), 'reflect')\n",
    "    contour = (~mask) & (\n",
    "            (pad[1:-1,1:-1] != pad[:-2,1:-1]) \\\n",
    "          | (pad[1:-1,1:-1] != pad[2:,1:-1])  \\\n",
    "          | (pad[1:-1,1:-1] != pad[1:-1,:-2]) \\\n",
    "          | (pad[1:-1,1:-1] != pad[1:-1,2:])\n",
    "    )\n",
    "    return contour\n",
    "\n",
    "def mask_to_inner_contour(mask):\n",
    "    pad = np.lib.pad(mask, ((1, 1), (1, 1)), 'reflect')\n",
    "    contour = mask & (\n",
    "            (pad[1:-1,1:-1] != pad[:-2,1:-1]) \\\n",
    "          | (pad[1:-1,1:-1] != pad[2:,1:-1])  \\\n",
    "          | (pad[1:-1,1:-1] != pad[1:-1,:-2]) \\\n",
    "          | (pad[1:-1,1:-1] != pad[1:-1,2:])\n",
    "    )\n",
    "    return contour"
   ]
  },
  {
   "cell_type": "code",
   "execution_count": 4,
   "metadata": {},
   "outputs": [],
   "source": [
    "def plot_list(images, labels):\n",
    "    n_img = len(images)\n",
    "    n_lab = len(labels)\n",
    "    n = n_lab+n_img\n",
    "    plt.figure(figsize=(12,8))\n",
    "    for i, image in enumerate(images):\n",
    "        plt.subplot(1,n,i+1)\n",
    "        plt.imshow(image)\n",
    "    for j, label in enumerate(labels):\n",
    "        plt.subplot(1,n,n_img+j+1)\n",
    "        plt.imshow(label, cmap='nipy_spectral')\n",
    "    plt.show()\n",
    "    \n",
    "def mean_blob_size(mask):\n",
    "    labels, labels_nr = ndi.label(mask)\n",
    "    if labels_nr < 2:\n",
    "        mean_area = 1\n",
    "        mean_radius = 1\n",
    "    else:\n",
    "        mean_area = int(itemfreq(labels)[1:, 1].mean())\n",
    "        mean_radius = int(np.round(np.sqrt(mean_area) / np.pi))\n",
    "    return mean_area, mean_radius\n",
    "\n",
    "def pad_mask(mask, pad):\n",
    "    if pad <= 1:\n",
    "        pad = 2\n",
    "    h, w = mask.shape\n",
    "    h_pad = h + 2 * pad\n",
    "    w_pad = w + 2 * pad\n",
    "    mask_padded = np.zeros((h_pad, w_pad))\n",
    "    mask_padded[pad:pad + h, pad:pad + w] = mask\n",
    "    mask_padded[pad - 1, :] = 1\n",
    "    mask_padded[pad + h + 1, :] = 1\n",
    "    mask_padded[:, pad - 1] = 1\n",
    "    mask_padded[:, pad + w + 1] = 1\n",
    "\n",
    "    return mask_padded\n",
    "\n",
    "def crop_mask(mask, crop):\n",
    "    if crop <= 1:\n",
    "        crop = 2\n",
    "    h, w = mask.shape\n",
    "    mask_cropped = mask[crop:h - crop, crop:w - crop]\n",
    "    return mask_cropped\n",
    "\n",
    "\n",
    "def watershed_v3(mask, contour):\n",
    "    cleaned_mask = clean_mask_v2(mask, contour)\n",
    "    good_markers = good_markers_v3(cleaned_mask,contour)\n",
    "    good_distance = good_distance_v1(cleaned_mask)\n",
    "    \n",
    "    labels = morph.watershed(-good_distance, good_markers, mask=cleaned_mask)\n",
    "    \n",
    "    labels = add_dropped_water_blobs(labels, cleaned_mask)\n",
    "    \n",
    "    m_thresh = threshold_otsu(mask)\n",
    "    initial_mask_binary = (mask > m_thresh).astype(np.uint8)\n",
    "    labels = drop_artifacts_per_label(labels,initial_mask_binary)\n",
    "    \n",
    "    labels = drop_small(labels, min_size=20)\n",
    "    labels = fill_holes_per_blob(labels)\n",
    "        \n",
    "    return labels\n",
    "\n",
    "\n",
    "\n",
    "def relabel(img):\n",
    "    h, w = img.shape\n",
    "\n",
    "    relabel_dict = {}\n",
    "\n",
    "    for i, k in enumerate(np.unique(img)):\n",
    "        if k == 0:\n",
    "            relabel_dict[k] = 0\n",
    "        else:\n",
    "            relabel_dict[k] = i\n",
    "    for i, j in product(range(h), range(w)):\n",
    "        img[i, j] = relabel_dict[img[i, j]]\n",
    "    return img\n",
    "\n",
    "def drop_small(img, min_size):\n",
    "    img = morph.remove_small_objects(img, min_size=min_size)\n",
    "    return relabel(img)\n",
    "\n",
    "def fill_holes_per_blob(image):\n",
    "    image_cleaned = np.zeros_like(image)\n",
    "    for i in range(1, image.max() + 1):\n",
    "        mask = np.where(image == i, 1, 0)\n",
    "        mask = ndi.morphology.binary_fill_holes(mask)\n",
    "        image_cleaned = image_cleaned + mask * i\n",
    "    return image_cleaned\n",
    "\n",
    "\n",
    "def good_distance_v1(m_b):\n",
    "    distance = ndi.distance_transform_edt(m_b)\n",
    "    return distance\n",
    "\n",
    "def add_dropped_water_blobs(water, mask_cleaned):\n",
    "    water_mask = (water > 0).astype(np.uint8)\n",
    "    dropped = mask_cleaned - water_mask\n",
    "    dropped, _ = ndi.label(dropped)\n",
    "    dropped = np.where(dropped, dropped + water.max(), 0)\n",
    "    water = water + dropped\n",
    "    return water\n",
    "\n",
    "def drop_artifacts_per_label(labels, initial_mask):\n",
    "    labels_cleaned = np.zeros_like(labels)\n",
    "    for i in range(1, labels.max() + 1):\n",
    "        component = np.where(labels == i, 1, 0)\n",
    "        component_initial_mask = np.where(labels == i, initial_mask, 0)\n",
    "        component = drop_artifacts(component, component_initial_mask)\n",
    "        labels_cleaned = labels_cleaned + component * i\n",
    "    return labels_cleaned\n",
    "\n",
    "\n",
    "def clean_mask_v2(m,c):\n",
    "    # threshold\n",
    "    m_b = m > threshold_otsu(m)\n",
    "    c_b = c > threshold_otsu(c)\n",
    "\n",
    "    # combine contours and masks and fill the cells\n",
    "    m_ = np.where(m_b | c_b, 1, 0)\n",
    "    m_ = ndi.binary_fill_holes(m_)\n",
    "\n",
    "    # close what wasn't closed before \n",
    "    area, radius = mean_blob_size(m_b)\n",
    "    struct_size = int(1.25*radius)\n",
    "    struct_el = morph.disk(struct_size)\n",
    "    m_padded = pad_mask(m_, pad=struct_size)\n",
    "    m_padded = morph.binary_closing(m_padded, selem=struct_el)\n",
    "    m_ = crop_mask(m_padded, crop=struct_size)\n",
    "    \n",
    "    # open to cut the real cells from the artifacts\n",
    "    area, radius = mean_blob_size(m_b)\n",
    "    struct_size = int(0.75*radius)\n",
    "    struct_el = morph.disk(struct_size)\n",
    "    m_ = np.where(c_b & (~m_b), 0, m_)\n",
    "    m_padded = pad_mask(m_, pad=struct_size)\n",
    "    m_padded = morph.binary_opening(m_padded, selem=struct_el)\n",
    "    m_ = crop_mask(m_padded, crop=struct_size)\n",
    "\n",
    "    # join the connected cells with what we had at the beginning\n",
    "    m_ = np.where(m_b|m_,1,0)\n",
    "    m_ = ndi.binary_fill_holes(m_)\n",
    "    \n",
    "    # drop all the cells that weren't present at least in 25% of area in the initial mask \n",
    "    m_ = drop_artifacts(m_, m_b,min_coverage=0.25)\n",
    "    \n",
    "    return m_\n",
    "\n",
    "def drop_artifacts(mask_after, mask_pre, min_coverage=0.5):\n",
    "    connected, nr_connected = ndi.label(mask_after)\n",
    "    mask = np.zeros_like(mask_after)\n",
    "    for i in range(1, nr_connected + 1):\n",
    "        conn_blob = np.where(connected == i, 1, 0)\n",
    "        initial_space = np.where(connected == i, mask_pre, 0)\n",
    "        blob_size = np.sum(conn_blob)\n",
    "        initial_blob_size = np.sum(initial_space)\n",
    "        coverage = float(initial_blob_size) / float(blob_size)\n",
    "        if coverage > min_coverage:\n",
    "            mask = mask + conn_blob\n",
    "        else:\n",
    "            mask = mask + initial_space\n",
    "    return mask\n",
    "\n",
    "\n",
    "def good_markers_v3(m_b,c):\n",
    "    # threshold\n",
    "    c_b = c > threshold_otsu(c)\n",
    "    \n",
    "    mk_ = np.where(c_b,0,m_b)\n",
    "    \n",
    "    area, radius = mean_blob_size(m_b)\n",
    "    struct_size = int(0.25*radius)\n",
    "    struct_el = morph.disk(struct_size)\n",
    "    m_padded = pad_mask(mk_, pad=struct_size)\n",
    "    m_padded = morph.erosion(m_padded, selem=struct_el)\n",
    "    mk_ = crop_mask(m_padded, crop=struct_size)\n",
    "    mk_,_ = ndi.label(mk_) \n",
    "    return mk_\n",
    "\n"
   ]
  },
  {
   "cell_type": "code",
   "execution_count": 5,
   "metadata": {},
   "outputs": [],
   "source": [
    "m1 = np.load('/home/jun/20180330/results/mask-rcnn-50-gray500-02/submit/npys/0a849e0eb15faa8a6d7329c3dd66aabe9a294cccb52ed30a90c8ca99092ae732.npy')"
   ]
  },
  {
   "cell_type": "code",
   "execution_count": 6,
   "metadata": {},
   "outputs": [],
   "source": [
    "c1 = mask_to_contour_overlay(m1)\n",
    "c1 = c1[:,:,0]/255"
   ]
  },
  {
   "cell_type": "code",
   "execution_count": 7,
   "metadata": {},
   "outputs": [
    {
     "data": {
      "text/plain": [
       "array([0., 1.])"
      ]
     },
     "execution_count": 7,
     "metadata": {},
     "output_type": "execute_result"
    }
   ],
   "source": [
    "np.unique(c1)"
   ]
  },
  {
   "cell_type": "code",
   "execution_count": 8,
   "metadata": {},
   "outputs": [],
   "source": [
    "l = watershed_v3(m1, c1)"
   ]
  },
  {
   "cell_type": "code",
   "execution_count": 9,
   "metadata": {},
   "outputs": [
    {
     "data": {
      "text/plain": [
       "<matplotlib.image.AxesImage at 0x7f4af88ba080>"
      ]
     },
     "execution_count": 9,
     "metadata": {},
     "output_type": "execute_result"
    },
    {
     "data": {
      "image/png": "[encoded data removed]",
      "text/plain": [
       "<matplotlib.figure.Figure at 0x7f4af893f898>"
      ]
     },
     "metadata": {},
     "output_type": "display_data"
    }
   ],
   "source": [
    "plt.imshow(l)"
   ]
  },
  {
   "cell_type": "code",
   "execution_count": 10,
   "metadata": {},
   "outputs": [
    {
     "data": {
      "text/plain": [
       "array([ 0,  1,  2,  3,  4,  5,  6,  7,  8,  9, 10, 11, 12, 13, 14, 15, 16,\n",
       "       17, 18, 19, 20, 21, 22, 23, 24, 25, 26, 27, 28, 29, 30])"
      ]
     },
     "execution_count": 10,
     "metadata": {},
     "output_type": "execute_result"
    }
   ],
   "source": [
    "np.unique(l)"
   ]
  },
  {
   "cell_type": "code",
   "execution_count": 11,
   "metadata": {},
   "outputs": [
    {
     "data": {
      "text/plain": [
       "array([ 0.,  1.,  2.,  3.,  4.,  5.,  6.,  7.,  8.,  9., 10., 11., 12.,\n",
       "       13., 14., 15., 16., 17., 18., 19., 20., 21., 22., 23., 24., 25.,\n",
       "       26., 27., 28., 29., 30., 31., 32., 33., 34., 35., 36., 37., 38.,\n",
       "       39., 40., 41., 42., 43.], dtype=float32)"
      ]
     },
     "execution_count": 11,
     "metadata": {},
     "output_type": "execute_result"
    }
   ],
   "source": [
    "np.unique(m1)"
   ]
  },
  {
   "cell_type": "code",
   "execution_count": null,
   "metadata": {},
   "outputs": [],
   "source": []
  }
 ],
 "metadata": {
  "kernelspec": {
   "display_name": "Python 3",
   "language": "python",
   "name": "python3"
  },
  "language_info": {
   "codemirror_mode": {
    "name": "ipython",
    "version": 3
   },
   "file_extension": ".py",
   "mimetype": "text/x-python",
   "name": "python",
   "nbconvert_exporter": "python",
   "pygments_lexer": "ipython3",
   "version": "3.6.4"
  }
 },
 "nbformat": 4,
 "nbformat_minor": 2
}
