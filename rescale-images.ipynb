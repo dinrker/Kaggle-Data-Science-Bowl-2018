{
 "cells": [
  {
   "cell_type": "code",
   "execution_count": 1,
   "metadata": {},
   "outputs": [],
   "source": [
    "import skimage\n",
    "import glob\n",
    "import cv2\n",
    "import os\n",
    "import shutil\n",
    "import skimage\n",
    "import numpy as np\n",
    "import pandas as pd\n",
    "\n",
    "from skimage.io import imread, imsave\n",
    "\n",
    "import matplotlib.pyplot as plt\n",
    "%matplotlib inline"
   ]
  },
  {
   "cell_type": "code",
   "execution_count": 2,
   "metadata": {},
   "outputs": [],
   "source": [
    "df = pd.read_csv('../output/training_df_resize_info.csv')"
   ]
  },
  {
   "cell_type": "code",
   "execution_count": 3,
   "metadata": {},
   "outputs": [],
   "source": [
    "original_path = '../input/stage1_train'\n",
    "resized_path = '../output/stage1_train_resized'"
   ]
  },
  {
   "cell_type": "code",
   "execution_count": 4,
   "metadata": {},
   "outputs": [],
   "source": [
    "def mkdir_p(path):\n",
    "    if not os.path.isdir(path):\n",
    "        os.mkdir(path)\n",
    "\n",
    "def read_image_or_mask(filepath, color_mode=cv2.IMREAD_COLOR, target_size=None):\n",
    "    \"\"\"Read an image from a file and resize it.\"\"\"\n",
    "    # for mask: color_mode=cv2.IMREAD_GRAYSCALE\n",
    "    img = cv2.imread(filepath, color_mode)\n",
    "    if target_size: \n",
    "        img = cv2.resize(img, target_size, interpolation = cv2.INTER_AREA)\n",
    "    return img\n"
   ]
  },
  {
   "cell_type": "code",
   "execution_count": 5,
   "metadata": {},
   "outputs": [
    {
     "data": {
      "text/plain": [
       "670"
      ]
     },
     "execution_count": 5,
     "metadata": {},
     "output_type": "execute_result"
    }
   ],
   "source": [
    "train_paths = glob.glob(original_path + '/*')\n",
    "train_paths.sort()\n",
    "mkdir_p(resized_path)\n",
    "len(train_paths)"
   ]
  },
  {
   "cell_type": "code",
   "execution_count": 6,
   "metadata": {},
   "outputs": [
    {
     "name": "stdout",
     "output_type": "stream",
     "text": [
      "100\n",
      "200\n",
      "300\n",
      "400\n",
      "500\n",
      "600\n"
     ]
    }
   ],
   "source": [
    "counter = 0\n",
    "for path in train_paths:\n",
    "    counter += 1\n",
    "    if counter % 100 == 0:\n",
    "        print(counter)\n",
    "    image_id = path.split('/')[-1]\n",
    "    mkdir_p(resized_path + os.sep + image_id)\n",
    "    mkdir_p(resized_path + os.sep + image_id + '/images')\n",
    "    mkdir_p(resized_path + os.sep + image_id + '/masks')\n",
    "    \n",
    "    # resize image\n",
    "    image_path = path + '/images/' + image_id + '.png'\n",
    "    query = df.loc[df['ImageId'] == image_id]\n",
    "    resize_h = query['ResizeH']\n",
    "    resize_w = query['ResizeW']\n",
    "    image = read_image_or_mask(image_path, target_size=(resize_h, resize_w))\n",
    "    \n",
    "    resize_image_path = resized_path + os.sep + image_id + '/images/' + image_id + '.png'\n",
    "    cv2.imwrite(resize_image_path, image)\n",
    "    \n",
    "    # resize masks\n",
    "    mask_paths = glob.glob(path + '/masks/*.png')\n",
    "    for filepath in mask_paths:\n",
    "        mask = read_image_or_mask(filepath, color_mode=cv2.IMREAD_GRAYSCALE, target_size=(resize_h, resize_w))\n",
    "        resize_mask_path = resized_path + os.sep + image_id + '/masks/' + (filepath.split('/')[-1])\n",
    "        cv2.imwrite(resize_mask_path, mask)  "
   ]
  },
  {
   "cell_type": "markdown",
   "metadata": {},
   "source": [
    "### split"
   ]
  },
  {
   "cell_type": "code",
   "execution_count": 7,
   "metadata": {},
   "outputs": [
    {
     "data": {
      "text/plain": [
       "1    546\n",
       "0    108\n",
       "2     16\n",
       "Name: Type, dtype: int64"
      ]
     },
     "execution_count": 7,
     "metadata": {},
     "output_type": "execute_result"
    }
   ],
   "source": [
    "random_state = 1234\n",
    "df.sample(frac=1.0, random_state=random_state)\n",
    "\n",
    "df['Type'].value_counts()"
   ]
  },
  {
   "cell_type": "code",
   "execution_count": 8,
   "metadata": {},
   "outputs": [],
   "source": [
    "df_0 = df[df['Type'] == 0]\n",
    "df_1 = df[df['Type'] == 1]\n",
    "df_2 = df[df['Type'] == 2]"
   ]
  },
  {
   "cell_type": "code",
   "execution_count": 9,
   "metadata": {},
   "outputs": [],
   "source": [
    "split_path = '../output/split'\n",
    "mkdir_p(split_path)"
   ]
  },
  {
   "cell_type": "code",
   "execution_count": 10,
   "metadata": {},
   "outputs": [],
   "source": [
    "train_gray = open(split_path + os.sep + 'train3_ids_gray_500', 'w')\n",
    "val_gray = open(split_path + os.sep + 'val3_ids_gray_46', 'w')\n",
    "train_counter = 0\n",
    "val_counter = 0\n",
    "for i in range(len(df_1)):\n",
    "    image_id = df_1.iloc[i]['ImageId']\n",
    "    if i < 500:\n",
    "        train_gray.write('stage1_train_resized/' + image_id + '\\n')\n",
    "        train_counter += 1\n",
    "    elif i >= 500:\n",
    "        val_gray.write('stage1_train_resized/' + image_id + '\\n')\n",
    "        val_counter += 1\n",
    "\n",
    "train_gray.close() \n",
    "val_gray.close() \n",
    "\n",
    "assert(train_counter == 500)\n",
    "assert(val_counter == 46)"
   ]
  },
  {
   "cell_type": "code",
   "execution_count": 11,
   "metadata": {},
   "outputs": [],
   "source": [
    "train_color = open(split_path + os.sep + 'train3_ids_color_100', 'w')\n",
    "val_color = open(split_path + os.sep + 'val3_ids_color_8', 'w')\n",
    "train_counter = 0\n",
    "val_counter = 0\n",
    "for i in range(len(df_0)):\n",
    "    image_id = df_1.iloc[i]['ImageId']\n",
    "    if i < 100:\n",
    "        train_color.write('stage1_train_resized/' + image_id + '\\n')\n",
    "        train_counter += 1\n",
    "    elif i >= 100:\n",
    "        val_color.write('stage1_train_resized/' + image_id + '\\n')\n",
    "        val_counter += 1\n",
    "\n",
    "train_color.close() \n",
    "val_color.close()\n",
    "\n",
    "assert(train_counter == 100)\n",
    "assert(val_counter == 8)"
   ]
  },
  {
   "cell_type": "code",
   "execution_count": 12,
   "metadata": {},
   "outputs": [],
   "source": [
    "train_670 = open(split_path + os.sep + 'train3_ids_all_670', 'w')\n",
    "train_counter = 0\n",
    "for i in range(len(df)):\n",
    "    image_id = df.iloc[i]['ImageId']\n",
    "    train_670.write('stage1_train_resized/' + image_id + '\\n')\n",
    "    train_counter += 1\n",
    "\n",
    "train_670.close() \n",
    "\n",
    "assert(train_counter == 670)\n"
   ]
  },
  {
   "cell_type": "code",
   "execution_count": 13,
   "metadata": {},
   "outputs": [
    {
     "data": {
      "text/plain": [
       "(128, 128)"
      ]
     },
     "execution_count": 13,
     "metadata": {},
     "output_type": "execute_result"
    }
   ],
   "source": [
    "np.min(df['ResizeH']), np.min(df['ResizeW'])"
   ]
  },
  {
   "cell_type": "code",
   "execution_count": 14,
   "metadata": {},
   "outputs": [
    {
     "data": {
      "text/plain": [
       "(256, 256)"
      ]
     },
     "execution_count": 14,
     "metadata": {},
     "output_type": "execute_result"
    }
   ],
   "source": [
    "np.min(df['ShapeH']), np.min(df['ShapeW'])"
   ]
  },
  {
   "cell_type": "code",
   "execution_count": null,
   "metadata": {},
   "outputs": [],
   "source": []
  },
  {
   "cell_type": "markdown",
   "metadata": {},
   "source": [
    "### other way to resize mask"
   ]
  },
  {
   "cell_type": "code",
   "execution_count": 15,
   "metadata": {},
   "outputs": [
    {
     "data": {
      "image/png": "[encoded data removed]",
      "text/plain": [
       "<matplotlib.figure.Figure at 0x7f6ed43ae160>"
      ]
     },
     "metadata": {},
     "output_type": "display_data"
    },
    {
     "data": {
      "image/png": "[encoded data removed]",
      "text/plain": [
       "<matplotlib.figure.Figure at 0x7f6e9c60a320>"
      ]
     },
     "metadata": {},
     "output_type": "display_data"
    },
    {
     "data": {
      "image/png": "[encoded data removed]",
      "text/plain": [
       "<matplotlib.figure.Figure at 0x7f6e9c51d668>"
      ]
     },
     "metadata": {},
     "output_type": "display_data"
    },
    {
     "name": "stdout",
     "output_type": "stream",
     "text": [
      "Done!\n"
     ]
    }
   ],
   "source": [
    "import matplotlib.pyplot as plt\n",
    "import numpy as np\n",
    "import cv2\n",
    "%matplotlib inline\n",
    "\n",
    "base_img = np.zeros((256,256),dtype=np.uint8)\n",
    "\n",
    "base_img = cv2.circle(base_img,center=(128,128), \n",
    "                 radius=32, \n",
    "                 color=255, \n",
    "                 thickness=-1)\n",
    "\n",
    "plt.title(\"Baseline\")\n",
    "plt.imshow(base_img)\n",
    "plt.show()\n",
    "\n",
    "# resize using cv2.resize\n",
    "imgx3 = cv2.resize(base_img, (256*3,256*3),interpolation=cv2.INTER_NEAREST)\n",
    "imgx3 = imgx3[256:512,256:512]\n",
    "\n",
    "plt.title(\"The Wrong Way: Saw Tooth\")\n",
    "plt.imshow(imgx3)\n",
    "plt.show()\n",
    "\n",
    "# resize using cv2 contours\n",
    "\n",
    "# extract the contours\n",
    "_, cnts_base, hierarchy = cv2.findContours(base_img, cv2.RETR_TREE, cv2.CHAIN_APPROX_SIMPLE)\n",
    "\n",
    "# create a new (empty) image\n",
    "imgx3 = np.zeros((256,256),dtype=np.uint8)\n",
    "\n",
    "# loop through the contours\n",
    "new_cnts = []\n",
    "for c in cnts_base:\n",
    "  # multiply them by 3, keeping 128,128 as the centre\n",
    "  c = (c - 128) * 3 + 128\n",
    "  new_cnts.append(c)\n",
    "\n",
    "cnts_base = new_cnts\n",
    "\n",
    "# draw the contours onto the empty image\n",
    "cv2.drawContours(imgx3,cnts_base,-1,255,-1)\n",
    "\n",
    "plt.title(\"A Better Way: Smooth\")\n",
    "plt.imshow(imgx3)\n",
    "plt.show()\n",
    "\n",
    "print(\"Done!\")"
   ]
  },
  {
   "cell_type": "code",
   "execution_count": 16,
   "metadata": {},
   "outputs": [
    {
     "data": {
      "text/plain": [
       "(array([  0, 255], dtype=uint8), array([62327,  3209]))"
      ]
     },
     "execution_count": 16,
     "metadata": {},
     "output_type": "execute_result"
    }
   ],
   "source": [
    "np.unique(base_img, return_counts=True)"
   ]
  },
  {
   "cell_type": "code",
   "execution_count": 17,
   "metadata": {},
   "outputs": [
    {
     "data": {
      "text/plain": [
       "28881"
      ]
     },
     "execution_count": 17,
     "metadata": {},
     "output_type": "execute_result"
    }
   ],
   "source": [
    "3209*9"
   ]
  },
  {
   "cell_type": "code",
   "execution_count": 18,
   "metadata": {},
   "outputs": [
    {
     "data": {
      "text/plain": [
       "(array([  0, 255], dtype=uint8), array([37203, 28333]))"
      ]
     },
     "execution_count": 18,
     "metadata": {},
     "output_type": "execute_result"
    }
   ],
   "source": [
    "np.unique(imgx3, return_counts=True)"
   ]
  },
  {
   "cell_type": "code",
   "execution_count": 19,
   "metadata": {},
   "outputs": [
    {
     "data": {
      "text/plain": [
       "(array([  0, 255], dtype=uint8), array([36655, 28881]))"
      ]
     },
     "execution_count": 19,
     "metadata": {},
     "output_type": "execute_result"
    }
   ],
   "source": [
    "imgx3 = cv2.resize(base_img, (256*3,256*3),interpolation=cv2.INTER_NEAREST)\n",
    "imgx3 = imgx3[256:512,256:512]\n",
    "\n",
    "np.unique(imgx3, return_counts=True)"
   ]
  },
  {
   "cell_type": "code",
   "execution_count": null,
   "metadata": {},
   "outputs": [],
   "source": []
  },
  {
   "cell_type": "code",
   "execution_count": null,
   "metadata": {},
   "outputs": [],
   "source": []
  }
 ],
 "metadata": {
  "kernelspec": {
   "display_name": "Python 3",
   "language": "python",
   "name": "python3"
  },
  "language_info": {
   "codemirror_mode": {
    "name": "ipython",
    "version": 3
   },
   "file_extension": ".py",
   "mimetype": "text/x-python",
   "name": "python",
   "nbconvert_exporter": "python",
   "pygments_lexer": "ipython3",
   "version": "3.6.4"
  }
 },
 "nbformat": 4,
 "nbformat_minor": 2
}
