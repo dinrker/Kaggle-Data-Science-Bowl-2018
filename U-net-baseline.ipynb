{
 "cells": [
  {
   "cell_type": "code",
   "execution_count": 1,
   "metadata": {},
   "outputs": [
    {
     "name": "stderr",
     "output_type": "stream",
     "text": [
      "Using TensorFlow backend.\n"
     ]
    }
   ],
   "source": [
    "import os\n",
    "import sys\n",
    "import random\n",
    "import warnings\n",
    "\n",
    "import numpy as np\n",
    "import pandas as pd\n",
    "\n",
    "import matplotlib.pyplot as plt\n",
    "\n",
    "from tqdm import tqdm\n",
    "from itertools import chain\n",
    "from skimage.io import imread, imshow, imread_collection, concatenate_images\n",
    "from skimage.transform import resize\n",
    "from skimage.morphology import label\n",
    "\n",
    "from keras.models import Model, load_model\n",
    "from keras.layers import Input\n",
    "from keras.layers.core import Dropout, Lambda\n",
    "from keras.layers.convolutional import Conv2D, Conv2DTranspose\n",
    "from keras.layers.pooling import MaxPooling2D\n",
    "from keras.layers.merge import concatenate\n",
    "from keras.callbacks import EarlyStopping, ModelCheckpoint\n",
    "from keras import backend as K\n",
    "\n",
    "import tensorflow as tf\n",
    "\n",
    "# Set some parameters\n",
    "IMG_WIDTH = 128\n",
    "IMG_HEIGHT = 128\n",
    "IMG_CHANNELS = 3\n",
    "TRAIN_PATH = '../input/stage1_train/'\n",
    "TEST_PATH = '../input/stage1_test/'\n",
    "\n",
    "warnings.filterwarnings('ignore', category=UserWarning, module='skimage')\n",
    "seed = 42\n",
    "random.seed = seed\n",
    "np.random.seed = seed"
   ]
  },
  {
   "cell_type": "code",
   "execution_count": 2,
   "metadata": {
    "collapsed": true
   },
   "outputs": [],
   "source": [
    "# Get train and test IDs\n",
    "train_ids = next(os.walk(TRAIN_PATH))[1]\n",
    "test_ids = next(os.walk(TEST_PATH))[1]"
   ]
  },
  {
   "cell_type": "code",
   "execution_count": 3,
   "metadata": {},
   "outputs": [
    {
     "name": "stdout",
     "output_type": "stream",
     "text": [
      "Getting and resizing train images and masks ... \n"
     ]
    },
    {
     "name": "stderr",
     "output_type": "stream",
     "text": [
      "100%|████████████████████████████████████████████████████████████████████████████████| 670/670 [01:10<00:00,  9.51it/s]\n"
     ]
    },
    {
     "name": "stdout",
     "output_type": "stream",
     "text": [
      "Getting and resizing test images ... \n"
     ]
    },
    {
     "name": "stderr",
     "output_type": "stream",
     "text": [
      "100%|█████████████████████████████████████████████████████████████████████████████████| 65/65 [00:00<00:00, 102.09it/s]\n"
     ]
    },
    {
     "name": "stdout",
     "output_type": "stream",
     "text": [
      "Done!\n"
     ]
    }
   ],
   "source": [
    "# Get and resize train images and masks\n",
    "X_train = np.zeros((len(train_ids), IMG_HEIGHT, IMG_WIDTH, IMG_CHANNELS), dtype=np.uint8)\n",
    "Y_train = np.zeros((len(train_ids), IMG_HEIGHT, IMG_WIDTH, 1), dtype=np.bool)\n",
    "print('Getting and resizing train images and masks ... ')\n",
    "sys.stdout.flush()\n",
    "for n, id_ in tqdm(enumerate(train_ids), total=len(train_ids)):\n",
    "    path = TRAIN_PATH + id_\n",
    "    img = imread(path + '/images/' + id_ + '.png')[:,:,:IMG_CHANNELS]\n",
    "    img = resize(img, (IMG_HEIGHT, IMG_WIDTH), mode='constant', preserve_range=True)\n",
    "    X_train[n] = img\n",
    "    mask = np.zeros((IMG_HEIGHT, IMG_WIDTH, 1), dtype=np.bool)\n",
    "    for mask_file in next(os.walk(path + '/masks/'))[2]:\n",
    "        mask_ = imread(path + '/masks/' + mask_file)\n",
    "        mask_ = np.expand_dims(resize(mask_, (IMG_HEIGHT, IMG_WIDTH), mode='constant', \n",
    "                                      preserve_range=True), axis=-1)\n",
    "        mask = np.maximum(mask, mask_)\n",
    "    Y_train[n] = mask\n",
    "\n",
    "# Get and resize test images\n",
    "X_test = np.zeros((len(test_ids), IMG_HEIGHT, IMG_WIDTH, IMG_CHANNELS), dtype=np.uint8)\n",
    "sizes_test = []\n",
    "print('Getting and resizing test images ... ')\n",
    "sys.stdout.flush()\n",
    "for n, id_ in tqdm(enumerate(test_ids), total=len(test_ids)):\n",
    "    path = TEST_PATH + id_\n",
    "    img = imread(path + '/images/' + id_ + '.png')[:,:,:IMG_CHANNELS]\n",
    "    sizes_test.append([img.shape[0], img.shape[1]])\n",
    "    img = resize(img, (IMG_HEIGHT, IMG_WIDTH), mode='constant', preserve_range=True)\n",
    "    X_test[n] = img\n",
    "\n",
    "print('Done!')"
   ]
  },
  {
   "cell_type": "code",
   "execution_count": 4,
   "metadata": {},
   "outputs": [
    {
     "data": {
      "image/png": "[encoded data removed]",
      "text/plain": [
       "<matplotlib.figure.Figure at 0x1c82ce80f98>"
      ]
     },
     "metadata": {},
     "output_type": "display_data"
    },
    {
     "data": {
      "image/png": "[encoded data removed]",
      "text/plain": [
       "<matplotlib.figure.Figure at 0x1c83454d6a0>"
      ]
     },
     "metadata": {},
     "output_type": "display_data"
    }
   ],
   "source": [
    "# Check if training data looks all right\n",
    "ix = random.randint(0, len(train_ids))\n",
    "imshow(X_train[ix])\n",
    "plt.show()\n",
    "imshow(np.squeeze(Y_train[ix]))\n",
    "plt.show()"
   ]
  },
  {
   "cell_type": "code",
   "execution_count": 5,
   "metadata": {},
   "outputs": [
    {
     "data": {
      "text/plain": [
       "((670, 128, 128, 3), (670, 128, 128, 1))"
      ]
     },
     "execution_count": 5,
     "metadata": {},
     "output_type": "execute_result"
    }
   ],
   "source": [
    "X_train.shape, Y_train.shape"
   ]
  },
  {
   "cell_type": "code",
   "execution_count": 6,
   "metadata": {},
   "outputs": [
    {
     "data": {
      "text/plain": [
       "((128, 128, 3), (128, 128))"
      ]
     },
     "execution_count": 6,
     "metadata": {},
     "output_type": "execute_result"
    }
   ],
   "source": [
    "X_train[ix].shape, np.squeeze(Y_train[ix]).shape"
   ]
  },
  {
   "cell_type": "code",
   "execution_count": 7,
   "metadata": {
    "collapsed": true
   },
   "outputs": [],
   "source": [
    "# Define IoU metric\n",
    "def mean_iou(y_true, y_pred):\n",
    "    prec = []\n",
    "    for t in np.arange(0.5, 1.0, 0.05):\n",
    "        y_pred_ = tf.to_int32(y_pred > t)\n",
    "        score, up_opt = tf.metrics.mean_iou(y_true, y_pred_, 2)\n",
    "        K.get_session().run(tf.local_variables_initializer())\n",
    "        with tf.control_dependencies([up_opt]):\n",
    "            score = tf.identity(score)\n",
    "        prec.append(score)\n",
    "    return K.mean(K.stack(prec), axis=0)"
   ]
  },
  {
   "cell_type": "code",
   "execution_count": 8,
   "metadata": {},
   "outputs": [
    {
     "name": "stdout",
     "output_type": "stream",
     "text": [
      "WARNING:tensorflow:From C:\\Users\\Dinrker\\Anaconda3\\lib\\site-packages\\keras\\backend\\tensorflow_backend.py:1349: calling reduce_mean (from tensorflow.python.ops.math_ops) with keep_dims is deprecated and will be removed in a future version.\n",
      "Instructions for updating:\n",
      "keep_dims is deprecated, use keepdims instead\n",
      "__________________________________________________________________________________________________\n",
      "Layer (type)                    Output Shape         Param #     Connected to                     \n",
      "==================================================================================================\n",
      "input_1 (InputLayer)            (None, 128, 128, 3)  0                                            \n",
      "__________________________________________________________________________________________________\n",
      "lambda_1 (Lambda)               (None, 128, 128, 3)  0           input_1[0][0]                    \n",
      "__________________________________________________________________________________________________\n",
      "conv2d_1 (Conv2D)               (None, 128, 128, 16) 448         lambda_1[0][0]                   \n",
      "__________________________________________________________________________________________________\n",
      "dropout_1 (Dropout)             (None, 128, 128, 16) 0           conv2d_1[0][0]                   \n",
      "__________________________________________________________________________________________________\n",
      "conv2d_2 (Conv2D)               (None, 128, 128, 16) 2320        dropout_1[0][0]                  \n",
      "__________________________________________________________________________________________________\n",
      "max_pooling2d_1 (MaxPooling2D)  (None, 64, 64, 16)   0           conv2d_2[0][0]                   \n",
      "__________________________________________________________________________________________________\n",
      "conv2d_3 (Conv2D)               (None, 64, 64, 32)   4640        max_pooling2d_1[0][0]            \n",
      "__________________________________________________________________________________________________\n",
      "dropout_2 (Dropout)             (None, 64, 64, 32)   0           conv2d_3[0][0]                   \n",
      "__________________________________________________________________________________________________\n",
      "conv2d_4 (Conv2D)               (None, 64, 64, 32)   9248        dropout_2[0][0]                  \n",
      "__________________________________________________________________________________________________\n",
      "max_pooling2d_2 (MaxPooling2D)  (None, 32, 32, 32)   0           conv2d_4[0][0]                   \n",
      "__________________________________________________________________________________________________\n",
      "conv2d_5 (Conv2D)               (None, 32, 32, 64)   18496       max_pooling2d_2[0][0]            \n",
      "__________________________________________________________________________________________________\n",
      "dropout_3 (Dropout)             (None, 32, 32, 64)   0           conv2d_5[0][0]                   \n",
      "__________________________________________________________________________________________________\n",
      "conv2d_6 (Conv2D)               (None, 32, 32, 64)   36928       dropout_3[0][0]                  \n",
      "__________________________________________________________________________________________________\n",
      "max_pooling2d_3 (MaxPooling2D)  (None, 16, 16, 64)   0           conv2d_6[0][0]                   \n",
      "__________________________________________________________________________________________________\n",
      "conv2d_7 (Conv2D)               (None, 16, 16, 128)  73856       max_pooling2d_3[0][0]            \n",
      "__________________________________________________________________________________________________\n",
      "dropout_4 (Dropout)             (None, 16, 16, 128)  0           conv2d_7[0][0]                   \n",
      "__________________________________________________________________________________________________\n",
      "conv2d_8 (Conv2D)               (None, 16, 16, 128)  147584      dropout_4[0][0]                  \n",
      "__________________________________________________________________________________________________\n",
      "max_pooling2d_4 (MaxPooling2D)  (None, 8, 8, 128)    0           conv2d_8[0][0]                   \n",
      "__________________________________________________________________________________________________\n",
      "conv2d_9 (Conv2D)               (None, 8, 8, 256)    295168      max_pooling2d_4[0][0]            \n",
      "__________________________________________________________________________________________________\n",
      "dropout_5 (Dropout)             (None, 8, 8, 256)    0           conv2d_9[0][0]                   \n",
      "__________________________________________________________________________________________________\n",
      "conv2d_10 (Conv2D)              (None, 8, 8, 256)    590080      dropout_5[0][0]                  \n",
      "__________________________________________________________________________________________________\n",
      "conv2d_transpose_1 (Conv2DTrans (None, 16, 16, 128)  131200      conv2d_10[0][0]                  \n",
      "__________________________________________________________________________________________________\n",
      "concatenate_1 (Concatenate)     (None, 16, 16, 256)  0           conv2d_transpose_1[0][0]         \n",
      "                                                                 conv2d_8[0][0]                   \n",
      "__________________________________________________________________________________________________\n",
      "conv2d_11 (Conv2D)              (None, 16, 16, 128)  295040      concatenate_1[0][0]              \n",
      "__________________________________________________________________________________________________\n",
      "dropout_6 (Dropout)             (None, 16, 16, 128)  0           conv2d_11[0][0]                  \n",
      "__________________________________________________________________________________________________\n",
      "conv2d_12 (Conv2D)              (None, 16, 16, 128)  147584      dropout_6[0][0]                  \n",
      "__________________________________________________________________________________________________\n",
      "conv2d_transpose_2 (Conv2DTrans (None, 32, 32, 64)   32832       conv2d_12[0][0]                  \n",
      "__________________________________________________________________________________________________\n",
      "concatenate_2 (Concatenate)     (None, 32, 32, 128)  0           conv2d_transpose_2[0][0]         \n",
      "                                                                 conv2d_6[0][0]                   \n",
      "__________________________________________________________________________________________________\n",
      "conv2d_13 (Conv2D)              (None, 32, 32, 64)   73792       concatenate_2[0][0]              \n",
      "__________________________________________________________________________________________________\n",
      "dropout_7 (Dropout)             (None, 32, 32, 64)   0           conv2d_13[0][0]                  \n",
      "__________________________________________________________________________________________________\n",
      "conv2d_14 (Conv2D)              (None, 32, 32, 64)   36928       dropout_7[0][0]                  \n",
      "__________________________________________________________________________________________________\n",
      "conv2d_transpose_3 (Conv2DTrans (None, 64, 64, 32)   8224        conv2d_14[0][0]                  \n",
      "__________________________________________________________________________________________________\n",
      "concatenate_3 (Concatenate)     (None, 64, 64, 64)   0           conv2d_transpose_3[0][0]         \n",
      "                                                                 conv2d_4[0][0]                   \n",
      "__________________________________________________________________________________________________\n",
      "conv2d_15 (Conv2D)              (None, 64, 64, 32)   18464       concatenate_3[0][0]              \n",
      "__________________________________________________________________________________________________\n",
      "dropout_8 (Dropout)             (None, 64, 64, 32)   0           conv2d_15[0][0]                  \n",
      "__________________________________________________________________________________________________\n",
      "conv2d_16 (Conv2D)              (None, 64, 64, 32)   9248        dropout_8[0][0]                  \n",
      "__________________________________________________________________________________________________\n",
      "conv2d_transpose_4 (Conv2DTrans (None, 128, 128, 16) 2064        conv2d_16[0][0]                  \n"
     ]
    },
    {
     "name": "stdout",
     "output_type": "stream",
     "text": [
      "__________________________________________________________________________________________________\n",
      "concatenate_4 (Concatenate)     (None, 128, 128, 32) 0           conv2d_transpose_4[0][0]         \n",
      "                                                                 conv2d_2[0][0]                   \n",
      "__________________________________________________________________________________________________\n",
      "conv2d_17 (Conv2D)              (None, 128, 128, 16) 4624        concatenate_4[0][0]              \n",
      "__________________________________________________________________________________________________\n",
      "dropout_9 (Dropout)             (None, 128, 128, 16) 0           conv2d_17[0][0]                  \n",
      "__________________________________________________________________________________________________\n",
      "conv2d_18 (Conv2D)              (None, 128, 128, 16) 2320        dropout_9[0][0]                  \n",
      "__________________________________________________________________________________________________\n",
      "conv2d_19 (Conv2D)              (None, 128, 128, 1)  17          conv2d_18[0][0]                  \n",
      "==================================================================================================\n",
      "Total params: 1,941,105\n",
      "Trainable params: 1,941,105\n",
      "Non-trainable params: 0\n",
      "__________________________________________________________________________________________________\n"
     ]
    }
   ],
   "source": [
    "# Build U-Net model\n",
    "inputs = Input((IMG_HEIGHT, IMG_WIDTH, IMG_CHANNELS))\n",
    "s = Lambda(lambda x: x / 255) (inputs)\n",
    "\n",
    "c1 = Conv2D(16, (3, 3), activation='elu', kernel_initializer='he_normal', padding='same') (s)\n",
    "c1 = Dropout(0.1) (c1)\n",
    "c1 = Conv2D(16, (3, 3), activation='elu', kernel_initializer='he_normal', padding='same') (c1)\n",
    "p1 = MaxPooling2D((2, 2)) (c1)\n",
    "\n",
    "c2 = Conv2D(32, (3, 3), activation='elu', kernel_initializer='he_normal', padding='same') (p1)\n",
    "c2 = Dropout(0.1) (c2)\n",
    "c2 = Conv2D(32, (3, 3), activation='elu', kernel_initializer='he_normal', padding='same') (c2)\n",
    "p2 = MaxPooling2D((2, 2)) (c2)\n",
    "\n",
    "c3 = Conv2D(64, (3, 3), activation='elu', kernel_initializer='he_normal', padding='same') (p2)\n",
    "c3 = Dropout(0.2) (c3)\n",
    "c3 = Conv2D(64, (3, 3), activation='elu', kernel_initializer='he_normal', padding='same') (c3)\n",
    "p3 = MaxPooling2D((2, 2)) (c3)\n",
    "\n",
    "c4 = Conv2D(128, (3, 3), activation='elu', kernel_initializer='he_normal', padding='same') (p3)\n",
    "c4 = Dropout(0.2) (c4)\n",
    "c4 = Conv2D(128, (3, 3), activation='elu', kernel_initializer='he_normal', padding='same') (c4)\n",
    "p4 = MaxPooling2D(pool_size=(2, 2)) (c4)\n",
    "\n",
    "c5 = Conv2D(256, (3, 3), activation='elu', kernel_initializer='he_normal', padding='same') (p4)\n",
    "c5 = Dropout(0.3) (c5)\n",
    "c5 = Conv2D(256, (3, 3), activation='elu', kernel_initializer='he_normal', padding='same') (c5)\n",
    "\n",
    "u6 = Conv2DTranspose(128, (2, 2), strides=(2, 2), padding='same') (c5)\n",
    "u6 = concatenate([u6, c4])\n",
    "c6 = Conv2D(128, (3, 3), activation='elu', kernel_initializer='he_normal', padding='same') (u6)\n",
    "c6 = Dropout(0.2) (c6)\n",
    "c6 = Conv2D(128, (3, 3), activation='elu', kernel_initializer='he_normal', padding='same') (c6)\n",
    "\n",
    "u7 = Conv2DTranspose(64, (2, 2), strides=(2, 2), padding='same') (c6)\n",
    "u7 = concatenate([u7, c3])\n",
    "c7 = Conv2D(64, (3, 3), activation='elu', kernel_initializer='he_normal', padding='same') (u7)\n",
    "c7 = Dropout(0.2) (c7)\n",
    "c7 = Conv2D(64, (3, 3), activation='elu', kernel_initializer='he_normal', padding='same') (c7)\n",
    "\n",
    "u8 = Conv2DTranspose(32, (2, 2), strides=(2, 2), padding='same') (c7)\n",
    "u8 = concatenate([u8, c2])\n",
    "c8 = Conv2D(32, (3, 3), activation='elu', kernel_initializer='he_normal', padding='same') (u8)\n",
    "c8 = Dropout(0.1) (c8)\n",
    "c8 = Conv2D(32, (3, 3), activation='elu', kernel_initializer='he_normal', padding='same') (c8)\n",
    "\n",
    "u9 = Conv2DTranspose(16, (2, 2), strides=(2, 2), padding='same') (c8)\n",
    "u9 = concatenate([u9, c1], axis=3)\n",
    "c9 = Conv2D(16, (3, 3), activation='elu', kernel_initializer='he_normal', padding='same') (u9)\n",
    "c9 = Dropout(0.1) (c9)\n",
    "c9 = Conv2D(16, (3, 3), activation='elu', kernel_initializer='he_normal', padding='same') (c9)\n",
    "\n",
    "outputs = Conv2D(1, (1, 1), activation='sigmoid') (c9)\n",
    "\n",
    "model = Model(inputs=[inputs], outputs=[outputs])\n",
    "model.compile(optimizer='adam', loss='binary_crossentropy', metrics=[mean_iou])\n",
    "model.summary()"
   ]
  },
  {
   "cell_type": "code",
   "execution_count": 9,
   "metadata": {
    "scrolled": false
   },
   "outputs": [
    {
     "name": "stdout",
     "output_type": "stream",
     "text": [
      "Train on 569 samples, validate on 101 samples\n",
      "Epoch 1/100\n",
      "544/569 [===========================>..] - ETA: 38s - loss: 0.6808 - mean_iou: 0.0000e+0 - ETA: 19s - loss: 0.6405 - mean_iou: 0.2045    - ETA: 12s - loss: 0.6049 - mean_iou: 0.273 - ETA: 9s - loss: 0.5812 - mean_iou: 0.310 - ETA: 7s - loss: 0.5602 - mean_iou: 0.33 - ETA: 5s - loss: 0.5429 - mean_iou: 0.34 - ETA: 4s - loss: 0.5335 - mean_iou: 0.35 - ETA: 3s - loss: 0.5267 - mean_iou: 0.36 - ETA: 3s - loss: 0.5135 - mean_iou: 0.37 - ETA: 2s - loss: 0.4995 - mean_iou: 0.37 - ETA: 2s - loss: 0.4917 - mean_iou: 0.38 - ETA: 1s - loss: 0.4847 - mean_iou: 0.38 - ETA: 1s - loss: 0.4787 - mean_iou: 0.38 - ETA: 1s - loss: 0.4677 - mean_iou: 0.39 - ETA: 0s - loss: 0.4645 - mean_iou: 0.39 - ETA: 0s - loss: 0.4565 - mean_iou: 0.39 - ETA: 0s - loss: 0.4525 - mean_iou: 0.3969Epoch 00001: val_loss improved from inf to 0.30653, saving model to model-dsbowl2018-1.h5\n",
      "569/569 [==============================] - 6s 10ms/step - loss: 0.4489 - mean_iou: 0.3981 - val_loss: 0.3065 - val_mean_iou: 0.4239\n",
      "Epoch 2/100\n",
      "544/569 [===========================>..] - ETA: 1s - loss: 0.3672 - mean_iou: 0.42 - ETA: 1s - loss: 0.3503 - mean_iou: 0.42 - ETA: 1s - loss: 0.3413 - mean_iou: 0.42 - ETA: 1s - loss: 0.5490 - mean_iou: 0.42 - ETA: 1s - loss: 0.4997 - mean_iou: 0.42 - ETA: 1s - loss: 0.4641 - mean_iou: 0.42 - ETA: 1s - loss: 0.4466 - mean_iou: 0.42 - ETA: 1s - loss: 0.4312 - mean_iou: 0.42 - ETA: 0s - loss: 0.4165 - mean_iou: 0.43 - ETA: 0s - loss: 0.3996 - mean_iou: 0.43 - ETA: 0s - loss: 0.3936 - mean_iou: 0.43 - ETA: 0s - loss: 0.3849 - mean_iou: 0.43 - ETA: 0s - loss: 0.3776 - mean_iou: 0.43 - ETA: 0s - loss: 0.3697 - mean_iou: 0.43 - ETA: 0s - loss: 0.3618 - mean_iou: 0.43 - ETA: 0s - loss: 0.3566 - mean_iou: 0.43 - ETA: 0s - loss: 0.3523 - mean_iou: 0.4331Epoch 00002: val_loss improved from 0.30653 to 0.23414, saving model to model-dsbowl2018-1.h5\n",
      "569/569 [==============================] - 3s 5ms/step - loss: 0.3480 - mean_iou: 0.4334 - val_loss: 0.2341 - val_mean_iou: 0.4431\n",
      "Epoch 3/100\n",
      "544/569 [===========================>..] - ETA: 2s - loss: 0.2039 - mean_iou: 0.44 - ETA: 1s - loss: 0.2417 - mean_iou: 0.44 - ETA: 1s - loss: 0.2457 - mean_iou: 0.44 - ETA: 1s - loss: 0.2397 - mean_iou: 0.45 - ETA: 1s - loss: 0.2399 - mean_iou: 0.45 - ETA: 1s - loss: 0.2432 - mean_iou: 0.45 - ETA: 1s - loss: 0.2496 - mean_iou: 0.45 - ETA: 1s - loss: 0.2568 - mean_iou: 0.45 - ETA: 0s - loss: 0.2554 - mean_iou: 0.45 - ETA: 0s - loss: 0.2553 - mean_iou: 0.45 - ETA: 0s - loss: 0.2492 - mean_iou: 0.45 - ETA: 0s - loss: 0.2498 - mean_iou: 0.45 - ETA: 0s - loss: 0.2475 - mean_iou: 0.45 - ETA: 0s - loss: 0.2458 - mean_iou: 0.45 - ETA: 0s - loss: 0.2447 - mean_iou: 0.45 - ETA: 0s - loss: 0.2428 - mean_iou: 0.46 - ETA: 0s - loss: 0.2448 - mean_iou: 0.4612Epoch 00003: val_loss improved from 0.23414 to 0.21512, saving model to model-dsbowl2018-1.h5\n",
      "569/569 [==============================] - 3s 5ms/step - loss: 0.2436 - mean_iou: 0.4619 - val_loss: 0.2151 - val_mean_iou: 0.4818\n",
      "Epoch 4/100\n",
      "544/569 [===========================>..] - ETA: 2s - loss: 0.1959 - mean_iou: 0.48 - ETA: 1s - loss: 0.2016 - mean_iou: 0.48 - ETA: 1s - loss: 0.2331 - mean_iou: 0.48 - ETA: 1s - loss: 0.2363 - mean_iou: 0.49 - ETA: 1s - loss: 0.2209 - mean_iou: 0.49 - ETA: 1s - loss: 0.2234 - mean_iou: 0.49 - ETA: 1s - loss: 0.2281 - mean_iou: 0.49 - ETA: 1s - loss: 0.2354 - mean_iou: 0.49 - ETA: 0s - loss: 0.2304 - mean_iou: 0.49 - ETA: 0s - loss: 0.2275 - mean_iou: 0.49 - ETA: 0s - loss: 0.2259 - mean_iou: 0.49 - ETA: 0s - loss: 0.2238 - mean_iou: 0.49 - ETA: 0s - loss: 0.2172 - mean_iou: 0.49 - ETA: 0s - loss: 0.2137 - mean_iou: 0.49 - ETA: 0s - loss: 0.2100 - mean_iou: 0.49 - ETA: 0s - loss: 0.2098 - mean_iou: 0.49 - ETA: 0s - loss: 0.2075 - mean_iou: 0.4996Epoch 00004: val_loss improved from 0.21512 to 0.18498, saving model to model-dsbowl2018-1.h5\n",
      "569/569 [==============================] - 3s 5ms/step - loss: 0.2073 - mean_iou: 0.5002 - val_loss: 0.1850 - val_mean_iou: 0.5167\n",
      "Epoch 5/100\n",
      "544/569 [===========================>..] - ETA: 2s - loss: 0.2048 - mean_iou: 0.51 - ETA: 1s - loss: 0.1889 - mean_iou: 0.51 - ETA: 1s - loss: 0.1923 - mean_iou: 0.52 - ETA: 1s - loss: 0.1925 - mean_iou: 0.52 - ETA: 1s - loss: 0.1935 - mean_iou: 0.52 - ETA: 1s - loss: 0.1953 - mean_iou: 0.52 - ETA: 1s - loss: 0.1968 - mean_iou: 0.52 - ETA: 1s - loss: 0.1970 - mean_iou: 0.52 - ETA: 0s - loss: 0.1904 - mean_iou: 0.52 - ETA: 0s - loss: 0.1879 - mean_iou: 0.52 - ETA: 0s - loss: 0.1834 - mean_iou: 0.52 - ETA: 0s - loss: 0.1854 - mean_iou: 0.52 - ETA: 0s - loss: 0.1819 - mean_iou: 0.52 - ETA: 0s - loss: 0.1813 - mean_iou: 0.52 - ETA: 0s - loss: 0.1797 - mean_iou: 0.52 - ETA: 0s - loss: 0.1777 - mean_iou: 0.52 - ETA: 0s - loss: 0.1778 - mean_iou: 0.5304Epoch 00005: val_loss improved from 0.18498 to 0.15742, saving model to model-dsbowl2018-1.h5\n",
      "569/569 [==============================] - 3s 5ms/step - loss: 0.1777 - mean_iou: 0.5310 - val_loss: 0.1574 - val_mean_iou: 0.5474\n",
      "Epoch 6/100\n",
      "544/569 [===========================>..] - ETA: 1s - loss: 0.2023 - mean_iou: 0.55 - ETA: 1s - loss: 0.1996 - mean_iou: 0.55 - ETA: 1s - loss: 0.1912 - mean_iou: 0.55 - ETA: 1s - loss: 0.1860 - mean_iou: 0.55 - ETA: 1s - loss: 0.1741 - mean_iou: 0.55 - ETA: 1s - loss: 0.1765 - mean_iou: 0.55 - ETA: 1s - loss: 0.1724 - mean_iou: 0.55 - ETA: 1s - loss: 0.1689 - mean_iou: 0.55 - ETA: 0s - loss: 0.1698 - mean_iou: 0.55 - ETA: 0s - loss: 0.1688 - mean_iou: 0.55 - ETA: 0s - loss: 0.1692 - mean_iou: 0.55 - ETA: 0s - loss: 0.1672 - mean_iou: 0.55 - ETA: 0s - loss: 0.1651 - mean_iou: 0.55 - ETA: 0s - loss: 0.1629 - mean_iou: 0.55 - ETA: 0s - loss: 0.1635 - mean_iou: 0.55 - ETA: 0s - loss: 0.1619 - mean_iou: 0.56 - ETA: 0s - loss: 0.1587 - mean_iou: 0.5611Epoch 00006: val_loss improved from 0.15742 to 0.15608, saving model to model-dsbowl2018-1.h5\n",
      "569/569 [==============================] - 3s 5ms/step - loss: 0.1576 - mean_iou: 0.5616 - val_loss: 0.1561 - val_mean_iou: 0.5747\n",
      "Epoch 7/100\n",
      "544/569 [===========================>..] - ETA: 2s - loss: 0.1432 - mean_iou: 0.57 - ETA: 1s - loss: 0.1527 - mean_iou: 0.57 - ETA: 1s - loss: 0.1468 - mean_iou: 0.57 - ETA: 1s - loss: 0.1607 - mean_iou: 0.57 - ETA: 1s - loss: 0.1544 - mean_iou: 0.57 - ETA: 1s - loss: 0.1521 - mean_iou: 0.57 - ETA: 1s - loss: 0.1527 - mean_iou: 0.58 - ETA: 1s - loss: 0.1545 - mean_iou: 0.58 - ETA: 0s - loss: 0.1555 - mean_iou: 0.58 - ETA: 0s - loss: 0.1538 - mean_iou: 0.58 - ETA: 0s - loss: 0.1507 - mean_iou: 0.58 - ETA: 0s - loss: 0.1513 - mean_iou: 0.58 - ETA: 0s - loss: 0.1502 - mean_iou: 0.58 - ETA: 0s - loss: 0.1489 - mean_iou: 0.58 - ETA: 0s - loss: 0.1495 - mean_iou: 0.58 - ETA: 0s - loss: 0.1502 - mean_iou: 0.58 - ETA: 0s - loss: 0.1514 - mean_iou: 0.5858Epoch 00007: val_loss improved from 0.15608 to 0.14628, saving model to model-dsbowl2018-1.h5\n",
      "569/569 [==============================] - 3s 5ms/step - loss: 0.1502 - mean_iou: 0.5863 - val_loss: 0.1463 - val_mean_iou: 0.5972\n",
      "Epoch 8/100\n",
      "544/569 [===========================>..] - ETA: 1s - loss: 0.1282 - mean_iou: 0.59 - ETA: 1s - loss: 0.1402 - mean_iou: 0.59 - ETA: 1s - loss: 0.1395 - mean_iou: 0.59 - ETA: 1s - loss: 0.1384 - mean_iou: 0.59 - ETA: 1s - loss: 0.1373 - mean_iou: 0.60 - ETA: 1s - loss: 0.1442 - mean_iou: 0.60 - ETA: 1s - loss: 0.1455 - mean_iou: 0.60 - ETA: 1s - loss: 0.1438 - mean_iou: 0.60 - ETA: 0s - loss: 0.1459 - mean_iou: 0.60 - ETA: 0s - loss: 0.1462 - mean_iou: 0.60 - ETA: 0s - loss: 0.1469 - mean_iou: 0.60 - ETA: 0s - loss: 0.1459 - mean_iou: 0.60 - ETA: 0s - loss: 0.1469 - mean_iou: 0.60 - ETA: 0s - loss: 0.1452 - mean_iou: 0.60 - ETA: 0s - loss: 0.1433 - mean_iou: 0.60 - ETA: 0s - loss: 0.1415 - mean_iou: 0.60 - ETA: 0s - loss: 0.1398 - mean_iou: 0.6059Epoch 00008: val_loss improved from 0.14628 to 0.13764, saving model to model-dsbowl2018-1.h5\n",
      "569/569 [==============================] - 3s 5ms/step - loss: 0.1394 - mean_iou: 0.6063 - val_loss: 0.1376 - val_mean_iou: 0.6158\n",
      "Epoch 9/100\n"
     ]
    },
    {
     "name": "stdout",
     "output_type": "stream",
     "text": [
      "544/569 [===========================>..] - ETA: 2s - loss: 0.1290 - mean_iou: 0.61 - ETA: 1s - loss: 0.1377 - mean_iou: 0.61 - ETA: 1s - loss: 0.1310 - mean_iou: 0.61 - ETA: 1s - loss: 0.1239 - mean_iou: 0.61 - ETA: 1s - loss: 0.1268 - mean_iou: 0.61 - ETA: 1s - loss: 0.1306 - mean_iou: 0.61 - ETA: 1s - loss: 0.1258 - mean_iou: 0.61 - ETA: 1s - loss: 0.1303 - mean_iou: 0.62 - ETA: 0s - loss: 0.1308 - mean_iou: 0.62 - ETA: 0s - loss: 0.1328 - mean_iou: 0.62 - ETA: 0s - loss: 0.1319 - mean_iou: 0.62 - ETA: 0s - loss: 0.1313 - mean_iou: 0.62 - ETA: 0s - loss: 0.1309 - mean_iou: 0.62 - ETA: 0s - loss: 0.1314 - mean_iou: 0.62 - ETA: 0s - loss: 0.1305 - mean_iou: 0.62 - ETA: 0s - loss: 0.1296 - mean_iou: 0.62 - ETA: 0s - loss: 0.1291 - mean_iou: 0.6237Epoch 00009: val_loss improved from 0.13764 to 0.12113, saving model to model-dsbowl2018-1.h5\n",
      "569/569 [==============================] - 3s 5ms/step - loss: 0.1288 - mean_iou: 0.6240 - val_loss: 0.1211 - val_mean_iou: 0.6324\n",
      "Epoch 10/100\n",
      "544/569 [===========================>..] - ETA: 2s - loss: 0.1087 - mean_iou: 0.63 - ETA: 1s - loss: 0.1123 - mean_iou: 0.63 - ETA: 1s - loss: 0.1227 - mean_iou: 0.63 - ETA: 1s - loss: 0.1230 - mean_iou: 0.63 - ETA: 1s - loss: 0.1268 - mean_iou: 0.63 - ETA: 1s - loss: 0.1271 - mean_iou: 0.63 - ETA: 1s - loss: 0.1260 - mean_iou: 0.63 - ETA: 1s - loss: 0.1261 - mean_iou: 0.63 - ETA: 0s - loss: 0.1242 - mean_iou: 0.63 - ETA: 0s - loss: 0.1256 - mean_iou: 0.63 - ETA: 0s - loss: 0.1276 - mean_iou: 0.63 - ETA: 0s - loss: 0.1234 - mean_iou: 0.63 - ETA: 0s - loss: 0.1245 - mean_iou: 0.63 - ETA: 0s - loss: 0.1259 - mean_iou: 0.63 - ETA: 0s - loss: 0.1282 - mean_iou: 0.63 - ETA: 0s - loss: 0.1297 - mean_iou: 0.63 - ETA: 0s - loss: 0.1290 - mean_iou: 0.6402Epoch 00010: val_loss did not improve\n",
      "569/569 [==============================] - 2s 4ms/step - loss: 0.1289 - mean_iou: 0.6405 - val_loss: 0.1283 - val_mean_iou: 0.6472\n",
      "Epoch 11/100\n",
      "544/569 [===========================>..] - ETA: 1s - loss: 0.1310 - mean_iou: 0.64 - ETA: 1s - loss: 0.1239 - mean_iou: 0.64 - ETA: 1s - loss: 0.1240 - mean_iou: 0.64 - ETA: 1s - loss: 0.1267 - mean_iou: 0.64 - ETA: 1s - loss: 0.1274 - mean_iou: 0.64 - ETA: 1s - loss: 0.1243 - mean_iou: 0.64 - ETA: 1s - loss: 0.1305 - mean_iou: 0.65 - ETA: 1s - loss: 0.1278 - mean_iou: 0.65 - ETA: 0s - loss: 0.1245 - mean_iou: 0.65 - ETA: 0s - loss: 0.1218 - mean_iou: 0.65 - ETA: 0s - loss: 0.1224 - mean_iou: 0.65 - ETA: 0s - loss: 0.1222 - mean_iou: 0.65 - ETA: 0s - loss: 0.1217 - mean_iou: 0.65 - ETA: 0s - loss: 0.1224 - mean_iou: 0.65 - ETA: 0s - loss: 0.1212 - mean_iou: 0.65 - ETA: 0s - loss: 0.1206 - mean_iou: 0.65 - ETA: 0s - loss: 0.1199 - mean_iou: 0.6533Epoch 00011: val_loss improved from 0.12113 to 0.11785, saving model to model-dsbowl2018-1.h5\n",
      "569/569 [==============================] - 3s 5ms/step - loss: 0.1211 - mean_iou: 0.6535 - val_loss: 0.1178 - val_mean_iou: 0.6601\n",
      "Epoch 12/100\n",
      "544/569 [===========================>..] - ETA: 2s - loss: 0.1313 - mean_iou: 0.66 - ETA: 1s - loss: 0.1204 - mean_iou: 0.66 - ETA: 1s - loss: 0.1109 - mean_iou: 0.66 - ETA: 1s - loss: 0.1137 - mean_iou: 0.66 - ETA: 1s - loss: 0.1178 - mean_iou: 0.66 - ETA: 1s - loss: 0.1176 - mean_iou: 0.66 - ETA: 1s - loss: 0.1176 - mean_iou: 0.66 - ETA: 1s - loss: 0.1192 - mean_iou: 0.66 - ETA: 0s - loss: 0.1155 - mean_iou: 0.66 - ETA: 0s - loss: 0.1161 - mean_iou: 0.66 - ETA: 0s - loss: 0.1139 - mean_iou: 0.66 - ETA: 0s - loss: 0.1123 - mean_iou: 0.66 - ETA: 0s - loss: 0.1125 - mean_iou: 0.66 - ETA: 0s - loss: 0.1152 - mean_iou: 0.66 - ETA: 0s - loss: 0.1169 - mean_iou: 0.66 - ETA: 0s - loss: 0.1162 - mean_iou: 0.66 - ETA: 0s - loss: 0.1160 - mean_iou: 0.6651Epoch 00012: val_loss improved from 0.11785 to 0.11399, saving model to model-dsbowl2018-1.h5\n",
      "569/569 [==============================] - 3s 5ms/step - loss: 0.1163 - mean_iou: 0.6653 - val_loss: 0.1140 - val_mean_iou: 0.6711\n",
      "Epoch 13/100\n",
      "544/569 [===========================>..] - ETA: 2s - loss: 0.1079 - mean_iou: 0.67 - ETA: 2s - loss: 0.1069 - mean_iou: 0.67 - ETA: 1s - loss: 0.0997 - mean_iou: 0.67 - ETA: 1s - loss: 0.1060 - mean_iou: 0.67 - ETA: 1s - loss: 0.1097 - mean_iou: 0.67 - ETA: 1s - loss: 0.1063 - mean_iou: 0.67 - ETA: 1s - loss: 0.1081 - mean_iou: 0.67 - ETA: 1s - loss: 0.1088 - mean_iou: 0.67 - ETA: 1s - loss: 0.1077 - mean_iou: 0.67 - ETA: 0s - loss: 0.1097 - mean_iou: 0.67 - ETA: 0s - loss: 0.1058 - mean_iou: 0.67 - ETA: 0s - loss: 0.1066 - mean_iou: 0.67 - ETA: 0s - loss: 0.1080 - mean_iou: 0.67 - ETA: 0s - loss: 0.1085 - mean_iou: 0.67 - ETA: 0s - loss: 0.1074 - mean_iou: 0.67 - ETA: 0s - loss: 0.1079 - mean_iou: 0.67 - ETA: 0s - loss: 0.1097 - mean_iou: 0.6760Epoch 00013: val_loss improved from 0.11399 to 0.10394, saving model to model-dsbowl2018-1.h5\n",
      "569/569 [==============================] - 3s 5ms/step - loss: 0.1106 - mean_iou: 0.6762 - val_loss: 0.1039 - val_mean_iou: 0.6813\n",
      "Epoch 14/100\n",
      "544/569 [===========================>..] - ETA: 2s - loss: 0.0979 - mean_iou: 0.68 - ETA: 1s - loss: 0.0964 - mean_iou: 0.68 - ETA: 1s - loss: 0.1203 - mean_iou: 0.68 - ETA: 1s - loss: 0.1148 - mean_iou: 0.68 - ETA: 1s - loss: 0.1100 - mean_iou: 0.68 - ETA: 1s - loss: 0.1096 - mean_iou: 0.68 - ETA: 1s - loss: 0.1171 - mean_iou: 0.68 - ETA: 1s - loss: 0.1166 - mean_iou: 0.68 - ETA: 0s - loss: 0.1132 - mean_iou: 0.68 - ETA: 0s - loss: 0.1129 - mean_iou: 0.68 - ETA: 0s - loss: 0.1120 - mean_iou: 0.68 - ETA: 0s - loss: 0.1109 - mean_iou: 0.68 - ETA: 0s - loss: 0.1087 - mean_iou: 0.68 - ETA: 0s - loss: 0.1099 - mean_iou: 0.68 - ETA: 0s - loss: 0.1081 - mean_iou: 0.68 - ETA: 0s - loss: 0.1084 - mean_iou: 0.68 - ETA: 0s - loss: 0.1067 - mean_iou: 0.6861Epoch 00014: val_loss improved from 0.10394 to 0.09837, saving model to model-dsbowl2018-1.h5\n",
      "569/569 [==============================] - 3s 5ms/step - loss: 0.1082 - mean_iou: 0.6862 - val_loss: 0.0984 - val_mean_iou: 0.6906\n",
      "Epoch 15/100\n",
      "544/569 [===========================>..] - ETA: 2s - loss: 0.1051 - mean_iou: 0.69 - ETA: 1s - loss: 0.1007 - mean_iou: 0.69 - ETA: 1s - loss: 0.1063 - mean_iou: 0.69 - ETA: 1s - loss: 0.1062 - mean_iou: 0.69 - ETA: 1s - loss: 0.1083 - mean_iou: 0.69 - ETA: 1s - loss: 0.1088 - mean_iou: 0.69 - ETA: 1s - loss: 0.1096 - mean_iou: 0.69 - ETA: 1s - loss: 0.1074 - mean_iou: 0.69 - ETA: 0s - loss: 0.1037 - mean_iou: 0.69 - ETA: 0s - loss: 0.1025 - mean_iou: 0.69 - ETA: 0s - loss: 0.1037 - mean_iou: 0.69 - ETA: 0s - loss: 0.1018 - mean_iou: 0.69 - ETA: 0s - loss: 0.1009 - mean_iou: 0.69 - ETA: 0s - loss: 0.1012 - mean_iou: 0.69 - ETA: 0s - loss: 0.1014 - mean_iou: 0.69 - ETA: 0s - loss: 0.1030 - mean_iou: 0.69 - ETA: 0s - loss: 0.1027 - mean_iou: 0.6946Epoch 00015: val_loss did not improve\n",
      "569/569 [==============================] - 2s 4ms/step - loss: 0.1032 - mean_iou: 0.6948 - val_loss: 0.1032 - val_mean_iou: 0.6990\n",
      "Epoch 16/100\n",
      "544/569 [===========================>..] - ETA: 1s - loss: 0.1415 - mean_iou: 0.69 - ETA: 1s - loss: 0.1244 - mean_iou: 0.69 - ETA: 1s - loss: 0.1203 - mean_iou: 0.70 - ETA: 1s - loss: 0.1140 - mean_iou: 0.70 - ETA: 1s - loss: 0.1139 - mean_iou: 0.70 - ETA: 1s - loss: 0.1096 - mean_iou: 0.70 - ETA: 1s - loss: 0.1047 - mean_iou: 0.70 - ETA: 1s - loss: 0.1017 - mean_iou: 0.70 - ETA: 0s - loss: 0.0997 - mean_iou: 0.70 - ETA: 0s - loss: 0.0984 - mean_iou: 0.70 - ETA: 0s - loss: 0.0981 - mean_iou: 0.70 - ETA: 0s - loss: 0.0975 - mean_iou: 0.70 - ETA: 0s - loss: 0.0998 - mean_iou: 0.70 - ETA: 0s - loss: 0.0995 - mean_iou: 0.70 - ETA: 0s - loss: 0.1034 - mean_iou: 0.70 - ETA: 0s - loss: 0.1011 - mean_iou: 0.70 - ETA: 0s - loss: 0.1009 - mean_iou: 0.7026Epoch 00016: val_loss improved from 0.09837 to 0.09741, saving model to model-dsbowl2018-1.h5\n",
      "569/569 [==============================] - 3s 5ms/step - loss: 0.1004 - mean_iou: 0.7028 - val_loss: 0.0974 - val_mean_iou: 0.7066\n",
      "Epoch 17/100\n"
     ]
    },
    {
     "name": "stdout",
     "output_type": "stream",
     "text": [
      "544/569 [===========================>..] - ETA: 2s - loss: 0.1028 - mean_iou: 0.70 - ETA: 1s - loss: 0.1101 - mean_iou: 0.70 - ETA: 1s - loss: 0.0988 - mean_iou: 0.70 - ETA: 1s - loss: 0.0968 - mean_iou: 0.70 - ETA: 1s - loss: 0.1033 - mean_iou: 0.70 - ETA: 1s - loss: 0.1005 - mean_iou: 0.70 - ETA: 1s - loss: 0.0994 - mean_iou: 0.70 - ETA: 1s - loss: 0.0971 - mean_iou: 0.70 - ETA: 0s - loss: 0.0981 - mean_iou: 0.70 - ETA: 0s - loss: 0.0959 - mean_iou: 0.70 - ETA: 0s - loss: 0.0971 - mean_iou: 0.70 - ETA: 0s - loss: 0.0990 - mean_iou: 0.70 - ETA: 0s - loss: 0.0985 - mean_iou: 0.70 - ETA: 0s - loss: 0.0987 - mean_iou: 0.70 - ETA: 0s - loss: 0.1000 - mean_iou: 0.70 - ETA: 0s - loss: 0.0985 - mean_iou: 0.70 - ETA: 0s - loss: 0.0974 - mean_iou: 0.7097Epoch 00017: val_loss did not improve\n",
      "569/569 [==============================] - 2s 4ms/step - loss: 0.0982 - mean_iou: 0.7099 - val_loss: 0.0986 - val_mean_iou: 0.7134\n",
      "Epoch 18/100\n",
      "544/569 [===========================>..] - ETA: 1s - loss: 0.0907 - mean_iou: 0.71 - ETA: 1s - loss: 0.0889 - mean_iou: 0.71 - ETA: 1s - loss: 0.0877 - mean_iou: 0.71 - ETA: 1s - loss: 0.0919 - mean_iou: 0.71 - ETA: 1s - loss: 0.0893 - mean_iou: 0.71 - ETA: 1s - loss: 0.0928 - mean_iou: 0.71 - ETA: 1s - loss: 0.0908 - mean_iou: 0.71 - ETA: 1s - loss: 0.0896 - mean_iou: 0.71 - ETA: 0s - loss: 0.0967 - mean_iou: 0.71 - ETA: 0s - loss: 0.0984 - mean_iou: 0.71 - ETA: 0s - loss: 0.0980 - mean_iou: 0.71 - ETA: 0s - loss: 0.0961 - mean_iou: 0.71 - ETA: 0s - loss: 0.0973 - mean_iou: 0.71 - ETA: 0s - loss: 0.0972 - mean_iou: 0.71 - ETA: 0s - loss: 0.0964 - mean_iou: 0.71 - ETA: 0s - loss: 0.0973 - mean_iou: 0.71 - ETA: 0s - loss: 0.0969 - mean_iou: 0.7166Epoch 00018: val_loss did not improve\n",
      "569/569 [==============================] - 2s 4ms/step - loss: 0.0969 - mean_iou: 0.7167 - val_loss: 0.1004 - val_mean_iou: 0.7197\n",
      "Epoch 19/100\n",
      "544/569 [===========================>..] - ETA: 1s - loss: 0.0997 - mean_iou: 0.72 - ETA: 1s - loss: 0.0994 - mean_iou: 0.72 - ETA: 1s - loss: 0.0950 - mean_iou: 0.72 - ETA: 1s - loss: 0.0944 - mean_iou: 0.72 - ETA: 1s - loss: 0.0986 - mean_iou: 0.72 - ETA: 1s - loss: 0.0983 - mean_iou: 0.72 - ETA: 1s - loss: 0.0983 - mean_iou: 0.72 - ETA: 1s - loss: 0.0962 - mean_iou: 0.72 - ETA: 0s - loss: 0.0936 - mean_iou: 0.72 - ETA: 0s - loss: 0.0911 - mean_iou: 0.72 - ETA: 0s - loss: 0.0931 - mean_iou: 0.72 - ETA: 0s - loss: 0.0934 - mean_iou: 0.72 - ETA: 0s - loss: 0.0939 - mean_iou: 0.72 - ETA: 0s - loss: 0.0952 - mean_iou: 0.72 - ETA: 0s - loss: 0.0951 - mean_iou: 0.72 - ETA: 0s - loss: 0.0943 - mean_iou: 0.72 - ETA: 0s - loss: 0.0932 - mean_iou: 0.7225Epoch 00019: val_loss improved from 0.09741 to 0.08621, saving model to model-dsbowl2018-1.h5\n",
      "569/569 [==============================] - 3s 5ms/step - loss: 0.0941 - mean_iou: 0.7226 - val_loss: 0.0862 - val_mean_iou: 0.7255\n",
      "Epoch 20/100\n",
      "544/569 [===========================>..] - ETA: 2s - loss: 0.0879 - mean_iou: 0.72 - ETA: 1s - loss: 0.0902 - mean_iou: 0.72 - ETA: 1s - loss: 0.0866 - mean_iou: 0.72 - ETA: 1s - loss: 0.0910 - mean_iou: 0.72 - ETA: 1s - loss: 0.0922 - mean_iou: 0.72 - ETA: 1s - loss: 0.0888 - mean_iou: 0.72 - ETA: 1s - loss: 0.0901 - mean_iou: 0.72 - ETA: 1s - loss: 0.0904 - mean_iou: 0.72 - ETA: 0s - loss: 0.0870 - mean_iou: 0.72 - ETA: 0s - loss: 0.0910 - mean_iou: 0.72 - ETA: 0s - loss: 0.0924 - mean_iou: 0.72 - ETA: 0s - loss: 0.0923 - mean_iou: 0.72 - ETA: 0s - loss: 0.0912 - mean_iou: 0.72 - ETA: 0s - loss: 0.0902 - mean_iou: 0.72 - ETA: 0s - loss: 0.0904 - mean_iou: 0.72 - ETA: 0s - loss: 0.0919 - mean_iou: 0.72 - ETA: 0s - loss: 0.0930 - mean_iou: 0.7283Epoch 00020: val_loss did not improve\n",
      "569/569 [==============================] - 2s 4ms/step - loss: 0.0931 - mean_iou: 0.7284 - val_loss: 0.0864 - val_mean_iou: 0.7310\n",
      "Epoch 21/100\n",
      "544/569 [===========================>..] - ETA: 1s - loss: 0.0963 - mean_iou: 0.73 - ETA: 1s - loss: 0.0962 - mean_iou: 0.73 - ETA: 1s - loss: 0.0990 - mean_iou: 0.73 - ETA: 1s - loss: 0.0953 - mean_iou: 0.73 - ETA: 1s - loss: 0.0986 - mean_iou: 0.73 - ETA: 1s - loss: 0.0939 - mean_iou: 0.73 - ETA: 1s - loss: 0.0908 - mean_iou: 0.73 - ETA: 1s - loss: 0.0899 - mean_iou: 0.73 - ETA: 0s - loss: 0.0927 - mean_iou: 0.73 - ETA: 0s - loss: 0.0949 - mean_iou: 0.73 - ETA: 0s - loss: 0.0950 - mean_iou: 0.73 - ETA: 0s - loss: 0.0933 - mean_iou: 0.73 - ETA: 0s - loss: 0.0937 - mean_iou: 0.73 - ETA: 0s - loss: 0.0957 - mean_iou: 0.73 - ETA: 0s - loss: 0.0938 - mean_iou: 0.73 - ETA: 0s - loss: 0.0926 - mean_iou: 0.73 - ETA: 0s - loss: 0.0929 - mean_iou: 0.7334Epoch 00021: val_loss did not improve\n",
      "569/569 [==============================] - 2s 4ms/step - loss: 0.0923 - mean_iou: 0.7335 - val_loss: 0.0913 - val_mean_iou: 0.7359\n",
      "Epoch 22/100\n",
      "544/569 [===========================>..] - ETA: 1s - loss: 0.0926 - mean_iou: 0.73 - ETA: 1s - loss: 0.0888 - mean_iou: 0.73 - ETA: 1s - loss: 0.0933 - mean_iou: 0.73 - ETA: 1s - loss: 0.0921 - mean_iou: 0.73 - ETA: 1s - loss: 0.0913 - mean_iou: 0.73 - ETA: 1s - loss: 0.0910 - mean_iou: 0.73 - ETA: 1s - loss: 0.0869 - mean_iou: 0.73 - ETA: 1s - loss: 0.0878 - mean_iou: 0.73 - ETA: 0s - loss: 0.0869 - mean_iou: 0.73 - ETA: 0s - loss: 0.0877 - mean_iou: 0.73 - ETA: 0s - loss: 0.0874 - mean_iou: 0.73 - ETA: 0s - loss: 0.0863 - mean_iou: 0.73 - ETA: 0s - loss: 0.0861 - mean_iou: 0.73 - ETA: 0s - loss: 0.0885 - mean_iou: 0.73 - ETA: 0s - loss: 0.0898 - mean_iou: 0.73 - ETA: 0s - loss: 0.0896 - mean_iou: 0.73 - ETA: 0s - loss: 0.0888 - mean_iou: 0.7382Epoch 00022: val_loss improved from 0.08621 to 0.08617, saving model to model-dsbowl2018-1.h5\n",
      "569/569 [==============================] - 3s 5ms/step - loss: 0.0899 - mean_iou: 0.7383 - val_loss: 0.0862 - val_mean_iou: 0.7404\n",
      "Epoch 23/100\n",
      "544/569 [===========================>..] - ETA: 2s - loss: 0.0953 - mean_iou: 0.74 - ETA: 1s - loss: 0.1000 - mean_iou: 0.74 - ETA: 1s - loss: 0.1022 - mean_iou: 0.74 - ETA: 1s - loss: 0.0934 - mean_iou: 0.74 - ETA: 1s - loss: 0.0912 - mean_iou: 0.74 - ETA: 1s - loss: 0.0914 - mean_iou: 0.74 - ETA: 1s - loss: 0.0959 - mean_iou: 0.74 - ETA: 1s - loss: 0.0977 - mean_iou: 0.74 - ETA: 0s - loss: 0.0954 - mean_iou: 0.74 - ETA: 0s - loss: 0.0945 - mean_iou: 0.74 - ETA: 0s - loss: 0.0939 - mean_iou: 0.74 - ETA: 0s - loss: 0.0927 - mean_iou: 0.74 - ETA: 0s - loss: 0.0926 - mean_iou: 0.74 - ETA: 0s - loss: 0.0916 - mean_iou: 0.74 - ETA: 0s - loss: 0.0904 - mean_iou: 0.74 - ETA: 0s - loss: 0.0918 - mean_iou: 0.74 - ETA: 0s - loss: 0.0921 - mean_iou: 0.7426Epoch 00023: val_loss improved from 0.08617 to 0.08559, saving model to model-dsbowl2018-1.h5\n",
      "569/569 [==============================] - 3s 5ms/step - loss: 0.0914 - mean_iou: 0.7427 - val_loss: 0.0856 - val_mean_iou: 0.7449\n",
      "Epoch 24/100\n",
      "544/569 [===========================>..] - ETA: 2s - loss: 0.0704 - mean_iou: 0.74 - ETA: 1s - loss: 0.0689 - mean_iou: 0.74 - ETA: 1s - loss: 0.0748 - mean_iou: 0.74 - ETA: 1s - loss: 0.0744 - mean_iou: 0.74 - ETA: 1s - loss: 0.0753 - mean_iou: 0.74 - ETA: 1s - loss: 0.0772 - mean_iou: 0.74 - ETA: 1s - loss: 0.0811 - mean_iou: 0.74 - ETA: 1s - loss: 0.0828 - mean_iou: 0.74 - ETA: 0s - loss: 0.0819 - mean_iou: 0.74 - ETA: 0s - loss: 0.0822 - mean_iou: 0.74 - ETA: 0s - loss: 0.0821 - mean_iou: 0.74 - ETA: 0s - loss: 0.0821 - mean_iou: 0.74 - ETA: 0s - loss: 0.0843 - mean_iou: 0.74 - ETA: 0s - loss: 0.0840 - mean_iou: 0.74 - ETA: 0s - loss: 0.0859 - mean_iou: 0.74 - ETA: 0s - loss: 0.0868 - mean_iou: 0.74 - ETA: 0s - loss: 0.0868 - mean_iou: 0.7469Epoch 00024: val_loss improved from 0.08559 to 0.08557, saving model to model-dsbowl2018-1.h5\n",
      "569/569 [==============================] - 3s 5ms/step - loss: 0.0874 - mean_iou: 0.7469 - val_loss: 0.0856 - val_mean_iou: 0.7490\n",
      "Epoch 25/100\n"
     ]
    },
    {
     "name": "stdout",
     "output_type": "stream",
     "text": [
      "544/569 [===========================>..] - ETA: 2s - loss: 0.0823 - mean_iou: 0.74 - ETA: 1s - loss: 0.0943 - mean_iou: 0.74 - ETA: 1s - loss: 0.0880 - mean_iou: 0.74 - ETA: 1s - loss: 0.0819 - mean_iou: 0.74 - ETA: 1s - loss: 0.0820 - mean_iou: 0.74 - ETA: 1s - loss: 0.0867 - mean_iou: 0.74 - ETA: 1s - loss: 0.0871 - mean_iou: 0.74 - ETA: 1s - loss: 0.0865 - mean_iou: 0.74 - ETA: 0s - loss: 0.0869 - mean_iou: 0.74 - ETA: 0s - loss: 0.0866 - mean_iou: 0.75 - ETA: 0s - loss: 0.0882 - mean_iou: 0.75 - ETA: 0s - loss: 0.0878 - mean_iou: 0.75 - ETA: 0s - loss: 0.0871 - mean_iou: 0.75 - ETA: 0s - loss: 0.0870 - mean_iou: 0.75 - ETA: 0s - loss: 0.0877 - mean_iou: 0.75 - ETA: 0s - loss: 0.0884 - mean_iou: 0.75 - ETA: 0s - loss: 0.0876 - mean_iou: 0.7506Epoch 00025: val_loss improved from 0.08557 to 0.07833, saving model to model-dsbowl2018-1.h5\n",
      "569/569 [==============================] - 3s 5ms/step - loss: 0.0867 - mean_iou: 0.7507 - val_loss: 0.0783 - val_mean_iou: 0.7526\n",
      "Epoch 26/100\n",
      "544/569 [===========================>..] - ETA: 2s - loss: 0.0783 - mean_iou: 0.75 - ETA: 1s - loss: 0.0770 - mean_iou: 0.75 - ETA: 1s - loss: 0.0775 - mean_iou: 0.75 - ETA: 1s - loss: 0.0792 - mean_iou: 0.75 - ETA: 1s - loss: 0.0770 - mean_iou: 0.75 - ETA: 1s - loss: 0.0778 - mean_iou: 0.75 - ETA: 1s - loss: 0.0817 - mean_iou: 0.75 - ETA: 1s - loss: 0.0858 - mean_iou: 0.75 - ETA: 0s - loss: 0.0878 - mean_iou: 0.75 - ETA: 0s - loss: 0.0857 - mean_iou: 0.75 - ETA: 0s - loss: 0.0841 - mean_iou: 0.75 - ETA: 0s - loss: 0.0838 - mean_iou: 0.75 - ETA: 0s - loss: 0.0849 - mean_iou: 0.75 - ETA: 0s - loss: 0.0842 - mean_iou: 0.75 - ETA: 0s - loss: 0.0840 - mean_iou: 0.75 - ETA: 0s - loss: 0.0849 - mean_iou: 0.75 - ETA: 0s - loss: 0.0872 - mean_iou: 0.7543Epoch 00026: val_loss did not improve\n",
      "569/569 [==============================] - 2s 4ms/step - loss: 0.0865 - mean_iou: 0.7544 - val_loss: 0.0823 - val_mean_iou: 0.7562\n",
      "Epoch 27/100\n",
      "544/569 [===========================>..] - ETA: 1s - loss: 0.0923 - mean_iou: 0.75 - ETA: 1s - loss: 0.0939 - mean_iou: 0.75 - ETA: 1s - loss: 0.0830 - mean_iou: 0.75 - ETA: 1s - loss: 0.0880 - mean_iou: 0.75 - ETA: 1s - loss: 0.0911 - mean_iou: 0.75 - ETA: 1s - loss: 0.0886 - mean_iou: 0.75 - ETA: 1s - loss: 0.0872 - mean_iou: 0.75 - ETA: 1s - loss: 0.0840 - mean_iou: 0.75 - ETA: 0s - loss: 0.0824 - mean_iou: 0.75 - ETA: 0s - loss: 0.0825 - mean_iou: 0.75 - ETA: 0s - loss: 0.0819 - mean_iou: 0.75 - ETA: 0s - loss: 0.0821 - mean_iou: 0.75 - ETA: 0s - loss: 0.0827 - mean_iou: 0.75 - ETA: 0s - loss: 0.0846 - mean_iou: 0.75 - ETA: 0s - loss: 0.0854 - mean_iou: 0.75 - ETA: 0s - loss: 0.0844 - mean_iou: 0.75 - ETA: 0s - loss: 0.0846 - mean_iou: 0.7579Epoch 00027: val_loss improved from 0.07833 to 0.07573, saving model to model-dsbowl2018-1.h5\n",
      "569/569 [==============================] - 3s 5ms/step - loss: 0.0843 - mean_iou: 0.7579 - val_loss: 0.0757 - val_mean_iou: 0.7595\n",
      "Epoch 28/100\n",
      "544/569 [===========================>..] - ETA: 2s - loss: 0.0959 - mean_iou: 0.75 - ETA: 2s - loss: 0.0948 - mean_iou: 0.75 - ETA: 1s - loss: 0.0897 - mean_iou: 0.76 - ETA: 1s - loss: 0.0859 - mean_iou: 0.76 - ETA: 1s - loss: 0.0881 - mean_iou: 0.76 - ETA: 1s - loss: 0.0828 - mean_iou: 0.76 - ETA: 1s - loss: 0.0826 - mean_iou: 0.76 - ETA: 1s - loss: 0.0829 - mean_iou: 0.76 - ETA: 0s - loss: 0.0861 - mean_iou: 0.76 - ETA: 0s - loss: 0.0836 - mean_iou: 0.76 - ETA: 0s - loss: 0.0821 - mean_iou: 0.76 - ETA: 0s - loss: 0.0812 - mean_iou: 0.76 - ETA: 0s - loss: 0.0833 - mean_iou: 0.76 - ETA: 0s - loss: 0.0819 - mean_iou: 0.76 - ETA: 0s - loss: 0.0822 - mean_iou: 0.76 - ETA: 0s - loss: 0.0827 - mean_iou: 0.76 - ETA: 0s - loss: 0.0828 - mean_iou: 0.7612Epoch 00028: val_loss did not improve\n",
      "569/569 [==============================] - 2s 4ms/step - loss: 0.0826 - mean_iou: 0.7612 - val_loss: 0.0795 - val_mean_iou: 0.7628\n",
      "Epoch 29/100\n",
      "544/569 [===========================>..] - ETA: 1s - loss: 0.0850 - mean_iou: 0.76 - ETA: 1s - loss: 0.0993 - mean_iou: 0.76 - ETA: 1s - loss: 0.0940 - mean_iou: 0.76 - ETA: 1s - loss: 0.0920 - mean_iou: 0.76 - ETA: 1s - loss: 0.0881 - mean_iou: 0.76 - ETA: 1s - loss: 0.0893 - mean_iou: 0.76 - ETA: 1s - loss: 0.0904 - mean_iou: 0.76 - ETA: 1s - loss: 0.0894 - mean_iou: 0.76 - ETA: 0s - loss: 0.0877 - mean_iou: 0.76 - ETA: 0s - loss: 0.0863 - mean_iou: 0.76 - ETA: 0s - loss: 0.0856 - mean_iou: 0.76 - ETA: 0s - loss: 0.0845 - mean_iou: 0.76 - ETA: 0s - loss: 0.0868 - mean_iou: 0.76 - ETA: 0s - loss: 0.0871 - mean_iou: 0.76 - ETA: 0s - loss: 0.0851 - mean_iou: 0.76 - ETA: 0s - loss: 0.0847 - mean_iou: 0.76 - ETA: 0s - loss: 0.0836 - mean_iou: 0.7643Epoch 00029: val_loss improved from 0.07573 to 0.07526, saving model to model-dsbowl2018-1.h5\n",
      "569/569 [==============================] - 3s 5ms/step - loss: 0.0830 - mean_iou: 0.7644 - val_loss: 0.0753 - val_mean_iou: 0.7658\n",
      "Epoch 30/100\n",
      "544/569 [===========================>..] - ETA: 2s - loss: 0.0668 - mean_iou: 0.76 - ETA: 1s - loss: 0.0613 - mean_iou: 0.76 - ETA: 1s - loss: 0.0747 - mean_iou: 0.76 - ETA: 1s - loss: 0.0720 - mean_iou: 0.76 - ETA: 1s - loss: 0.0753 - mean_iou: 0.76 - ETA: 1s - loss: 0.0786 - mean_iou: 0.76 - ETA: 1s - loss: 0.0777 - mean_iou: 0.76 - ETA: 1s - loss: 0.0774 - mean_iou: 0.76 - ETA: 0s - loss: 0.0779 - mean_iou: 0.76 - ETA: 0s - loss: 0.0786 - mean_iou: 0.76 - ETA: 0s - loss: 0.0792 - mean_iou: 0.76 - ETA: 0s - loss: 0.0802 - mean_iou: 0.76 - ETA: 0s - loss: 0.0800 - mean_iou: 0.76 - ETA: 0s - loss: 0.0787 - mean_iou: 0.76 - ETA: 0s - loss: 0.0795 - mean_iou: 0.76 - ETA: 0s - loss: 0.0801 - mean_iou: 0.76 - ETA: 0s - loss: 0.0803 - mean_iou: 0.7672Epoch 00030: val_loss did not improve\n",
      "569/569 [==============================] - 2s 4ms/step - loss: 0.0806 - mean_iou: 0.7673 - val_loss: 0.0826 - val_mean_iou: 0.7688\n",
      "Epoch 31/100\n",
      "544/569 [===========================>..] - ETA: 1s - loss: 0.0703 - mean_iou: 0.76 - ETA: 1s - loss: 0.0679 - mean_iou: 0.76 - ETA: 1s - loss: 0.0630 - mean_iou: 0.76 - ETA: 1s - loss: 0.0720 - mean_iou: 0.76 - ETA: 1s - loss: 0.0770 - mean_iou: 0.76 - ETA: 1s - loss: 0.0757 - mean_iou: 0.76 - ETA: 1s - loss: 0.0762 - mean_iou: 0.76 - ETA: 1s - loss: 0.0768 - mean_iou: 0.76 - ETA: 0s - loss: 0.0768 - mean_iou: 0.76 - ETA: 0s - loss: 0.0773 - mean_iou: 0.76 - ETA: 0s - loss: 0.0794 - mean_iou: 0.76 - ETA: 0s - loss: 0.0791 - mean_iou: 0.76 - ETA: 0s - loss: 0.0791 - mean_iou: 0.76 - ETA: 0s - loss: 0.0782 - mean_iou: 0.76 - ETA: 0s - loss: 0.0789 - mean_iou: 0.76 - ETA: 0s - loss: 0.0798 - mean_iou: 0.77 - ETA: 0s - loss: 0.0800 - mean_iou: 0.7701Epoch 00031: val_loss improved from 0.07526 to 0.07434, saving model to model-dsbowl2018-1.h5\n",
      "569/569 [==============================] - 3s 5ms/step - loss: 0.0803 - mean_iou: 0.7701 - val_loss: 0.0743 - val_mean_iou: 0.7714\n",
      "Epoch 32/100\n",
      "544/569 [===========================>..] - ETA: 2s - loss: 0.0670 - mean_iou: 0.77 - ETA: 1s - loss: 0.0699 - mean_iou: 0.77 - ETA: 1s - loss: 0.0697 - mean_iou: 0.77 - ETA: 1s - loss: 0.0704 - mean_iou: 0.77 - ETA: 1s - loss: 0.0745 - mean_iou: 0.77 - ETA: 1s - loss: 0.0771 - mean_iou: 0.77 - ETA: 1s - loss: 0.0811 - mean_iou: 0.77 - ETA: 1s - loss: 0.0792 - mean_iou: 0.77 - ETA: 0s - loss: 0.0806 - mean_iou: 0.77 - ETA: 0s - loss: 0.0798 - mean_iou: 0.77 - ETA: 0s - loss: 0.0791 - mean_iou: 0.77 - ETA: 0s - loss: 0.0791 - mean_iou: 0.77 - ETA: 0s - loss: 0.0781 - mean_iou: 0.77 - ETA: 0s - loss: 0.0782 - mean_iou: 0.77 - ETA: 0s - loss: 0.0792 - mean_iou: 0.77 - ETA: 0s - loss: 0.0786 - mean_iou: 0.77 - ETA: 0s - loss: 0.0786 - mean_iou: 0.7727Epoch 00032: val_loss did not improve\n",
      "569/569 [==============================] - 2s 4ms/step - loss: 0.0794 - mean_iou: 0.7728 - val_loss: 0.0751 - val_mean_iou: 0.7741\n",
      "Epoch 33/100\n"
     ]
    },
    {
     "name": "stdout",
     "output_type": "stream",
     "text": [
      "544/569 [===========================>..] - ETA: 1s - loss: 0.0801 - mean_iou: 0.77 - ETA: 1s - loss: 0.0725 - mean_iou: 0.77 - ETA: 1s - loss: 0.0771 - mean_iou: 0.77 - ETA: 1s - loss: 0.0734 - mean_iou: 0.77 - ETA: 1s - loss: 0.0735 - mean_iou: 0.77 - ETA: 1s - loss: 0.0769 - mean_iou: 0.77 - ETA: 1s - loss: 0.0753 - mean_iou: 0.77 - ETA: 1s - loss: 0.0764 - mean_iou: 0.77 - ETA: 0s - loss: 0.0771 - mean_iou: 0.77 - ETA: 0s - loss: 0.0773 - mean_iou: 0.77 - ETA: 0s - loss: 0.0792 - mean_iou: 0.77 - ETA: 0s - loss: 0.0814 - mean_iou: 0.77 - ETA: 0s - loss: 0.0803 - mean_iou: 0.77 - ETA: 0s - loss: 0.0804 - mean_iou: 0.77 - ETA: 0s - loss: 0.0798 - mean_iou: 0.77 - ETA: 0s - loss: 0.0801 - mean_iou: 0.77 - ETA: 0s - loss: 0.0803 - mean_iou: 0.7752Epoch 00033: val_loss did not improve\n",
      "569/569 [==============================] - 2s 4ms/step - loss: 0.0795 - mean_iou: 0.7753 - val_loss: 0.0792 - val_mean_iou: 0.7765\n",
      "Epoch 34/100\n",
      "544/569 [===========================>..] - ETA: 1s - loss: 0.1078 - mean_iou: 0.77 - ETA: 1s - loss: 0.0967 - mean_iou: 0.77 - ETA: 1s - loss: 0.0874 - mean_iou: 0.77 - ETA: 1s - loss: 0.0844 - mean_iou: 0.77 - ETA: 1s - loss: 0.0827 - mean_iou: 0.77 - ETA: 1s - loss: 0.0796 - mean_iou: 0.77 - ETA: 1s - loss: 0.0795 - mean_iou: 0.77 - ETA: 1s - loss: 0.0809 - mean_iou: 0.77 - ETA: 0s - loss: 0.0778 - mean_iou: 0.77 - ETA: 0s - loss: 0.0803 - mean_iou: 0.77 - ETA: 0s - loss: 0.0805 - mean_iou: 0.77 - ETA: 0s - loss: 0.0814 - mean_iou: 0.77 - ETA: 0s - loss: 0.0826 - mean_iou: 0.77 - ETA: 0s - loss: 0.0828 - mean_iou: 0.77 - ETA: 0s - loss: 0.0825 - mean_iou: 0.77 - ETA: 0s - loss: 0.0817 - mean_iou: 0.77 - ETA: 0s - loss: 0.0818 - mean_iou: 0.7776Epoch 00034: val_loss did not improve\n",
      "569/569 [==============================] - 2s 4ms/step - loss: 0.0812 - mean_iou: 0.7776 - val_loss: 0.0780 - val_mean_iou: 0.7787\n",
      "Epoch 35/100\n",
      "544/569 [===========================>..] - ETA: 1s - loss: 0.0648 - mean_iou: 0.77 - ETA: 1s - loss: 0.0839 - mean_iou: 0.77 - ETA: 1s - loss: 0.0761 - mean_iou: 0.77 - ETA: 1s - loss: 0.0715 - mean_iou: 0.77 - ETA: 1s - loss: 0.0733 - mean_iou: 0.77 - ETA: 1s - loss: 0.0811 - mean_iou: 0.77 - ETA: 1s - loss: 0.0833 - mean_iou: 0.77 - ETA: 1s - loss: 0.0810 - mean_iou: 0.77 - ETA: 0s - loss: 0.0821 - mean_iou: 0.77 - ETA: 0s - loss: 0.0801 - mean_iou: 0.77 - ETA: 0s - loss: 0.0800 - mean_iou: 0.77 - ETA: 0s - loss: 0.0776 - mean_iou: 0.77 - ETA: 0s - loss: 0.0772 - mean_iou: 0.77 - ETA: 0s - loss: 0.0777 - mean_iou: 0.77 - ETA: 0s - loss: 0.0767 - mean_iou: 0.77 - ETA: 0s - loss: 0.0766 - mean_iou: 0.77 - ETA: 0s - loss: 0.0772 - mean_iou: 0.7798Epoch 00035: val_loss improved from 0.07434 to 0.07259, saving model to model-dsbowl2018-1.h5\n",
      "569/569 [==============================] - 3s 5ms/step - loss: 0.0783 - mean_iou: 0.7798 - val_loss: 0.0726 - val_mean_iou: 0.7809\n",
      "Epoch 36/100\n",
      "544/569 [===========================>..] - ETA: 2s - loss: 0.0789 - mean_iou: 0.78 - ETA: 1s - loss: 0.0843 - mean_iou: 0.78 - ETA: 1s - loss: 0.0804 - mean_iou: 0.78 - ETA: 1s - loss: 0.0803 - mean_iou: 0.78 - ETA: 1s - loss: 0.0795 - mean_iou: 0.78 - ETA: 1s - loss: 0.0763 - mean_iou: 0.78 - ETA: 1s - loss: 0.0797 - mean_iou: 0.78 - ETA: 1s - loss: 0.0800 - mean_iou: 0.78 - ETA: 0s - loss: 0.0807 - mean_iou: 0.78 - ETA: 0s - loss: 0.0788 - mean_iou: 0.78 - ETA: 0s - loss: 0.0768 - mean_iou: 0.78 - ETA: 0s - loss: 0.0767 - mean_iou: 0.78 - ETA: 0s - loss: 0.0768 - mean_iou: 0.78 - ETA: 0s - loss: 0.0770 - mean_iou: 0.78 - ETA: 0s - loss: 0.0774 - mean_iou: 0.78 - ETA: 0s - loss: 0.0782 - mean_iou: 0.78 - ETA: 0s - loss: 0.0777 - mean_iou: 0.7820Epoch 00036: val_loss did not improve\n",
      "569/569 [==============================] - 2s 4ms/step - loss: 0.0782 - mean_iou: 0.7820 - val_loss: 0.0767 - val_mean_iou: 0.7830\n",
      "Epoch 37/100\n",
      "544/569 [===========================>..] - ETA: 1s - loss: 0.1137 - mean_iou: 0.78 - ETA: 1s - loss: 0.0968 - mean_iou: 0.78 - ETA: 1s - loss: 0.0841 - mean_iou: 0.78 - ETA: 1s - loss: 0.0793 - mean_iou: 0.78 - ETA: 1s - loss: 0.0787 - mean_iou: 0.78 - ETA: 1s - loss: 0.0813 - mean_iou: 0.78 - ETA: 1s - loss: 0.0785 - mean_iou: 0.78 - ETA: 1s - loss: 0.0817 - mean_iou: 0.78 - ETA: 0s - loss: 0.0820 - mean_iou: 0.78 - ETA: 0s - loss: 0.0811 - mean_iou: 0.78 - ETA: 0s - loss: 0.0797 - mean_iou: 0.78 - ETA: 0s - loss: 0.0782 - mean_iou: 0.78 - ETA: 0s - loss: 0.0780 - mean_iou: 0.78 - ETA: 0s - loss: 0.0776 - mean_iou: 0.78 - ETA: 0s - loss: 0.0776 - mean_iou: 0.78 - ETA: 0s - loss: 0.0773 - mean_iou: 0.78 - ETA: 0s - loss: 0.0771 - mean_iou: 0.7839Epoch 00037: val_loss improved from 0.07259 to 0.07191, saving model to model-dsbowl2018-1.h5\n",
      "569/569 [==============================] - 3s 5ms/step - loss: 0.0789 - mean_iou: 0.7839 - val_loss: 0.0719 - val_mean_iou: 0.7849\n",
      "Epoch 38/100\n",
      "544/569 [===========================>..] - ETA: 2s - loss: 0.0656 - mean_iou: 0.78 - ETA: 1s - loss: 0.0712 - mean_iou: 0.78 - ETA: 1s - loss: 0.0906 - mean_iou: 0.78 - ETA: 1s - loss: 0.0835 - mean_iou: 0.78 - ETA: 1s - loss: 0.0829 - mean_iou: 0.78 - ETA: 1s - loss: 0.0819 - mean_iou: 0.78 - ETA: 1s - loss: 0.0835 - mean_iou: 0.78 - ETA: 1s - loss: 0.0817 - mean_iou: 0.78 - ETA: 0s - loss: 0.0828 - mean_iou: 0.78 - ETA: 0s - loss: 0.0804 - mean_iou: 0.78 - ETA: 0s - loss: 0.0792 - mean_iou: 0.78 - ETA: 0s - loss: 0.0791 - mean_iou: 0.78 - ETA: 0s - loss: 0.0786 - mean_iou: 0.78 - ETA: 0s - loss: 0.0785 - mean_iou: 0.78 - ETA: 0s - loss: 0.0791 - mean_iou: 0.78 - ETA: 0s - loss: 0.0777 - mean_iou: 0.78 - ETA: 0s - loss: 0.0771 - mean_iou: 0.7859Epoch 00038: val_loss did not improve\n",
      "569/569 [==============================] - 2s 4ms/step - loss: 0.0769 - mean_iou: 0.7859 - val_loss: 0.0756 - val_mean_iou: 0.7869\n",
      "Epoch 39/100\n",
      "544/569 [===========================>..] - ETA: 1s - loss: 0.0573 - mean_iou: 0.78 - ETA: 1s - loss: 0.0734 - mean_iou: 0.78 - ETA: 1s - loss: 0.0704 - mean_iou: 0.78 - ETA: 1s - loss: 0.0706 - mean_iou: 0.78 - ETA: 1s - loss: 0.0744 - mean_iou: 0.78 - ETA: 1s - loss: 0.0762 - mean_iou: 0.78 - ETA: 1s - loss: 0.0749 - mean_iou: 0.78 - ETA: 1s - loss: 0.0749 - mean_iou: 0.78 - ETA: 0s - loss: 0.0739 - mean_iou: 0.78 - ETA: 0s - loss: 0.0738 - mean_iou: 0.78 - ETA: 0s - loss: 0.0740 - mean_iou: 0.78 - ETA: 0s - loss: 0.0741 - mean_iou: 0.78 - ETA: 0s - loss: 0.0737 - mean_iou: 0.78 - ETA: 0s - loss: 0.0743 - mean_iou: 0.78 - ETA: 0s - loss: 0.0736 - mean_iou: 0.78 - ETA: 0s - loss: 0.0757 - mean_iou: 0.78 - ETA: 0s - loss: 0.0751 - mean_iou: 0.7878Epoch 00039: val_loss improved from 0.07191 to 0.07110, saving model to model-dsbowl2018-1.h5\n",
      "569/569 [==============================] - 3s 5ms/step - loss: 0.0745 - mean_iou: 0.7879 - val_loss: 0.0711 - val_mean_iou: 0.7888\n",
      "Epoch 40/100\n",
      "544/569 [===========================>..] - ETA: 2s - loss: 0.0798 - mean_iou: 0.78 - ETA: 1s - loss: 0.0733 - mean_iou: 0.78 - ETA: 1s - loss: 0.0741 - mean_iou: 0.78 - ETA: 1s - loss: 0.0719 - mean_iou: 0.78 - ETA: 1s - loss: 0.0754 - mean_iou: 0.78 - ETA: 1s - loss: 0.0739 - mean_iou: 0.78 - ETA: 1s - loss: 0.0751 - mean_iou: 0.78 - ETA: 1s - loss: 0.0740 - mean_iou: 0.78 - ETA: 0s - loss: 0.0733 - mean_iou: 0.78 - ETA: 0s - loss: 0.0738 - mean_iou: 0.78 - ETA: 0s - loss: 0.0741 - mean_iou: 0.78 - ETA: 0s - loss: 0.0737 - mean_iou: 0.78 - ETA: 0s - loss: 0.0761 - mean_iou: 0.78 - ETA: 0s - loss: 0.0768 - mean_iou: 0.78 - ETA: 0s - loss: 0.0754 - mean_iou: 0.78 - ETA: 0s - loss: 0.0746 - mean_iou: 0.78 - ETA: 0s - loss: 0.0753 - mean_iou: 0.7896Epoch 00040: val_loss did not improve\n",
      "569/569 [==============================] - 2s 4ms/step - loss: 0.0744 - mean_iou: 0.7897 - val_loss: 0.0718 - val_mean_iou: 0.7906\n",
      "Epoch 41/100\n"
     ]
    },
    {
     "name": "stdout",
     "output_type": "stream",
     "text": [
      "544/569 [===========================>..] - ETA: 1s - loss: 0.0670 - mean_iou: 0.79 - ETA: 1s - loss: 0.0777 - mean_iou: 0.79 - ETA: 1s - loss: 0.0745 - mean_iou: 0.79 - ETA: 1s - loss: 0.0720 - mean_iou: 0.79 - ETA: 1s - loss: 0.0727 - mean_iou: 0.79 - ETA: 1s - loss: 0.0690 - mean_iou: 0.79 - ETA: 1s - loss: 0.0698 - mean_iou: 0.79 - ETA: 1s - loss: 0.0724 - mean_iou: 0.79 - ETA: 0s - loss: 0.0724 - mean_iou: 0.79 - ETA: 0s - loss: 0.0731 - mean_iou: 0.79 - ETA: 0s - loss: 0.0747 - mean_iou: 0.79 - ETA: 0s - loss: 0.0757 - mean_iou: 0.79 - ETA: 0s - loss: 0.0763 - mean_iou: 0.79 - ETA: 0s - loss: 0.0742 - mean_iou: 0.79 - ETA: 0s - loss: 0.0752 - mean_iou: 0.79 - ETA: 0s - loss: 0.0753 - mean_iou: 0.79 - ETA: 0s - loss: 0.0747 - mean_iou: 0.7913Epoch 00041: val_loss did not improve\n",
      "569/569 [==============================] - 2s 4ms/step - loss: 0.0744 - mean_iou: 0.7914 - val_loss: 0.0749 - val_mean_iou: 0.7923\n",
      "Epoch 42/100\n",
      "544/569 [===========================>..] - ETA: 1s - loss: 0.0676 - mean_iou: 0.79 - ETA: 1s - loss: 0.0755 - mean_iou: 0.79 - ETA: 1s - loss: 0.0725 - mean_iou: 0.79 - ETA: 1s - loss: 0.0771 - mean_iou: 0.79 - ETA: 1s - loss: 0.0772 - mean_iou: 0.79 - ETA: 1s - loss: 0.0776 - mean_iou: 0.79 - ETA: 1s - loss: 0.0770 - mean_iou: 0.79 - ETA: 1s - loss: 0.0764 - mean_iou: 0.79 - ETA: 0s - loss: 0.0752 - mean_iou: 0.79 - ETA: 0s - loss: 0.0754 - mean_iou: 0.79 - ETA: 0s - loss: 0.0767 - mean_iou: 0.79 - ETA: 0s - loss: 0.0758 - mean_iou: 0.79 - ETA: 0s - loss: 0.0750 - mean_iou: 0.79 - ETA: 0s - loss: 0.0771 - mean_iou: 0.79 - ETA: 0s - loss: 0.0773 - mean_iou: 0.79 - ETA: 0s - loss: 0.0774 - mean_iou: 0.79 - ETA: 0s - loss: 0.0759 - mean_iou: 0.7931Epoch 00042: val_loss did not improve\n",
      "569/569 [==============================] - 2s 4ms/step - loss: 0.0747 - mean_iou: 0.7931 - val_loss: 0.0729 - val_mean_iou: 0.7939\n",
      "Epoch 43/100\n",
      "544/569 [===========================>..] - ETA: 1s - loss: 0.1016 - mean_iou: 0.79 - ETA: 1s - loss: 0.0837 - mean_iou: 0.79 - ETA: 1s - loss: 0.0855 - mean_iou: 0.79 - ETA: 1s - loss: 0.0804 - mean_iou: 0.79 - ETA: 1s - loss: 0.0783 - mean_iou: 0.79 - ETA: 1s - loss: 0.0776 - mean_iou: 0.79 - ETA: 1s - loss: 0.0764 - mean_iou: 0.79 - ETA: 1s - loss: 0.0759 - mean_iou: 0.79 - ETA: 0s - loss: 0.0777 - mean_iou: 0.79 - ETA: 0s - loss: 0.0776 - mean_iou: 0.79 - ETA: 0s - loss: 0.0766 - mean_iou: 0.79 - ETA: 0s - loss: 0.0748 - mean_iou: 0.79 - ETA: 0s - loss: 0.0735 - mean_iou: 0.79 - ETA: 0s - loss: 0.0732 - mean_iou: 0.79 - ETA: 0s - loss: 0.0734 - mean_iou: 0.79 - ETA: 0s - loss: 0.0728 - mean_iou: 0.79 - ETA: 0s - loss: 0.0730 - mean_iou: 0.7947Epoch 00043: val_loss did not improve\n",
      "569/569 [==============================] - 2s 4ms/step - loss: 0.0727 - mean_iou: 0.7947 - val_loss: 0.0718 - val_mean_iou: 0.7955\n",
      "Epoch 44/100\n",
      "544/569 [===========================>..] - ETA: 1s - loss: 0.0848 - mean_iou: 0.79 - ETA: 1s - loss: 0.0850 - mean_iou: 0.79 - ETA: 1s - loss: 0.0803 - mean_iou: 0.79 - ETA: 1s - loss: 0.0769 - mean_iou: 0.79 - ETA: 1s - loss: 0.0740 - mean_iou: 0.79 - ETA: 1s - loss: 0.0717 - mean_iou: 0.79 - ETA: 1s - loss: 0.0724 - mean_iou: 0.79 - ETA: 1s - loss: 0.0748 - mean_iou: 0.79 - ETA: 0s - loss: 0.0785 - mean_iou: 0.79 - ETA: 0s - loss: 0.0782 - mean_iou: 0.79 - ETA: 0s - loss: 0.0784 - mean_iou: 0.79 - ETA: 0s - loss: 0.0781 - mean_iou: 0.79 - ETA: 0s - loss: 0.0769 - mean_iou: 0.79 - ETA: 0s - loss: 0.0764 - mean_iou: 0.79 - ETA: 0s - loss: 0.0758 - mean_iou: 0.79 - ETA: 0s - loss: 0.0739 - mean_iou: 0.79 - ETA: 0s - loss: 0.0736 - mean_iou: 0.7962Epoch 00044: val_loss did not improve\n",
      "569/569 [==============================] - 2s 4ms/step - loss: 0.0729 - mean_iou: 0.7962 - val_loss: 0.0760 - val_mean_iou: 0.7970\n",
      "Epoch 00044: early stopping\n"
     ]
    }
   ],
   "source": [
    "# Fit model\n",
    "earlystopper = EarlyStopping(patience=5, verbose=1)\n",
    "checkpointer = ModelCheckpoint('model-dsbowl2018-1.h5', verbose=1, save_best_only=True)\n",
    "results = model.fit(X_train, Y_train, validation_split=0.15, batch_size=32, epochs=100, \n",
    "                    callbacks=[earlystopper, checkpointer])"
   ]
  },
  {
   "cell_type": "code",
   "execution_count": 10,
   "metadata": {},
   "outputs": [
    {
     "name": "stdout",
     "output_type": "stream",
     "text": [
      "603/603 [==============================] - ETA:  - ETA:  - ETA:  - ETA:  - ETA:  - ETA:  - ETA:  - ETA:  - 1s 1ms/step\n",
      "67/67 [==============================] - ETA:  - 0s 2ms/step\n",
      "65/65 [==============================] - ETA:  - 0s 1ms/step\n"
     ]
    }
   ],
   "source": [
    "# Predict on train, val and test\n",
    "model = load_model('model-dsbowl2018-1.h5', custom_objects={'mean_iou': mean_iou})\n",
    "preds_train = model.predict(X_train[:int(X_train.shape[0]*0.9)], verbose=1)\n",
    "preds_val = model.predict(X_train[int(X_train.shape[0]*0.9):], verbose=1)\n",
    "preds_test = model.predict(X_test, verbose=1)\n",
    "\n",
    "# Threshold predictions\n",
    "preds_train_t = (preds_train > 0.5).astype(np.uint8)\n",
    "preds_val_t = (preds_val > 0.5).astype(np.uint8)\n",
    "preds_test_t = (preds_test > 0.5).astype(np.uint8)\n",
    "\n",
    "# Create list of upsampled test masks\n",
    "preds_test_upsampled = []\n",
    "for i in range(len(preds_test)):\n",
    "    preds_test_upsampled.append(resize(np.squeeze(preds_test[i]), \n",
    "                                       (sizes_test[i][0], sizes_test[i][1]), \n",
    "                                       mode='constant', preserve_range=True))"
   ]
  },
  {
   "cell_type": "code",
   "execution_count": 11,
   "metadata": {},
   "outputs": [
    {
     "data": {
      "image/png": "[encoded data removed]",
      "text/plain": [
       "<matplotlib.figure.Figure at 0x1ca76298ba8>"
      ]
     },
     "metadata": {},
     "output_type": "display_data"
    },
    {
     "data": {
      "image/png": "[encoded data removed]",
      "text/plain": [
       "<matplotlib.figure.Figure at 0x1cab403d6d8>"
      ]
     },
     "metadata": {},
     "output_type": "display_data"
    },
    {
     "data": {
      "image/png": "[encoded data removed]",
      "text/plain": [
       "<matplotlib.figure.Figure at 0x1cab4481e10>"
      ]
     },
     "metadata": {},
     "output_type": "display_data"
    }
   ],
   "source": [
    "# Perform a sanity check on some random training samples\n",
    "ix = random.randint(0, len(preds_train_t))\n",
    "imshow(X_train[ix])\n",
    "plt.show()\n",
    "imshow(np.squeeze(Y_train[ix]))\n",
    "plt.show()\n",
    "imshow(np.squeeze(preds_train_t[ix]))\n",
    "plt.show()"
   ]
  },
  {
   "cell_type": "code",
   "execution_count": 12,
   "metadata": {
    "collapsed": true
   },
   "outputs": [],
   "source": [
    "# Run-length encoding stolen from https://www.kaggle.com/rakhlin/fast-run-length-encoding-python\n",
    "def rle_encoding(x):\n",
    "    dots = np.where(x.T.flatten() == 1)[0]\n",
    "    run_lengths = []\n",
    "    prev = -2\n",
    "    for b in dots:\n",
    "        if (b>prev+1): run_lengths.extend((b + 1, 0))\n",
    "        run_lengths[-1] += 1\n",
    "        prev = b\n",
    "    return run_lengths\n",
    "\n",
    "def prob_to_rles(x, cutoff=0.5):\n",
    "    lab_img = label(x > cutoff)\n",
    "    for i in range(1, lab_img.max() + 1):\n",
    "        yield rle_encoding(lab_img == i)"
   ]
  },
  {
   "cell_type": "code",
   "execution_count": 13,
   "metadata": {
    "collapsed": true
   },
   "outputs": [],
   "source": [
    "new_test_ids = []\n",
    "rles = []\n",
    "for n, id_ in enumerate(test_ids):\n",
    "    rle = list(prob_to_rles(preds_test_upsampled[n]))\n",
    "    rles.extend(rle)\n",
    "    new_test_ids.extend([id_] * len(rle))"
   ]
  },
  {
   "cell_type": "code",
   "execution_count": 14,
   "metadata": {
    "collapsed": true
   },
   "outputs": [],
   "source": [
    "# Create submission DataFrame\n",
    "sub = pd.DataFrame()\n",
    "sub['ImageId'] = new_test_ids\n",
    "sub['EncodedPixels'] = pd.Series(rles).apply(lambda x: ' '.join(str(y) for y in x))\n",
    "sub.to_csv('sub-dsbowl2018-1.csv', index=False)"
   ]
  },
  {
   "cell_type": "code",
   "execution_count": null,
   "metadata": {
    "collapsed": true
   },
   "outputs": [],
   "source": []
  },
  {
   "cell_type": "code",
   "execution_count": null,
   "metadata": {
    "collapsed": true
   },
   "outputs": [],
   "source": []
  },
  {
   "cell_type": "code",
   "execution_count": null,
   "metadata": {
    "collapsed": true
   },
   "outputs": [],
   "source": []
  }
 ],
 "metadata": {
  "kernelspec": {
   "display_name": "Python 3",
   "language": "python",
   "name": "python3"
  },
  "language_info": {
   "codemirror_mode": {
    "name": "ipython",
    "version": 3
   },
   "file_extension": ".py",
   "mimetype": "text/x-python",
   "name": "python",
   "nbconvert_exporter": "python",
   "pygments_lexer": "ipython3",
   "version": "3.6.3"
  }
 },
 "nbformat": 4,
 "nbformat_minor": 2
}
